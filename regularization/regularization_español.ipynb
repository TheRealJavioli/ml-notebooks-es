{
 "cells": [
  {
   "cell_type": "markdown",
   "metadata": {
    "id": "F4VWKTacgC36"
   },
   "source": [
    "Este es un \"notebook\" (cuaderno digital) para mostrar el efecto de la regularización de Ridge y Lasso.\n",
    "\n",
    "Acompaña al Capítulo 5 del libro (3 de 5).\n",
    "\n",
    "Autora: Viviana Acquaviva, con contribuciones de Jake Postiglione y Olga Privman."
   ]
  },
  {
   "cell_type": "code",
   "metadata": {
    "id": "NpailcoogC3_",
    "executionInfo": {
     "status": "ok",
     "timestamp": 1684009320332,
     "user_tz": 240,
     "elapsed": 1764,
     "user": {
      "displayName": "Genaro Suarez",
      "userId": "01104011119764010032"
     }
    }
   },
   "source": [
    "import numpy as np\n",
    "import pandas as pd\n",
    "from scipy import stats\n",
    "import matplotlib\n",
    "import matplotlib.pyplot as plt\n",
    "from sklearn import metrics\n",
    "from sklearn.pipeline import make_pipeline\n",
    "from sklearn.preprocessing import StandardScaler\n",
    "from sklearn import linear_model\n",
    "\n",
    "font = {'size'   : 16}\n",
    "matplotlib.rc('font', **font)\n",
    "matplotlib.rc('xtick', labelsize=14) \n",
    "matplotlib.rc('ytick', labelsize=14) \n",
    "matplotlib.rcParams.update({'figure.autolayout': False})\n",
    "matplotlib.rcParams['figure.dpi'] = 300"
   ],
   "outputs": [],
   "execution_count": null
  },
  {
   "cell_type": "code",
   "metadata": {
    "id": "RSuB5Fa7gC4B",
    "executionInfo": {
     "status": "ok",
     "timestamp": 1684009320334,
     "user_tz": 240,
     "elapsed": 24,
     "user": {
      "displayName": "Genaro Suarez",
      "userId": "01104011119764010032"
     }
    },
    "colab": {
     "base_uri": "https://localhost:8080/"
    },
    "outputId": "c17b376b-3149-4c7f-8039-b37c614fede5"
   },
   "source": [
    "import sklearn\n",
    "print('The scikit-learn version is {}.'.format(sklearn.__version__))"
   ],
   "outputs": [],
   "execution_count": null
  },
  {
   "cell_type": "code",
   "source": [
    "from sklearn import linear_model"
   ],
   "metadata": {
    "id": "nk6eEVRkq2Ol",
    "executionInfo": {
     "status": "ok",
     "timestamp": 1684009320334,
     "user_tz": 240,
     "elapsed": 17,
     "user": {
      "displayName": "Genaro Suarez",
      "userId": "01104011119764010032"
     }
    }
   },
   "outputs": [],
   "execution_count": null
  },
  {
   "cell_type": "code",
   "metadata": {
    "id": "NTDz7sPbgC4C",
    "executionInfo": {
     "status": "ok",
     "timestamp": 1684009320335,
     "user_tz": 240,
     "elapsed": 16,
     "user": {
      "displayName": "Genaro Suarez",
      "userId": "01104011119764010032"
     }
    }
   },
   "source": [
    "from sklearn.linear_model import Ridge, Lasso"
   ],
   "outputs": [],
   "execution_count": null
  },
  {
   "cell_type": "code",
   "metadata": {
    "id": "IBIfd43dgC4D",
    "executionInfo": {
     "status": "ok",
     "timestamp": 1684009320336,
     "user_tz": 240,
     "elapsed": 15,
     "user": {
      "displayName": "Genaro Suarez",
      "userId": "01104011119764010032"
     }
    }
   },
   "source": [
    "from sklearn.preprocessing import PolynomialFeatures"
   ],
   "outputs": [],
   "execution_count": null
  },
  {
   "cell_type": "code",
   "metadata": {
    "id": "EjSlTK-agC4D",
    "executionInfo": {
     "status": "ok",
     "timestamp": 1684009320338,
     "user_tz": 240,
     "elapsed": 17,
     "user": {
      "displayName": "Genaro Suarez",
      "userId": "01104011119764010032"
     }
    }
   },
   "source": [
    "from sklearn.model_selection import cross_validate, KFold"
   ],
   "outputs": [],
   "execution_count": null
  },
  {
   "cell_type": "code",
   "metadata": {
    "id": "5_WI8SN5gC4F",
    "executionInfo": {
     "status": "ok",
     "timestamp": 1684009320587,
     "user_tz": 240,
     "elapsed": 263,
     "user": {
      "displayName": "Genaro Suarez",
      "userId": "01104011119764010032"
     }
    }
   },
   "source": [
    "np.random.seed(16) # establecer semilla para la reproducibilidad de resultados\n",
    "\n",
    "x1 = np.arange(100) \n",
    "\n",
    "x2 = np.linspace(0,1,100)\n",
    "\n",
    "x3 = np.logspace(2,3,num=100) \n",
    "\n",
    "ypb = 3*x1 + 0.5*x2 + 15*x3 + 3 + 5*(np.random.poisson(3*x1 + 0.5*x2 + 15*x3,100)-(3*x1 + 0.5*x2 + 15*x3)) \n",
    "                                                    #generar algunos datos con dispersión siguiendo la distribución de Poisson\n",
    "                                                    #con el valor exp = y del modelo lineal, centrado alrededor de 0"
   ],
   "outputs": [],
   "execution_count": null
  },
  {
   "cell_type": "code",
   "metadata": {
    "id": "5wvrZyZMgC4G",
    "executionInfo": {
     "status": "ok",
     "timestamp": 1684009320588,
     "user_tz": 240,
     "elapsed": 15,
     "user": {
      "displayName": "Genaro Suarez",
      "userId": "01104011119764010032"
     }
    }
   },
   "source": [
    "xb = np.vstack((x1,x2,x3)).T"
   ],
   "outputs": [],
   "execution_count": null
  },
  {
   "cell_type": "code",
   "metadata": {
    "colab": {
     "base_uri": "https://localhost:8080/"
    },
    "id": "7fVawEspgC4I",
    "executionInfo": {
     "status": "ok",
     "timestamp": 1684009320588,
     "user_tz": 240,
     "elapsed": 13,
     "user": {
      "displayName": "Genaro Suarez",
      "userId": "01104011119764010032"
     }
    },
    "outputId": "73bf7656-7407-4020-c05f-3a8e06bd6d94"
   },
   "source": [
    "xb.shape"
   ],
   "outputs": [],
   "execution_count": null
  },
  {
   "cell_type": "markdown",
   "metadata": {
    "id": "a1vD9vcRgC4K"
   },
   "source": [
    "### Agregar características correlacionadas (transformación polinomial)"
   ]
  },
  {
   "cell_type": "code",
   "metadata": {
    "id": "_NoWaTYbgC4L",
    "executionInfo": {
     "status": "ok",
     "timestamp": 1684009320589,
     "user_tz": 240,
     "elapsed": 10,
     "user": {
      "displayName": "Genaro Suarez",
      "userId": "01104011119764010032"
     }
    }
   },
   "source": [
    "poly = PolynomialFeatures(2, include_bias=False)"
   ],
   "outputs": [],
   "execution_count": null
  },
  {
   "cell_type": "code",
   "metadata": {
    "id": "BHC-5tPVgC4M",
    "executionInfo": {
     "status": "ok",
     "timestamp": 1684009320590,
     "user_tz": 240,
     "elapsed": 10,
     "user": {
      "displayName": "Genaro Suarez",
      "userId": "01104011119764010032"
     }
    }
   },
   "source": [
    "new_xb = poly.fit_transform(xb)"
   ],
   "outputs": [],
   "execution_count": null
  },
  {
   "cell_type": "markdown",
   "metadata": {
    "id": "3E40TBN2gC4M"
   },
   "source": [
    "### Registro de Aprendizaje\n",
    "\n",
    "¿Cuántas características tendrá el conjunto de datos transformado? Primero podemos pensarlo y luego usar el código para averiguarlo.    \n",
    "\n",
    "<details>\n",
    "<summary style=\"display: list-item;\">¡Haz clic aquí para la respuesta!</summary>\n",
    "<p>\n",
    "    \n",
    "```\n",
    "new_xb.shape\n",
    "\n",
    "mostrará que hay 9 características (las originales, más todas las combinaciones monomiales de x1, x2 y x3 hasta el grado 1, por ejemplo x1^2, x1 x2...)\n",
    "```\n",
    "</p>\n",
    "</details>"
   ]
  },
  {
   "cell_type": "markdown",
   "metadata": {
    "id": "b7kL_-_6gC4N"
   },
   "source": [
    "### Comencemos con la regresión de Ridge y ajustemos alfa usando validación cruzada.\n",
    "\n",
    "(tener en cuenta lo que sucede si se repite varias veces sin arreglar la semilla aleatoria)."
   ]
  },
  {
   "cell_type": "code",
   "metadata": {
    "colab": {
     "base_uri": "https://localhost:8080/"
    },
    "id": "DCJFAywPgC4O",
    "executionInfo": {
     "status": "ok",
     "timestamp": 1684009321010,
     "user_tz": 240,
     "elapsed": 430,
     "user": {
      "displayName": "Genaro Suarez",
      "userId": "01104011119764010032"
     }
    },
    "outputId": "e6bee6be-57cc-4aad-b6a4-84a94fe071c9"
   },
   "source": [
    "MSE = []\n",
    "\n",
    "for alpha in np.logspace(-6,6,13):\n",
    "\n",
    "    model_reg = make_pipeline(StandardScaler(), Ridge(alpha = alpha, max_iter=10000)) #la normalización ayuda a la convergencia\n",
    "\n",
    "    scores = cross_validate(model_reg, new_xb, ypb, cv = KFold(n_splits=5, shuffle=True, random_state = 1), scoring = 'neg_mean_squared_error')\n",
    "\n",
    "    print(alpha, np.round(-np.mean(scores['test_score']))) #¡Esto es solo ECM!\n",
    "    \n",
    "    MSE.append(-np.mean(scores['test_score']))\n",
    "\n",
    "print('Mejor alpha:', np.logspace(-6,6,13)[np.argmin(MSE)])"
   ],
   "outputs": [],
   "execution_count": null
  },
  {
   "cell_type": "markdown",
   "metadata": {
    "id": "rblZYx_2gC4P"
   },
   "source": [
    "# ¡También hay un instrumento incorporado para esto!"
   ]
  },
  {
   "cell_type": "code",
   "metadata": {
    "id": "9BRd6l0IgC4Q",
    "executionInfo": {
     "status": "ok",
     "timestamp": 1684009321150,
     "user_tz": 240,
     "elapsed": 145,
     "user": {
      "displayName": "Genaro Suarez",
      "userId": "01104011119764010032"
     }
    }
   },
   "source": [
    "from sklearn.linear_model import RidgeCV"
   ],
   "outputs": [],
   "execution_count": null
  },
  {
   "cell_type": "code",
   "metadata": {
    "colab": {
     "base_uri": "https://localhost:8080/"
    },
    "id": "mWSpGBvhgC4R",
    "executionInfo": {
     "status": "ok",
     "timestamp": 1684009321449,
     "user_tz": 240,
     "elapsed": 307,
     "user": {
      "displayName": "Genaro Suarez",
      "userId": "01104011119764010032"
     }
    },
    "outputId": "d903baad-9507-456f-a12b-b7802047109d"
   },
   "source": [
    "regm = make_pipeline(StandardScaler(with_mean=False),\n",
    "                     RidgeCV(alphas=np.logspace(-6,6,13), \\\n",
    "            cv = KFold(n_splits=5, shuffle=True, random_state=1),\\\n",
    "             scoring = 'neg_mean_squared_error'))\n",
    "\n",
    "regm.fit(new_xb,ypb); \n",
    "\n",
    "print('El mejor alpha es', regm[1].alpha_)"
   ],
   "outputs": [],
   "execution_count": null
  },
  {
   "cell_type": "markdown",
   "metadata": {
    "id": "eKHBoMaCgC4R"
   },
   "source": [
    "### Podemos comparar los coeficientes del modelo lineal para diferentes cantidades de regularización."
   ]
  },
  {
   "cell_type": "markdown",
   "metadata": {
    "id": "cOJz5jvUgC4S"
   },
   "source": [
    "#### Elijamos alfa = 1000."
   ]
  },
  {
   "cell_type": "code",
   "metadata": {
    "colab": {
     "base_uri": "https://localhost:8080/"
    },
    "id": "79YtvvHjgC4S",
    "executionInfo": {
     "status": "ok",
     "timestamp": 1684009321450,
     "user_tz": 240,
     "elapsed": 16,
     "user": {
      "displayName": "Genaro Suarez",
      "userId": "01104011119764010032"
     }
    },
    "outputId": "5bd20d17-76c0-4b51-db6a-4e8e12f72361"
   },
   "source": [
    "#Nota: la notación cambió en sklearn 1.2 y superior;\n",
    "#Para reproducir los resultados, necesitamos usar alpha = alpha * n_samples\n",
    "\n",
    "newmodel = make_pipeline(StandardScaler(with_mean=False), Ridge(alpha=1000*new_xb.shape[0]))\n",
    "\n",
    "newmodel.fit(new_xb,ypb)\n",
    "\n",
    "coef_alpha_1000 = np.hstack([newmodel[1].coef_/newmodel[0].scale_, newmodel[1].intercept_])\n",
    "                         \n",
    "print(coef_alpha_1000)"
   ],
   "outputs": [],
   "execution_count": null
  },
  {
   "cell_type": "markdown",
   "metadata": {
    "id": "M7SLAmA1gC4U"
   },
   "source": [
    "### Registro de aprendizaje\n",
    "\n",
    "¿Serán los coeficientes mayores o menores, en comparación con el caso con alfa = 1000?\n",
    "\n",
    "<details>\n",
    "<summary style=\"display: list-item;\">¡Haz clic aquí para la respuesta!</summary>\n",
    "<p>\n",
    "    \n",
    "```\n",
    "Los coeficientes serán más grandes porque usamos una regularización más débil y el efecto de la regularización en un modelo lineal es mantener los coeficientes pequeños.\n",
    "```\n",
    "</p>\n",
    "</details>"
   ]
  },
  {
   "cell_type": "code",
   "metadata": {
    "colab": {
     "base_uri": "https://localhost:8080/"
    },
    "id": "CmB5uahcgC4U",
    "executionInfo": {
     "status": "ok",
     "timestamp": 1684009321451,
     "user_tz": 240,
     "elapsed": 14,
     "user": {
      "displayName": "Genaro Suarez",
      "userId": "01104011119764010032"
     }
    },
    "outputId": "60bb1e01-6d36-40f2-c02d-3cb7e8e9e602"
   },
   "source": [
    "#Nota: la notación cambió en sklearn 1.2 y superior;\n",
    "#Para reproducir los resultados, necesitamos usar alpha = alpha * n_samples\n",
    "\n",
    "newmodel = make_pipeline(StandardScaler(with_mean=False), Ridge(alpha=1*new_xb.shape[0]))\n",
    "\n",
    "newmodel.fit(new_xb,ypb)\n",
    "\n",
    "coef_alpha_1 = np.hstack([newmodel[1].coef_/newmodel[0].scale_, newmodel[1].intercept_])\n",
    "                         \n",
    "print(coef_alpha_1)"
   ],
   "outputs": [],
   "execution_count": null
  },
  {
   "cell_type": "markdown",
   "metadata": {
    "id": "-6yV2NxygC4V"
   },
   "source": [
    "#### A continuación, usamos un truco para obtener coeficientes para alfa \"cero\" (sin regularización); También podríamos haber usado LinearRegressor."
   ]
  },
  {
   "cell_type": "code",
   "metadata": {
    "colab": {
     "base_uri": "https://localhost:8080/"
    },
    "id": "VU496sopgC4V",
    "executionInfo": {
     "status": "ok",
     "timestamp": 1684009321595,
     "user_tz": 240,
     "elapsed": 153,
     "user": {
      "displayName": "Genaro Suarez",
      "userId": "01104011119764010032"
     }
    },
    "outputId": "675ba173-870e-4063-f335-9e205962f4e0"
   },
   "source": [
    "newmodel = make_pipeline(StandardScaler(with_mean=False), Ridge(alpha=1e-11*new_xb.shape[0]))\n",
    "\n",
    "newmodel.fit(new_xb,ypb)\n",
    "\n",
    "coef_alpha_noreg = np.hstack([newmodel[1].coef_/newmodel[0].scale_, newmodel[1].intercept_])\n",
    "                         \n",
    "print(coef_alpha_noreg)"
   ],
   "outputs": [],
   "execution_count": null
  },
  {
   "cell_type": "markdown",
   "source": [
    "Comparación con el mismo procedimiento para el modelo lineal (sin regularización):"
   ],
   "metadata": {
    "id": "vticOsj7tqrS"
   }
  },
  {
   "cell_type": "code",
   "source": [
    "lmodel = make_pipeline(StandardScaler(with_mean=False),linear_model.LinearRegression())\n",
    "lmodel.fit(new_xb,ypb)\n",
    "print(lmodel[1].coef_/lmodel[0].scale_, lmodel[1].intercept_)"
   ],
   "metadata": {
    "colab": {
     "base_uri": "https://localhost:8080/"
    },
    "id": "NAcOSy1atjLC",
    "executionInfo": {
     "status": "ok",
     "timestamp": 1684009321596,
     "user_tz": 240,
     "elapsed": 10,
     "user": {
      "displayName": "Genaro Suarez",
      "userId": "01104011119764010032"
     }
    },
    "outputId": "ca2abdf9-b5c4-47cf-9a04-9061fa9c99e1"
   },
   "outputs": [],
   "execution_count": null
  },
  {
   "cell_type": "markdown",
   "metadata": {
    "id": "UmDOaH5BgC4V"
   },
   "source": [
    "### Podemos comparar los coeficientes para los tres casos."
   ]
  },
  {
   "cell_type": "code",
   "metadata": {
    "colab": {
     "base_uri": "https://localhost:8080/",
     "height": 871
    },
    "id": "9FY7cru_gC4W",
    "executionInfo": {
     "status": "ok",
     "timestamp": 1684009325101,
     "user_tz": 240,
     "elapsed": 3511,
     "user": {
      "displayName": "Genaro Suarez",
      "userId": "01104011119764010032"
     }
    },
    "outputId": "082ea663-675c-4d7b-c873-188ce4674224"
   },
   "source": [
    "plt.figure(figsize = (12,6))\n",
    "plt.bar(np.arange(10)-0.2, np.abs(coef_alpha_1000), color = 'maroon',width=0.05, label = 'Ridge, alpha = 1000')\n",
    "plt.bar(np.arange(10)-0.1, np.abs(coef_alpha_1), color = 'orangered',width=0.05, label = 'Ridge, alpha = 1.0')\n",
    "plt.bar(range(10), np.abs(coef_alpha_noreg), color = 'grey',width=0.05, label = 'Lineal (sin regularización)')\n",
    "plt.yscale('log')\n",
    "\n",
    "plt.xticks(np.arange(10), ['1','2', '3','4','5','6','7','8','9', 'Intercepto'])  # Poner etiquetas de texto.\n",
    "\n",
    "plt.xlabel('Característica',fontsize=14)\n",
    "\n",
    "plt.ylabel('Coeficientes (valor absoluto)',fontsize=14)\n",
    "\n",
    "plt.legend(fontsize=13);"
   ],
   "outputs": [],
   "execution_count": null
  },
  {
   "cell_type": "markdown",
   "metadata": {
    "id": "IHATlNnngC4W"
   },
   "source": [
    "Echemos un vistazo a LASSO."
   ]
  },
  {
   "cell_type": "code",
   "metadata": {
    "id": "5ATRVbXbgC4X",
    "executionInfo": {
     "status": "ok",
     "timestamp": 1684009325102,
     "user_tz": 240,
     "elapsed": 12,
     "user": {
      "displayName": "Genaro Suarez",
      "userId": "01104011119764010032"
     }
    }
   },
   "source": [
    "from sklearn.linear_model import Lasso, LassoCV "
   ],
   "outputs": [],
   "execution_count": null
  },
  {
   "cell_type": "code",
   "metadata": {
    "colab": {
     "base_uri": "https://localhost:8080/"
    },
    "id": "K0idm8MqgC4X",
    "executionInfo": {
     "status": "ok",
     "timestamp": 1684009326581,
     "user_tz": 240,
     "elapsed": 1489,
     "user": {
      "displayName": "Genaro Suarez",
      "userId": "01104011119764010032"
     }
    },
    "outputId": "48bb8be1-6e45-4f3c-e991-f1af5799c7de"
   },
   "source": [
    "#Nota: la notación cambió en sklearn 1.2 y superior;\n",
    "#Para reproducir los resultados, necesitamos usar alpha = alpha * sqrt(n_samples)\n",
    "\n",
    "#Nota: ¡LassoCV reordena los alfas en ORDEN DESCENDENTE! Las notas se desordenarán a menos que uses el objeto model.alphas_\n",
    "\n",
    "model = make_pipeline(StandardScaler(with_mean = False), \\\n",
    "                      LassoCV(alphas = np.logspace(-1,4,6), \n",
    "                        cv = KFold(n_splits=5, shuffle=True, random_state=1), \\\n",
    "              max_iter = 10000000, tol = 1e-6))\n",
    "\n",
    "model.fit(new_xb,ypb)\n",
    "\n",
    "print('Alphas', model[1].alphas_)\n",
    "\n",
    "print('Mejor alpha:', model[1].alpha_)\n",
    "\n",
    "for i, alpha in enumerate(model[1].alphas_):\n",
    "    print('Nota para alpha', alpha, np.mean(model[1].mse_path_[i,:])) #para cada alfa (fila), 10 estimaciones cv de ECM"
   ],
   "outputs": [],
   "execution_count": null
  },
  {
   "cell_type": "markdown",
   "metadata": {
    "id": "sNh99DjsgC4Y"
   },
   "source": [
    "#### <font color = 'red'> Nota: los primeros problemas de reproducibilidad se resolvieron ajustando la tolerancia a un valor pequeño (¡gracias a Joel Zinn!). </font>"
   ]
  },
  {
   "cell_type": "markdown",
   "metadata": {
    "id": "9QTw_VyqgC4Y"
   },
   "source": [
    "Veamos los coeficientes para alfa = 1000 y alfa = 1. La regularización de lazo tiende a inducir coeficientes dispersos, ¡así que podemos comprobar que eso es cierto!"
   ]
  },
  {
   "cell_type": "code",
   "metadata": {
    "id": "zE9kTyf1gC4Z",
    "colab": {
     "base_uri": "https://localhost:8080/"
    },
    "executionInfo": {
     "status": "ok",
     "timestamp": 1684009326863,
     "user_tz": 240,
     "elapsed": 288,
     "user": {
      "displayName": "Genaro Suarez",
      "userId": "01104011119764010032"
     }
    },
    "outputId": "9e10242f-99d3-4048-f54a-d3fc66127163"
   },
   "source": [
    "L1000 = make_pipeline(StandardScaler(with_mean=False), Lasso(alpha = np.sqrt(new_xb.shape[0])*1000, max_iter = 1000000, tol = 0.005))\n",
    "\n",
    "L1000.fit(new_xb, ypb)\n",
    "\n",
    "coef_L1000 =  np.hstack([L1000[1].coef_, L1000[1].intercept_])\n",
    "\n",
    "print(coef_L1000)"
   ],
   "outputs": [],
   "execution_count": null
  },
  {
   "cell_type": "markdown",
   "metadata": {
    "id": "4St9yMfRgC4a"
   },
   "source": [
    "### Registro de Aprendizaje\n",
    "\n",
    "¿Deberíamos preocuparnos porque:\n",
    "\n",
    "1) ¿La intersección se ha vuelto muy grande?\n",
    "\n",
    "2) ¿Todos los coeficientes han desaparecido?\n",
    "\n",
    "<br>\n",
    "\n",
    "<details>\n",
    "<summary style=\"display: list-item;\">¡Haz clic aquí para la respuesta!</summary>\n",
    "<p>\n",
    "    \n",
    "```\n",
    "1) No realmente, porque la interceptación está excluida del proceso de regularización;\n",
    "\n",
    "2) Solo si esto sucede cuando se usa el mismo código y un valor mucho más pequeño para alfa :)\n",
    "```\n",
    "</p>\n",
    "</details>"
   ]
  },
  {
   "cell_type": "code",
   "metadata": {
    "id": "RrdaGbRugC4a",
    "colab": {
     "base_uri": "https://localhost:8080/"
    },
    "executionInfo": {
     "status": "ok",
     "timestamp": 1684009326864,
     "user_tz": 240,
     "elapsed": 7,
     "user": {
      "displayName": "Genaro Suarez",
      "userId": "01104011119764010032"
     }
    },
    "outputId": "cef3703c-edaa-48ec-a001-394ad88c1557"
   },
   "source": [
    "L1 = make_pipeline(StandardScaler(with_mean=False), Lasso(alpha = np.sqrt(new_xb.shape[0])*1, max_iter = 1000000, tol = 0.005))\n",
    "\n",
    "L1.fit(new_xb, ypb)\n",
    "\n",
    "coef_L1 =  np.hstack([L1[1].coef_/L1[0].scale_, L1[1].intercept_])\n",
    "\n",
    "print(coef_L1)"
   ],
   "outputs": [],
   "execution_count": null
  },
  {
   "cell_type": "markdown",
   "metadata": {
    "id": "qw7eV3QWgC4m"
   },
   "source": [
    "### Finalmente, podemos graficar todos los coeficientes juntos."
   ]
  },
  {
   "metadata": {
    "colab": {
     "base_uri": "https://localhost:8080/"
    },
    "id": "tBT5GuULgC4m",
    "executionInfo": {
     "status": "ok",
     "timestamp": 1684009329400,
     "user_tz": 240,
     "elapsed": 2542,
     "user": {
      "displayName": "Genaro Suarez",
      "userId": "01104011119764010032"
     }
    },
    "outputId": "225733b8-229d-41d1-e188-01299a986a52"
   },
   "cell_type": "code",
   "source": [
    "plt.figure(figsize = (12,6))\n",
    "plt.bar(np.arange(10)-0.2, np.abs(coef_alpha_1000), color = 'maroon',width=0.05, label = 'Ridge, alpha = 1000')\n",
    "plt.bar(np.arange(10)-0.1, np.abs(coef_alpha_1), color = 'orangered',width=0.05, label = 'Ridge, alpha = 1.0')\n",
    "plt.bar(range(10), np.abs(coef_alpha_noreg), color = 'grey',width=0.05, label = 'Lineal (no regularization)')\n",
    "plt.bar(np.arange(10)+0.1, np.abs(coef_L1), color = 'tab:cyan',width=0.05, label = 'Lasso, alpha = 1.0')\n",
    "plt.bar(np.arange(10)+0.2, np.abs(coef_L1000), color = 'tab:blue', width=0.05, label = 'Lasso, alpha = 1000')\n",
    "\n",
    "plt.yscale('log')\n",
    "\n",
    "plt.xticks(np.arange(10), ['1','2', '3','4','5','6','7','8','9', 'Intercepto'])  # Establecer etiquetas de texto.\n",
    "\n",
    "plt.xlabel('Característica',fontsize=14)\n",
    "\n",
    "plt.ylabel('Coeficientes (valor absoluto)',fontsize=14)\n",
    "\n",
    "plt.legend(fontsize=13, bbox_to_anchor=(1.05, 1));\n"
   ],
   "outputs": [],
   "execution_count": null
  }
 ],
 "metadata": {
  "kernelspec": {
   "display_name": "Python 3 (ipykernel)",
   "language": "python",
   "name": "python3"
  },
  "language_info": {
   "codemirror_mode": {
    "name": "ipython",
    "version": 3
   },
   "file_extension": ".py",
   "mimetype": "text/x-python",
   "name": "python",
   "nbconvert_exporter": "python",
   "pygments_lexer": "ipython3",
   "version": "3.9.13"
  },
  "colab": {
   "provenance": []
  }
 },
 "nbformat": 4,
 "nbformat_minor": 0
}
