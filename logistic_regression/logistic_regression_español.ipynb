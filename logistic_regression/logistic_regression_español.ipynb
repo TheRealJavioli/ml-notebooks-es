{
 "cells": [
  {
   "cell_type": "markdown",
   "metadata": {
    "id": "5vIgKybr7O1L"
   },
   "source": [
    "Este es un \"notebook\" (cuaderno digital) para usar el modelo de regresión logística para el modelo Ising.\n",
    "\n",
    "Acompaña al Capítulo 5 del libro (4 de 5).\n",
    "\n",
    "Autora: Viviana Acquaviva, con contribuciones de Jake Postiglione y Olga Privman. Traducido por Manuel Pichardo Marcano y Genaro Suárez; ver también los créditos de los datos a continuación."
   ]
  },
  {
   "cell_type": "code",
   "metadata": {
    "executionInfo": {
     "elapsed": 602,
     "status": "ok",
     "timestamp": 1683407871435,
     "user": {
      "displayName": "Genaro Suarez",
      "userId": "01104011119764010032"
     },
     "user_tz": 240
    },
    "id": "mCtf5_-c7O1S"
   },
   "source": [
    "import pandas as pd\n",
    "import numpy as np\n",
    "import matplotlib\n",
    "import matplotlib.pyplot as plt\n",
    "import pickle\n",
    "from matplotlib import cm\n",
    "%matplotlib inline"
   ],
   "outputs": [],
   "execution_count": null
  },
  {
   "cell_type": "code",
   "metadata": {
    "executionInfo": {
     "elapsed": 2133,
     "status": "ok",
     "timestamp": 1683407873560,
     "user": {
      "displayName": "Genaro Suarez",
      "userId": "01104011119764010032"
     },
     "user_tz": 240
    },
    "id": "XQYAESQf7O1W"
   },
   "source": [
    "from sklearn.linear_model import LogisticRegression\n",
    "\n",
    "from sklearn.model_selection import cross_val_predict, cross_val_score, cross_validate, train_test_split\n",
    "\n",
    "from sklearn.model_selection import KFold, StratifiedKFold\n",
    "\n",
    "from sklearn import metrics"
   ],
   "outputs": [],
   "execution_count": null
  },
  {
   "cell_type": "markdown",
   "metadata": {
    "id": "3DXSZLLB7O1Y"
   },
   "source": [
    "### ¡Primero, echemos un vistazo a esos sigmoides!"
   ]
  },
  {
   "cell_type": "code",
   "metadata": {
    "executionInfo": {
     "elapsed": 30,
     "status": "ok",
     "timestamp": 1683407873564,
     "user": {
      "displayName": "Genaro Suarez",
      "userId": "01104011119764010032"
     },
     "user_tz": 240
    },
    "id": "zDyeAIPu7O1a"
   },
   "source": [
    "x = np.linspace(-10,10,100)"
   ],
   "outputs": [],
   "execution_count": null
  },
  {
   "cell_type": "code",
   "metadata": {
    "executionInfo": {
     "elapsed": 26,
     "status": "ok",
     "timestamp": 1683407873565,
     "user": {
      "displayName": "Genaro Suarez",
      "userId": "01104011119764010032"
     },
     "user_tz": 240
    },
    "id": "4M89WnY87O1c"
   },
   "source": [
    "z = 2*x + 5 #modelo lineal"
   ],
   "outputs": [],
   "execution_count": null
  },
  {
   "cell_type": "markdown",
   "metadata": {
    "id": "QwLaLxGx7O1e"
   },
   "source": [
    "Digamos que la probabilidad de que algo suceda se llama $\\pi$."
   ]
  },
  {
   "cell_type": "markdown",
   "metadata": {
    "id": "jh1ByNAG7O1f"
   },
   "source": [
    "El modelo logístico supone que\n",
    "\n",
    "$log (\\frac{\\pi}{1-\\pi}$) = z "
   ]
  },
  {
   "cell_type": "markdown",
   "metadata": {
    "id": "y0HjSn3D7O1h"
   },
   "source": [
    "Ahora podemos resolver para $\\pi$:"
   ]
  },
  {
   "cell_type": "code",
   "metadata": {
    "executionInfo": {
     "elapsed": 25,
     "status": "ok",
     "timestamp": 1683407873568,
     "user": {
      "displayName": "Genaro Suarez",
      "userId": "01104011119764010032"
     },
     "user_tz": 240
    },
    "id": "Cr3Gpwl57O1j"
   },
   "source": [
    "pi = 1/(1 + np.exp(-z))"
   ],
   "outputs": [],
   "execution_count": null
  },
  {
   "cell_type": "code",
   "metadata": {
    "colab": {
     "base_uri": "https://localhost:8080/",
     "height": 477
    },
    "executionInfo": {
     "elapsed": 589,
     "status": "ok",
     "timestamp": 1683407874135,
     "user": {
      "displayName": "Genaro Suarez",
      "userId": "01104011119764010032"
     },
     "user_tz": 240
    },
    "id": "BXQdIyZK7O1l",
    "outputId": "ba86a190-4af4-45a9-f952-0517c45d839c"
   },
   "source": [
    "plt.plot(x, pi)\n",
    "\n",
    "plt.xlim(-7,3);\n",
    "\n",
    "plt.title('¡Hola soy una sigmoide!')\n",
    "\n",
    "plt.xlabel('x', fontsize=14)\n",
    "\n",
    "plt.ylabel('$\\pi$',fontsize=14);"
   ],
   "outputs": [],
   "execution_count": null
  },
  {
   "cell_type": "markdown",
   "metadata": {
    "id": "lfl_slB67O1o"
   },
   "source": [
    "### Registro de Aprendizaje\n",
    "    \n",
    "¿Dónde está $\\pi$ = 0.5?\n",
    "\n",
    "<details>\n",
    "<summary style=\"display: list-item;\">¡Haz clic aquí para la respuesta!</summary>\n",
    "<p>\n",
    "    \n",
    "```\n",
    "Mirando la definición del modelo logístico, podemos ver que $\\pi$=0.5 (las probabilidades son las mismas) cuando z=0; en nuestro gráfico, esto corresponde a x=-2.5.\n",
    "```\n",
    "    \n",
    "</p>\n",
    "</details>\n",
    "\n",
    "</br>\n",
    "\n",
    "¿Qué sucede si la pendiente del modelo lineal es negativa?\n",
    "\n",
    "<details>\n",
    "<summary style=\"display: list-item;\">¡Haz clic aquí para la respuesta!</summary>\n",
    "<p>\n",
    "    \n",
    "```\n",
    "Las asíntotas del sigmoide están invertidas y la curva disminuye monótonamente.\n",
    "```\n",
    "    \n",
    "</p>\n",
    "</details>"
   ]
  },
  {
   "cell_type": "markdown",
   "metadata": {
    "id": "QYAxlhAR7O1r"
   },
   "source": [
    "### Ahora podemos ver un ejemplo de Mehta et al 2018 (escrito en inglés):\n",
    "\n",
    "[\"A high-bias, low-variance introduction to Machine Learning for physicists\"](https://arxiv.org/abs/1803.08823)."
   ]
  },
  {
   "cell_type": "markdown",
   "metadata": {
    "id": "80yiqo9g7O1t"
   },
   "source": [
    "Estamos tratando de usar un modelo de regresión logística para predecir si un material está en una fase ordenada o desordenada, según su configuración de espín. En una fase ordenada, los giros están alineados. La representación es una red 2D, por lo que nuestras características son los estados de espín de cada elemento de la red. El modelo físico, conocido como modelo de Ising, predice que la transición depende de la temperatura y se difumina (para una red de tamaño finito), alrededor de una temperatura crítica $T_c$.\n",
    "\n",
    "Los datos de entrenamiento se componen de 160.000 simulaciones de Monte Carlo en un rango de temperaturas y sus etiquetas.\n",
    "\n",
    "Las posibles aplicaciones de este formalismo involucran la predicción de la temperatura crítica para sistemas más complejos.\n",
    "\n",
    "La lectura de los datos puede tardar un poco."
   ]
  },
  {
   "cell_type": "code",
   "metadata": {
    "colab": {
     "base_uri": "https://localhost:8080/",
     "height": 238
    },
    "executionInfo": {
     "elapsed": 158,
     "status": "error",
     "timestamp": 1683408107114,
     "user": {
      "displayName": "Genaro Suarez",
      "userId": "01104011119764010032"
     },
     "user_tz": 240
    },
    "id": "zIV6iVeN7O1u",
    "outputId": "d74db5eb-6d5b-4665-84ca-381e563ae71f"
   },
   "source": [
    "#Tomado prestado con permiso de los \"notebooks\" (cuadernos digitales) mantenidos por P. Mehta.\n",
    "\n",
    "######### CARGAR DATOS\n",
    "# Los datos consisten en 16*10000 muestras tomadas en T=np.arange(0.25,4.0001,0.25):\n",
    "nombre_archivo_datos = '../data/Ising2DFM_reSample_L40_T=All.pkl'\n",
    "# Las etiquetas se obtienen del siguiente archivo:\n",
    "nombre_archivo_etiqueta = '../data/Ising2DFM_reSample_L40_T=All_labels.pkl'\n",
    "\n",
    "\n",
    "#DATOS\n",
    "with open(nombre_archivo_datos, 'rb') as pickle_file:\n",
    "    datos = pickle.load(pickle_file) # pickle lee el archivo y devuelve el objeto Python (matriz 1D, bits comprimidos)\n",
    "\n",
    "\n",
    "datos = np.unpackbits(datos).reshape(-1, 1600) # Descomprimir el arreglo y restructurarlo para mayor comodidad\n",
    "datos = datos.astype('int')\n",
    "datos[np.where(datos==0)]=-1 # cambiar valores 0 al estado -1 (la variable Ising puede tomar valores +/-1)\n",
    "\n",
    "#ETIQUETAS (la convención es 1 para estados ordenados y 0 para estados desordenados)\n",
    "with open(nombre_archivo_etiqueta, 'rb') as pickle_file:\n",
    "    etiquetas = pickle.load(pickle_file) # pickle lee el archivo y devuelve el objeto de Python (aquí solo una matriz 1D con las etiquetas binarias)\n"
   ],
   "outputs": [],
   "execution_count": null
  },
  {
   "cell_type": "code",
   "metadata": {
    "executionInfo": {
     "elapsed": 20,
     "status": "aborted",
     "timestamp": 1683407874544,
     "user": {
      "displayName": "Genaro Suarez",
      "userId": "01104011119764010032"
     },
     "user_tz": 240
    },
    "id": "zYlAAHFY7O1w"
   },
   "source": [
    "datos.shape"
   ],
   "outputs": [],
   "execution_count": null
  },
  {
   "cell_type": "code",
   "metadata": {
    "executionInfo": {
     "elapsed": 20,
     "status": "aborted",
     "timestamp": 1683407874545,
     "user": {
      "displayName": "Genaro Suarez",
      "userId": "01104011119764010032"
     },
     "user_tz": 240
    },
    "id": "XMvN9Aac7O1x"
   },
   "source": [
    "np.unique(etiquetas)"
   ],
   "outputs": [],
   "execution_count": null
  },
  {
   "cell_type": "markdown",
   "metadata": {
    "id": "MWCHhNGz7O1y"
   },
   "source": [
    "Podemos echar un vistazo a la distribución de etiquetas:"
   ]
  },
  {
   "cell_type": "code",
   "metadata": {
    "executionInfo": {
     "elapsed": 21,
     "status": "aborted",
     "timestamp": 1683407874547,
     "user": {
      "displayName": "Genaro Suarez",
      "userId": "01104011119764010032"
     },
     "user_tz": 240
    },
    "id": "Elto9sQN7O10"
   },
   "source": [
    "plt.scatter(np.arange(datos.shape[0]),etiquetas)\n",
    "\n",
    "plt.xlabel('# de Ejemplo')\n",
    "\n",
    "plt.ylabel('Estado');\n",
    "\n",
    "#etiquetas: 1 = ordenada o casi crítica\n",
    "#etiquetas: 0 = desordenado"
   ],
   "outputs": [],
   "execution_count": null
  },
  {
   "cell_type": "markdown",
   "metadata": {
    "id": "1aWtYxJ-7O11"
   },
   "source": [
    "### Registro de Aprendizaje\n",
    "    \n",
    "¿Es este un conjunto de datos equilibrado o desequilibrado?\n",
    "\n",
    "<details>\n",
    "<summary style=\"display: list-item;\">¡Haz clic aquí para la respuesta!</summary>\n",
    "<p>\n",
    "    \n",
    "```\n",
    "Para verificar el balance, podemos contar el porcentaje de etiquetas \"1\", p. haciendo np.sum(etiquetas)/len(etiquetas), y obtenemos ~56%, lo que indica que el conjunto de datos está balanceado.\n",
    "```\n",
    "    \n",
    "</p>\n",
    "</details>"
   ]
  },
  {
   "cell_type": "markdown",
   "metadata": {
    "id": "UXmGNRle7O11"
   },
   "source": [
    "#### Podemos echar un vistazo a algunos ejemplos:"
   ]
  },
  {
   "cell_type": "code",
   "metadata": {
    "executionInfo": {
     "elapsed": 4399,
     "status": "aborted",
     "timestamp": 1683407874550,
     "user": {
      "displayName": "Genaro Suarez",
      "userId": "01104011119764010032"
     },
     "user_tz": 240
    },
    "id": "0KvGSP5j7O12"
   },
   "source": [
    "#H/T: https://stackoverflow.com/questions/16834861/create-own-colormap-using-matplotlib-and-plot-color-scale\n",
    "\n",
    "cmap = matplotlib.colors.ListedColormap([\"aquamarine\",\"navy\"], name='from_list', N=None)\n",
    "\n",
    "plt.figure(figsize=(15,8))\n",
    "fig, axarr = plt.subplots(nrows=1, ncols=3)\n",
    "axarr[0].imshow(datos[0].reshape(40,40), cmap = cmap) #el primer objeto tiene la etiqueta \"1\"\n",
    "axarr[1].imshow(datos[80000].reshape(40,40), cmap = cmap) #de la documentación, esto es crítico (entre 60 y 90,000)\n",
    "axarr[2].imshow(datos[100000].reshape(40,40), cmap = cmap) #desordenado\n",
    "for i in range(3):\n",
    "    axarr[i].set_xticks([0,20,40]);"
   ],
   "outputs": [],
   "execution_count": null
  },
  {
   "cell_type": "markdown",
   "metadata": {
    "id": "cdEqoaDc7O13"
   },
   "source": [
    "### Elijamos una selección aleatoria para acelerar los cálculos."
   ]
  },
  {
   "cell_type": "code",
   "metadata": {
    "executionInfo": {
     "elapsed": 4395,
     "status": "aborted",
     "timestamp": 1683407874552,
     "user": {
      "displayName": "Genaro Suarez",
      "userId": "01104011119764010032"
     },
     "user_tz": 240
    },
    "id": "ROinyPYc7O14"
   },
   "source": [
    "np.random.seed(10)\n",
    "\n",
    "sel = np.random.choice(datos.shape[0], 16000, replace = False)"
   ],
   "outputs": [],
   "execution_count": null
  },
  {
   "cell_type": "code",
   "metadata": {
    "executionInfo": {
     "elapsed": 4392,
     "status": "aborted",
     "timestamp": 1683407874553,
     "user": {
      "displayName": "Genaro Suarez",
      "userId": "01104011119764010032"
     },
     "user_tz": 240
    },
    "id": "8_LhcwuK7O15"
   },
   "source": [
    "seldatos = datos[sel,:]"
   ],
   "outputs": [],
   "execution_count": null
  },
  {
   "cell_type": "code",
   "metadata": {
    "executionInfo": {
     "elapsed": 35,
     "status": "aborted",
     "timestamp": 1683407875012,
     "user": {
      "displayName": "Genaro Suarez",
      "userId": "01104011119764010032"
     },
     "user_tz": 240
    },
    "id": "KexRSIx47O16"
   },
   "source": [
    "seletiquetas = etiquetas[sel]"
   ],
   "outputs": [],
   "execution_count": null
  },
  {
   "cell_type": "code",
   "metadata": {
    "executionInfo": {
     "elapsed": 35,
     "status": "aborted",
     "timestamp": 1683407875015,
     "user": {
      "displayName": "Genaro Suarez",
      "userId": "01104011119764010032"
     },
     "user_tz": 240
    },
    "id": "e7W2AS1S7O16"
   },
   "source": [
    "plt.scatter(np.arange(seldatos.shape[0]),seletiquetas); #¡La selección aleatoria también tiene la ventaja de reorganizar los datos!"
   ],
   "outputs": [],
   "execution_count": null
  },
  {
   "cell_type": "markdown",
   "metadata": {
    "id": "etluhWmG7O17"
   },
   "source": [
    "### Y ahora es el momento del modelo de regresión logística."
   ]
  },
  {
   "cell_type": "code",
   "metadata": {
    "executionInfo": {
     "elapsed": 34,
     "status": "aborted",
     "timestamp": 1683407875017,
     "user": {
      "displayName": "Genaro Suarez",
      "userId": "01104011119764010032"
     },
     "user_tz": 240
    },
    "id": "ALlgdY5n7O17"
   },
   "source": [
    "modelo = LogisticRegression(max_iter = 1000) #Esto utiliza un método numérico para encontrar el mínimo de la función de pérdida"
   ],
   "outputs": [],
   "execution_count": null
  },
  {
   "cell_type": "code",
   "metadata": {
    "executionInfo": {
     "elapsed": 33,
     "status": "aborted",
     "timestamp": 1683407875019,
     "user": {
      "displayName": "Genaro Suarez",
      "userId": "01104011119764010032"
     },
     "user_tz": 240
    },
    "id": "xgNh8YBg7O18"
   },
   "source": [
    "modelo.get_params() #Notar que (a diferencia de la regresión lineal) ¡la regularización es la norma!"
   ],
   "outputs": [],
   "execution_count": null
  },
  {
   "cell_type": "code",
   "metadata": {
    "executionInfo": {
     "elapsed": 36,
     "status": "aborted",
     "timestamp": 1683407875022,
     "user": {
      "displayName": "Genaro Suarez",
      "userId": "01104011119764010032"
     },
     "user_tz": 240
    },
    "id": "o92ENa_p7O18"
   },
   "source": [
    "modelo"
   ],
   "outputs": [],
   "execution_count": null
  },
  {
   "cell_type": "markdown",
   "metadata": {
    "id": "tRnuCfeH7O19"
   },
   "source": [
    "Podemos usar la validación cruzada, como de costumbre:"
   ]
  },
  {
   "cell_type": "code",
   "metadata": {
    "executionInfo": {
     "elapsed": 35,
     "status": "aborted",
     "timestamp": 1683407875023,
     "user": {
      "displayName": "Genaro Suarez",
      "userId": "01104011119764010032"
     },
     "user_tz": 240
    },
    "id": "AjzL6JyY7O1-"
   },
   "source": [
    "#Toma 5-10 segundos\n",
    "\n",
    "results = cross_validate(modelo, seldatos, seletiquetas, \n",
    "                         cv = KFold(n_splits=5, shuffle=True, random_state=10), return_train_score = True)"
   ],
   "outputs": [],
   "execution_count": null
  },
  {
   "cell_type": "code",
   "metadata": {
    "executionInfo": {
     "elapsed": 37,
     "status": "aborted",
     "timestamp": 1683407875026,
     "user": {
      "displayName": "Genaro Suarez",
      "userId": "01104011119764010032"
     },
     "user_tz": 240
    },
    "id": "xMss6tpl7O1_"
   },
   "source": [
    "results "
   ],
   "outputs": [],
   "execution_count": null
  },
  {
   "cell_type": "markdown",
   "metadata": {
    "id": "yuVeFcCE7O2A"
   },
   "source": [
    "### Registro de Aprendizaje\n",
    "    \n",
    "¿Qué métrica crees que representan esos números?\n",
    "\n",
    "<details>\n",
    "<summary style=\"display: list-item;\">¡Haz clic aquí para la respuesta!</summary>\n",
    "<p>\n",
    "    \n",
    "```\n",
    "Sorprendentemente, el resultado estándar de Regresión Logística es la precisión (¡una métrica de clasificación!)\n",
    "```\n",
    "\n",
    "</p>\n",
    "\n",
    "</details>"
   ]
  },
  {
   "cell_type": "markdown",
   "metadata": {
    "id": "wofBg1Kk7O2B"
   },
   "source": [
    "Este comportamiento es subóptimo porque también queremos acceder a las probabilidades. Veremos eso en un momento."
   ]
  },
  {
   "cell_type": "markdown",
   "metadata": {
    "id": "DUTF8DsF7O2C"
   },
   "source": [
    "### Podemos hacer nuestra propia búsqueda en cuadrícula para optimizar el parámetro de regularización C:"
   ]
  },
  {
   "cell_type": "code",
   "metadata": {
    "executionInfo": {
     "elapsed": 39,
     "status": "aborted",
     "timestamp": 1683407875029,
     "user": {
      "displayName": "Genaro Suarez",
      "userId": "01104011119764010032"
     },
     "user_tz": 240
    },
    "id": "dDvKDKS17O2C"
   },
   "source": [
    "for C in np.logspace(-3,3,7):\n",
    "    modelo = LogisticRegression(max_iter=1000, C = C)\n",
    "    resultados = cross_validate(modelo, seldatos, seletiquetas, \n",
    "                         cv = KFold(n_splits=5, shuffle=True, random_state=10), return_train_score = True)\n",
    "    print('C/Precisión promedio de prueba para C = ', '{:.3e} {:s} {:.3f} {:s} {:.3f}'.format(C, 'is ', results['test_score'].mean(),'+-',results['test_score'].std()))\n",
    "    print('C/Precisión promedio del entrenamiento para C = ', '{:.3e} {:s} {:.3f} {:s} {:.3f}'.format(C, 'is ', results['train_score'].mean(),'+-',results['train_score'].std()))"
   ],
   "outputs": [],
   "execution_count": null
  },
  {
   "cell_type": "markdown",
   "metadata": {
    "id": "8JyptPJ67O2C"
   },
   "source": [
    "### Preguntas:\n",
    "\n",
    "- ¿Cómo es el rendimiento de este modelo?\n",
    "\n",
    "\n",
    "### Registro de Aprendizaje\n",
    "\n",
    "¿Qué valor de C debemos elegir?\n",
    "\n",
    "<br>\n",
    "\n",
    "<details>\n",
    "<summary style=\"display: list-item;\">¡Haz clic aquí para la respuesta!</summary>\n",
    "<p>\n",
    "    \n",
    "```\n",
    "Las notas (de la prueba) son bastante planos, por lo que el valor de C que elijamos no es tan importante.\n",
    "```\n",
    "\n",
    "</p>\n",
    "</details>\n",
    "\n",
    "</br>\n",
    "\n",
    "¿Cómo es el rendimiento de este modelo?\n",
    "\n",
    "<details>\n",
    "<summary style=\"display: list-item;\">¡Haz clic aquí para la respuesta!</summary>\n",
    "<p>\n",
    "    \n",
    "```\n",
    "No muy bien, con una precisión de alrededor del 66%.\n",
    "```\n",
    "\n",
    "</p>\n",
    "</details>\n",
    "    "
   ]
  },
  {
   "cell_type": "markdown",
   "metadata": {
    "id": "ex_GvoPr7O2E"
   },
   "source": [
    "### Aquí generamos etiquetas para comprobar las predicciones.\n",
    "\n",
    "Para aquellos clasificadores que están resolviendo un problema de regresión difícil de resolver, existe el método práctico \"predict_proba\"."
   ]
  },
  {
   "cell_type": "code",
   "metadata": {
    "executionInfo": {
     "elapsed": 40,
     "status": "aborted",
     "timestamp": 1683407875031,
     "user": {
      "displayName": "Genaro Suarez",
      "userId": "01104011119764010032"
     },
     "user_tz": 240
    },
    "id": "eBfYAOlY7O2E"
   },
   "source": [
    "modelo = LogisticRegression(C=1.0, max_iter=1000)\n",
    "\n",
    "ypred = cross_val_predict(modelo, seldatos, seletiquetas, \\\n",
    "                               cv = KFold(n_splits=5, shuffle=True, random_state=10))\n",
    "\n",
    "ypred_prob = cross_val_predict(modelo, seldatos, seletiquetas, \\\n",
    "                               cv = KFold(n_splits=5, shuffle=True, random_state=10), method = 'predict_proba')"
   ],
   "outputs": [],
   "execution_count": null
  },
  {
   "cell_type": "markdown",
   "metadata": {
    "id": "Z-zmQHSa7O2F"
   },
   "source": [
    "La salida de predict_proba da la probabilidad de pertenecer a la fase desordenada (etiqueta 0) u ordenada (etiqueta 1). La salida del clasificador simple es la clase con p > 0.5. Podemos mirar esto para convencernos:"
   ]
  },
  {
   "cell_type": "code",
   "metadata": {
    "executionInfo": {
     "elapsed": 43,
     "status": "aborted",
     "timestamp": 1683407875035,
     "user": {
      "displayName": "Genaro Suarez",
      "userId": "01104011119764010032"
     },
     "user_tz": 240
    },
    "id": "JR0Fjz1N7O2G"
   },
   "source": [
    "np.column_stack([ypred_prob, ypred])"
   ],
   "outputs": [],
   "execution_count": null
  },
  {
   "cell_type": "markdown",
   "metadata": {
    "id": "uxTDldDm7O2G"
   },
   "source": [
    "### Podemos graficar algunos ejemplos para ver cómo está funcionando nuestro clasificador."
   ]
  },
  {
   "cell_type": "code",
   "metadata": {
    "executionInfo": {
     "elapsed": 42,
     "status": "aborted",
     "timestamp": 1683407875037,
     "user": {
      "displayName": "Genaro Suarez",
      "userId": "01104011119764010032"
     },
     "user_tz": 240
    },
    "id": "HrcKoLN97O2H"
   },
   "source": [
    "fig, axarr = plt.subplots(nrows=1, ncols=8, figsize=(15,5))\n",
    "for i in range(8):\n",
    "    axarr[i].imshow(seldata[i].reshape(40,40), cmap = cmap) \n",
    "    axarr[i].set_xlabel('Etiqueta verdadera:'+str(sellabels[i])+'\\n'+'Etiqueta pred:'+str(ypred[i]))\n",
    "    axarr[i].set_yticks([])\n",
    "    axarr[i].set_xticks([])"
   ],
   "outputs": [],
   "execution_count": null
  },
  {
   "cell_type": "markdown",
   "metadata": {
    "id": "YmKjyEVa7O2H"
   },
   "source": [
    "Desafortunadamente, hay dos instancias que están mal clasificadas por nuestro clasificador Log Reg. Sin embargo, al menos visualmente, ¡es comprensible!"
   ]
  },
  {
   "cell_type": "markdown",
   "metadata": {
    "id": "6wff5mN37O2I"
   },
   "source": [
    "Sin embargo, una mirada a las probabilidades correspondientes revela algunas preocupaciones:"
   ]
  },
  {
   "cell_type": "code",
   "metadata": {
    "executionInfo": {
     "elapsed": 42,
     "status": "aborted",
     "timestamp": 1683407875038,
     "user": {
      "displayName": "Genaro Suarez",
      "userId": "01104011119764010032"
     },
     "user_tz": 240
    },
    "id": "q2LTNuBx7O2I"
   },
   "source": [
    "ypred_prob[:8]"
   ],
   "outputs": [],
   "execution_count": null
  },
  {
   "cell_type": "markdown",
   "metadata": {
    "id": "HGEwyqys7O2J"
   },
   "source": [
    "0 Ordenado (confianza decente)\n",
    "\n",
    "1 Ordenado (confianza decente)\n",
    "\n",
    "Se predice que 2 se ordenará CON ALTA CONFIANZA... ¡PERO INCORRECTAMENTE!\n",
    "\n",
    "....."
   ]
  },
  {
   "cell_type": "markdown",
   "metadata": {
    "id": "cHEsHxyB7O2K"
   },
   "source": [
    "Algo anda mal aquí, porque el nivel de confianza de los casos muy inciertos parece ser demasiado alto."
   ]
  },
  {
   "cell_type": "markdown",
   "metadata": {
    "id": "uWYQa12x7O2L"
   },
   "source": [
    "La conclusión es que el indicador principal de este modelo es la falta de consistencia entre las alineaciones de espín, que no está bien modelada por nuestro regresor. Es un problema complicado porque muchos algoritmos tienden a mirar el valor de cada función para decidir; para muchos de ellos, es difícil representar la correlación entre las funciones como un indicador."
   ]
  },
  {
   "cell_type": "markdown",
   "metadata": {
    "id": "0fyyH_xN7O2M"
   },
   "source": [
    "### Registro de Aprendizaje\n",
    "\n",
    "¿Qué algoritmo de los que hemos visto hasta ahora recomendaría usar en lugar de Regresión logística?\n",
    "\n",
    "<br>\n",
    "\n",
    "<details>\n",
    "<summary style=\"display: list-item;\">¡Haz clic aquí para la respuesta!</summary>\n",
    "<p>\n",
    "    \n",
    "```\n",
    "Algo que parece importante aquí es poder combinar funciones entre sí. Esto es algo que los modelos lineales (generalizados) no pueden hacer bien, pero está al alcance del algoritmo de vectores de soporte, por ejemplo.\n",
    "```\n",
    "    \n",
    "</p>\n",
    "</details>\n"
   ]
  }
 ],
 "metadata": {
  "colab": {
   "provenance": []
  },
  "kernelspec": {
   "display_name": "Python 3 (ipykernel)",
   "language": "python",
   "name": "python3"
  },
  "language_info": {
   "codemirror_mode": {
    "name": "ipython",
    "version": 3
   },
   "file_extension": ".py",
   "mimetype": "text/x-python",
   "name": "python",
   "nbconvert_exporter": "python",
   "pygments_lexer": "ipython3",
   "version": "3.9.13"
  }
 },
 "nbformat": 4,
 "nbformat_minor": 1
}
