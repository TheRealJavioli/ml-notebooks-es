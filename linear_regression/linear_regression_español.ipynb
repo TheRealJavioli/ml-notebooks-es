{
 "cells": [
  {
   "cell_type": "markdown",
   "metadata": {
    "id": "IQfUcbKiR56w"
   },
   "source": [
    "Este es un \"notebook\" (cuaderno) simple para generar datos lineales con algo de dispersión (no gaussiana) y hacer ajustes lineales con diferentes funciones de pérdida.\n",
    "\n",
    "Acompaña al Capítulo 5 del libro (1 de 5).\n",
    "\n",
    "Autora: Viviana Acquaviva, con contribuciones de Jake Postiglione y Olga Privman. Traducido por Manuel Pichardo Marcano y Genaro Suárez."
   ]
  },
  {
   "cell_type": "code",
   "metadata": {
    "id": "_wUccLBgR56z"
   },
   "source": [
    "import numpy as np\n",
    "import pandas as pd\n",
    "from scipy import stats\n",
    "import matplotlib\n",
    "import matplotlib.pyplot as plt\n",
    "import sklearn\n",
    "from sklearn import metrics\n",
    "from sklearn.model_selection import train_test_split, cross_validate, cross_val_predict\n",
    "from sklearn.model_selection import KFold\n",
    "from sklearn import linear_model #New!\n",
    "\n",
    "%matplotlib inline\n",
    "\n",
    "font = {'size'   : 16}\n",
    "matplotlib.rc('font', **font)\n",
    "matplotlib.rc('xtick', labelsize=14) \n",
    "matplotlib.rc('ytick', labelsize=14) \n",
    "matplotlib.rcParams.update({'figure.autolayout': False})\n",
    "matplotlib.rcParams['figure.dpi'] = 300"
   ],
   "outputs": [],
   "execution_count": null
  },
  {
   "cell_type": "markdown",
   "metadata": {
    "id": "SWJS12mJR560"
   },
   "source": [
    "#### Comenzamos generando algunos datos."
   ]
  },
  {
   "cell_type": "code",
   "metadata": {
    "id": "LwIqnrJXR561"
   },
   "source": [
    "np.random.seed(16) #establecer semilla con fines de reproducibilidad\n",
    "\n",
    "x = np.arange(100) \n",
    "\n",
    "yp = 3*x + 3 + 5*(np.random.poisson(3*x+3,100)-(3*x+3)) #generar algunos datos con dispersión siguiendo la distribución de Poisson\n",
    "                                                    #con valor exp = y del modelo lineal, centrado alrededor de 0"
   ],
   "outputs": [],
   "execution_count": null
  },
  {
   "cell_type": "code",
   "metadata": {
    "id": "PU11g-P7R562",
    "executionInfo": {
     "status": "ok",
     "timestamp": 1683407664516,
     "user_tz": 240,
     "elapsed": 464,
     "user": {
      "displayName": "Manuel Marcano",
      "userId": "17927109008814471837"
     }
    },
    "outputId": "fe485f25-de62-4bbd-9c5c-fdef281da07c",
    "colab": {
     "base_uri": "https://localhost:8080/",
     "height": 1000
    }
   },
   "source": [
    "#¡démosle un vistazo!\n",
    "\n",
    "plt.scatter(x, yp);"
   ],
   "outputs": [],
   "execution_count": null
  },
  {
   "cell_type": "markdown",
   "metadata": {
    "id": "PxKb9keeR563"
   },
   "source": [
    "#### Aquí viene el modelo de regresión lineal (en inglés \"Linear Regression\") ;) "
   ]
  },
  {
   "cell_type": "code",
   "metadata": {
    "id": "fUTHzotNR564"
   },
   "source": [
    "model = linear_model.LinearRegression()"
   ],
   "outputs": [],
   "execution_count": null
  },
  {
   "cell_type": "code",
   "metadata": {
    "id": "Nph8kzHyR564",
    "executionInfo": {
     "status": "ok",
     "timestamp": 1683407664517,
     "user_tz": 240,
     "elapsed": 15,
     "user": {
      "displayName": "Manuel Marcano",
      "userId": "17927109008814471837"
     }
    },
    "outputId": "4f28773e-80af-413b-8f9e-8ee724a03609",
    "colab": {
     "base_uri": "https://localhost:8080/",
     "height": 75
    }
   },
   "source": [
    "model"
   ],
   "outputs": [],
   "execution_count": null
  },
  {
   "cell_type": "markdown",
   "metadata": {
    "id": "1GolhHu9R565"
   },
   "source": [
    "Podemos ajustar el modelo (ahora mismo, lo haremos usando todo el conjunto de datos solo para comparar con la solución analítica). Cuando solo hay un predictor presente, necesitamos reestructurar en forma de columna."
   ]
  },
  {
   "cell_type": "code",
   "metadata": {
    "id": "Bp3yKe9NR566",
    "executionInfo": {
     "status": "ok",
     "timestamp": 1683407664518,
     "user_tz": 240,
     "elapsed": 15,
     "user": {
      "displayName": "Manuel Marcano",
      "userId": "17927109008814471837"
     }
    },
    "outputId": "cad8316c-58cf-4ec3-b4b2-a841cafedd82",
    "colab": {
     "base_uri": "https://localhost:8080/",
     "height": 75
    }
   },
   "source": [
    "model.fit(x.reshape(-1,1),yp) "
   ],
   "outputs": [],
   "execution_count": null
  },
  {
   "cell_type": "markdown",
   "metadata": {
    "id": "vUZyLYBdR567"
   },
   "source": [
    "El modelo ajustado tiene atributos \"coef_\", \"intercept_\"\n"
   ]
  },
  {
   "cell_type": "code",
   "metadata": {
    "id": "AkdmMFn6R568"
   },
   "source": [
    "pendiente, intercepto  = model.coef_, model.intercept_ "
   ],
   "outputs": [],
   "execution_count": null
  },
  {
   "cell_type": "code",
   "metadata": {
    "scrolled": true,
    "id": "DDjXpXBvR568",
    "executionInfo": {
     "status": "ok",
     "timestamp": 1683407664682,
     "user_tz": 240,
     "elapsed": 9,
     "user": {
      "displayName": "Manuel Marcano",
      "userId": "17927109008814471837"
     }
    },
    "outputId": "0dac884b-cd90-46da-805c-d30e49659861",
    "colab": {
     "base_uri": "https://localhost:8080/"
    }
   },
   "source": [
    "print(pendiente, intercepto)"
   ],
   "outputs": [],
   "execution_count": null
  },
  {
   "cell_type": "markdown",
   "metadata": {
    "id": "PJqjwJRqR568"
   },
   "source": [
    "Podemos graficar el original y la línea ajustada."
   ]
  },
  {
   "cell_type": "code",
   "metadata": {
    "id": "01p4m20BR569",
    "executionInfo": {
     "status": "ok",
     "timestamp": 1683407665347,
     "user_tz": 240,
     "elapsed": 672,
     "user": {
      "displayName": "Manuel Marcano",
      "userId": "17927109008814471837"
     }
    },
    "outputId": "b8a53ab6-878e-45c7-b63a-4d09084a147e",
    "colab": {
     "base_uri": "https://localhost:8080/",
     "height": 1000
    }
   },
   "source": [
    "plt.figure(figsize = (10,6))\n",
    "plt.scatter(x,yp, s = 20, c = 'gray', label = 'Datos')\n",
    "plt.plot(x, pendiente*x + intercepto, c ='k', label = 'Ajuste de Mínimos Cuadrados Ordinarios')\n",
    "plt.plot(x, 3*x + 3, c = 'r', label = 'Línea de regresión verdadera')\n",
    "plt.legend(fontsize = 14)\n",
    "plt.xlabel('X')\n",
    "plt.ylabel('Y')"
   ],
   "outputs": [],
   "execution_count": null
  },
  {
   "cell_type": "markdown",
   "metadata": {
    "id": "Jdkj4KohR569"
   },
   "source": [
    "¿Cuáles son las predicciones analíticas para los coeficientes?"
   ]
  },
  {
   "cell_type": "code",
   "metadata": {
    "id": "Msv7YYD2R569"
   },
   "source": [
    "#Predicciones - complete la fórmula analítica\n",
    "\n",
    "theta1 = np.sum((x - np.mean(x))*(yp - np.mean(yp)))/np.sum((x - np.mean(x))*(x - np.mean(x)))\n",
    "\n",
    "theta0 = np.mean(yp) - theta1*np.mean(x)"
   ],
   "outputs": [],
   "execution_count": null
  },
  {
   "cell_type": "code",
   "metadata": {
    "id": "QOTm1U95R569",
    "executionInfo": {
     "status": "ok",
     "timestamp": 1683407665357,
     "user_tz": 240,
     "elapsed": 25,
     "user": {
      "displayName": "Manuel Marcano",
      "userId": "17927109008814471837"
     }
    },
    "outputId": "0b458367-1ba9-4c67-bd2d-44991d298025",
    "colab": {
     "base_uri": "https://localhost:8080/"
    }
   },
   "source": [
    "print('Theta_0, Theta_1:', theta0, theta1)"
   ],
   "outputs": [],
   "execution_count": null
  },
  {
   "cell_type": "markdown",
   "metadata": {
    "id": "yYWhjJabR569"
   },
   "source": [
    "También podemos obtener el segundo en la notación de varianza/covarianza (nota: la pequeña diferencia se debe a 1/n vs a 1/(n-1) en la definición)\n"
   ]
  },
  {
   "cell_type": "code",
   "metadata": {
    "id": "nTDI5bQsR56-",
    "executionInfo": {
     "status": "ok",
     "timestamp": 1683407665358,
     "user_tz": 240,
     "elapsed": 22,
     "user": {
      "displayName": "Manuel Marcano",
      "userId": "17927109008814471837"
     }
    },
    "outputId": "9b3993a6-76ab-4258-e583-6998731f0c9f",
    "colab": {
     "base_uri": "https://localhost:8080/"
    }
   },
   "source": [
    "print('Cov de la Muestra  / var de la Muestra:', np.cov(x,yp, bias=True)[0,1]/np.var(x))"
   ],
   "outputs": [],
   "execution_count": null
  },
  {
   "cell_type": "markdown",
   "metadata": {
    "id": "9UNhFTTcR56-"
   },
   "source": [
    "#### Podemos (¡y debemos!) hacer validación cruzada y todas las cosas buenas que hemos aprendido a hacer para los problemas de clasificación.\n"
   ]
  },
  {
   "cell_type": "code",
   "metadata": {
    "id": "B0HI3_nQR56-"
   },
   "source": [
    "cv = KFold(n_splits = 5 , shuffle = True , random_state = 10)"
   ],
   "outputs": [],
   "execution_count": null
  },
  {
   "cell_type": "code",
   "metadata": {
    "id": "qzTSXU9RR56_"
   },
   "source": [
    "notas = cross_validate(model, x.reshape(-1,1), yp, cv = cv, return_train_score = True)"
   ],
   "outputs": [],
   "execution_count": null
  },
  {
   "cell_type": "code",
   "metadata": {
    "id": "Mz9D_-GWR56_",
    "executionInfo": {
     "status": "ok",
     "timestamp": 1683407665510,
     "user_tz": 240,
     "elapsed": 19,
     "user": {
      "displayName": "Manuel Marcano",
      "userId": "17927109008814471837"
     }
    },
    "outputId": "3142d6d3-d9b7-4a36-c170-0e395924c580",
    "colab": {
     "base_uri": "https://localhost:8080/"
    }
   },
   "source": [
    "notas #en inglés \"score\", entrenamiento en inglés \"test\", entremaniento en inglés 'train'"
   ],
   "outputs": [],
   "execution_count": null
  },
  {
   "cell_type": "code",
   "metadata": {
    "id": "a3n9FaWBR56_",
    "executionInfo": {
     "status": "ok",
     "timestamp": 1683407665511,
     "user_tz": 240,
     "elapsed": 18,
     "user": {
      "displayName": "Manuel Marcano",
      "userId": "17927109008814471837"
     }
    },
    "outputId": "708282e6-64f9-4775-cb37-6a711d459f9b",
    "colab": {
     "base_uri": "https://localhost:8080/"
    }
   },
   "source": [
    "print('{:.3f}'.format(notas['test_score'].mean()), '{:.3f}'.format(notas['test_score'].std()))\n",
    "print('{:.3f}'.format(notas['train_score'].mean()), '{:.3f}'.format(notas['train_score'].std()))"
   ],
   "outputs": [],
   "execution_count": null
  },
  {
   "cell_type": "markdown",
   "metadata": {
    "id": "RSFSW-SzR57A"
   },
   "source": [
    "### Preguntas:\n",
    "\n",
    "- ¿Cuáles son las notas que se están imprimiendo?\n",
    "\n",
    "- ¿Cómo son las notas?\n",
    "\n",
    "- ¿Sufre de alta varianza? ¿Alto sesgo?\n",
    "\n",
    "- ¿Qué pasaría con las notas si aumentamos la  dispersión (ruido)?"
   ]
  },
  {
   "cell_type": "markdown",
   "metadata": {
    "id": "NmGZwQhBR57B"
   },
   "source": [
    "### <font color='green'> Notas en problemas de regresión. </font>"
   ]
  },
  {
   "cell_type": "markdown",
   "metadata": {
    "id": "tqMvFtvfR57B"
   },
   "source": [
    "### Aquí hay una forma de visualizar todas las notas disponibles."
   ]
  },
  {
   "cell_type": "code",
   "metadata": {
    "id": "ZERqNFB9R57B",
    "executionInfo": {
     "status": "ok",
     "timestamp": 1683407665511,
     "user_tz": 240,
     "elapsed": 14,
     "user": {
      "displayName": "Manuel Marcano",
      "userId": "17927109008814471837"
     }
    },
    "outputId": "304c5025-2225-42ba-d162-8a8e274611b9",
    "colab": {
     "base_uri": "https://localhost:8080/"
    }
   },
   "source": [
    "print(sorted(sklearn.metrics.SCORERS.keys()))"
   ],
   "outputs": [],
   "execution_count": null
  },
  {
   "cell_type": "markdown",
   "metadata": {
    "id": "SGXMmeeXR57C"
   },
   "source": [
    "### ¿Reconoces algunas de ellas?\n",
    "\n",
    "A ver si podemos encontrar el error cuadrático medio (ECM). En inglés mean square error (MSE)"
   ]
  },
  {
   "cell_type": "code",
   "metadata": {
    "id": "g3JhBsIQR57C"
   },
   "source": [
    "notas = cross_validate(model, x.reshape(-1,1), yp, cv = cv, scoring = 'neg_mean_squared_error', return_train_score = True)"
   ],
   "outputs": [],
   "execution_count": null
  },
  {
   "cell_type": "code",
   "metadata": {
    "scrolled": true,
    "id": "pR_CDsFSR57C",
    "executionInfo": {
     "status": "ok",
     "timestamp": 1683407665512,
     "user_tz": 240,
     "elapsed": 13,
     "user": {
      "displayName": "Manuel Marcano",
      "userId": "17927109008814471837"
     }
    },
    "outputId": "529e9999-af79-4f9f-8237-93ff198f19fd",
    "colab": {
     "base_uri": "https://localhost:8080/"
    }
   },
   "source": [
    "print('{:.3f}'.format(notas['test_score'].mean()), '{:.3f}'.format(notas['test_score'].std()))\n",
    "print('{:.3f}'.format(notas['train_score'].mean()), '{:.3f}'.format(notas['train_score'].std()))"
   ],
   "outputs": [],
   "execution_count": null
  },
  {
   "cell_type": "markdown",
   "metadata": {
    "id": "7cgHQwdzR57C"
   },
   "source": [
    "También podemos probar el error absoluto medio (EAM). En inglés mean absolute error (MAE)"
   ]
  },
  {
   "cell_type": "code",
   "metadata": {
    "id": "2jnvnVZpR57D"
   },
   "source": [
    "notas = cross_validate(model, x.reshape(-1,1), yp, cv = cv, scoring = 'neg_mean_absolute_error', return_train_score = True)"
   ],
   "outputs": [],
   "execution_count": null
  },
  {
   "cell_type": "code",
   "metadata": {
    "id": "UnNbbd7FR57D",
    "executionInfo": {
     "status": "ok",
     "timestamp": 1683407665513,
     "user_tz": 240,
     "elapsed": 10,
     "user": {
      "displayName": "Manuel Marcano",
      "userId": "17927109008814471837"
     }
    },
    "outputId": "9eb51c43-8852-4f2a-e829-307b5b1acb07",
    "colab": {
     "base_uri": "https://localhost:8080/"
    }
   },
   "source": [
    "print('{:.3f}'.format(notas['test_score'].mean()), '{:.3f}'.format(notas['test_score'].std()))\n",
    "print('{:.3f}'.format(notas['train_score'].mean()), '{:.3f}'.format(notas['train_score'].std()))"
   ],
   "outputs": [],
   "execution_count": null
  },
  {
   "cell_type": "markdown",
   "metadata": {
    "id": "fTTNJAuYR57D"
   },
   "source": [
    "Al graficar los residuos, podemos ver que son independientes de x (no se cumplen los supuestos del modelo lineal probabilístico). Pero eso no significa que no podamos crear un modelo."
   ]
  },
  {
   "cell_type": "code",
   "metadata": {
    "id": "PpF6KdvFR57E",
    "executionInfo": {
     "status": "ok",
     "timestamp": 1683407666136,
     "user_tz": 240,
     "elapsed": 631,
     "user": {
      "displayName": "Manuel Marcano",
      "userId": "17927109008814471837"
     }
    },
    "outputId": "0b091059-1bb8-4fea-c493-14c751902039",
    "colab": {
     "base_uri": "https://localhost:8080/",
     "height": 1000
    }
   },
   "source": [
    "plt.scatter(x, pendiente*x + intercepto - yp, color = 'b', label = 'Residuales')\n",
    "\n",
    "plt.legend();"
   ],
   "outputs": [],
   "execution_count": null
  },
  {
   "cell_type": "markdown",
   "metadata": {
    "id": "NN_5hRMaR57E"
   },
   "source": [
    "### Notas personalizadas"
   ]
  },
  {
   "cell_type": "markdown",
   "metadata": {
    "id": "6fKU-IngR57E"
   },
   "source": [
    "Tal vez nos gustaría implementar una nota y ver el error porcentual. Aquí está cómo hacer una nota personalizada:\n"
   ]
  },
  {
   "cell_type": "code",
   "metadata": {
    "id": "6FjKg1peR57E"
   },
   "source": [
    "from sklearn.metrics import make_scorer"
   ],
   "outputs": [],
   "execution_count": null
  },
  {
   "cell_type": "markdown",
   "metadata": {
    "id": "l1HZN7-RR57E"
   },
   "source": [
    "### Registro de Aprendizaje\n",
    "    \n",
    "¿Cómo implementarías una nota? Por favor complete el código.\n",
    "\n",
    "```python\n",
    "def mape(...,...): #Error Porcentual Absoluto Medio (en inglés Mean Absolute Percentage Error (MAPE))\n",
    "    return ....\n",
    "\n",
    "mape_scorer = make_scorer(mape, greater_is_better = False)\n",
    "```\n",
    "\n",
    "</br>\n",
    "\n",
    "<details>\n",
    "<summary style=\"display: list-item;\">¡Haz clic aquí para la respuesta!!</summary>\n",
    "<p>\n",
    "    \n",
    "```python\n",
    "def mape(true,pred): #Error Porcentual Absoluto Medio (en inglés Mean Absolute Percentage Error (MAPE))\n",
    "    return np.mean(np.abs(true-pred)/(true))\n",
    "\n",
    "mape_scorer = make_scorer(mape, greater_is_better = False)\n",
    "```\n",
    "    \n",
    "</p>\n",
    "</details>\n",
    "</br>\n"
   ]
  },
  {
   "cell_type": "markdown",
   "metadata": {
    "id": "RYVnqAUjR57F"
   },
   "source": [
    "Lo intentaremos con el error porcentual absoluto medio ajustado, en su lugar, para evitar ceros. En inglés The mean absolute percentage error (MAPE)"
   ]
  },
  {
   "cell_type": "code",
   "metadata": {
    "id": "sagMv_b0R57F"
   },
   "source": [
    "def mape(true,pred): #error porcentual absoluto medio ajustado\n",
    "    return np.mean(np.abs(true-pred)/(0.5*(true+pred)))\n",
    "\n",
    "mape_scorer = make_scorer(mape, greater_is_better = False)"
   ],
   "outputs": [],
   "execution_count": null
  },
  {
   "cell_type": "code",
   "metadata": {
    "id": "gsB51W4KR57F"
   },
   "source": [
    "notas = cross_validate(model, x.reshape(-1,1), yp, cv = cv, scoring = mape_scorer, return_train_score = True)"
   ],
   "outputs": [],
   "execution_count": null
  },
  {
   "cell_type": "code",
   "metadata": {
    "id": "5V0hyhS4R57G",
    "executionInfo": {
     "status": "ok",
     "timestamp": 1683407666138,
     "user_tz": 240,
     "elapsed": 10,
     "user": {
      "displayName": "Manuel Marcano",
      "userId": "17927109008814471837"
     }
    },
    "outputId": "3c5aaba2-0e30-4423-d917-8e263e2155d6",
    "colab": {
     "base_uri": "https://localhost:8080/"
    }
   },
   "source": [
    "notas"
   ],
   "outputs": [],
   "execution_count": null
  },
  {
   "cell_type": "code",
   "metadata": {
    "id": "xBcuNZJqR57G",
    "executionInfo": {
     "status": "ok",
     "timestamp": 1683407666139,
     "user_tz": 240,
     "elapsed": 10,
     "user": {
      "displayName": "Manuel Marcano",
      "userId": "17927109008814471837"
     }
    },
    "outputId": "d5507eb9-44db-40a5-9bdf-24dc4608e9ad",
    "colab": {
     "base_uri": "https://localhost:8080/"
    }
   },
   "source": [
    "print('{:.3f}'.format(notas['test_score'].mean()), '{:.3f}'.format(notas['test_score'].std()))\n",
    "print('{:.3f}'.format(notas['train_score'].mean()), '{:.3f}'.format(notas['train_score'].std()))"
   ],
   "outputs": [],
   "execution_count": null
  },
  {
   "cell_type": "markdown",
   "metadata": {
    "id": "iiHNmog8R57G"
   },
   "source": [
    "#### Nota: como ya comentamos, hasta ahora no hemos cambiado la función de pérdida (ECM), ni los coeficientes del modelo. Solo hemos analizado diferentes métricas de evaluación.\n"
   ]
  },
  {
   "cell_type": "markdown",
   "metadata": {
    "id": "ajoOWWq9R57G"
   },
   "source": [
    "#### <font color = 'green'> Pregunta 1: ¿cambiaría la línea de mejor ajuste si optimizamos una función de pérdida diferente? </font>"
   ]
  },
  {
   "cell_type": "markdown",
   "metadata": {
    "id": "DiJNyYamR57G"
   },
   "source": [
    "¡Sí!"
   ]
  },
  {
   "cell_type": "markdown",
   "metadata": {
    "id": "_kscl5KGR57G"
   },
   "source": [
    "#### <font color = 'green'> Pregunta 2: ¿Cómo podemos implementar eso sin una solución analítica? </font>"
   ]
  },
  {
   "cell_type": "markdown",
   "metadata": {
    "id": "6YIVM50tR57H"
   },
   "source": [
    "Búsqueda de cuadrícula. En inglés \"Grid Search\""
   ]
  },
  {
   "cell_type": "markdown",
   "metadata": {
    "id": "l7nqK1s4R57H"
   },
   "source": [
    "Este es un ejemplo usando el error cuadrático medio. En inglés mean square error (MSE)"
   ]
  },
  {
   "cell_type": "code",
   "metadata": {
    "id": "Zmel00dgR57H"
   },
   "source": [
    "theta0 = np.linspace(-5,5,200)\n",
    "theta1 = np.linspace(-5,5,200)"
   ],
   "outputs": [],
   "execution_count": null
  },
  {
   "cell_type": "code",
   "metadata": {
    "id": "-nS44GwYR57H"
   },
   "source": [
    "ecm = np.empty((200,200))\n",
    "\n",
    "for i,t0 in enumerate(theta0):\n",
    "    for j,t1 in enumerate(theta1):\n",
    "        ecm[i,j] = np.sum((t0 + t1*x - yp)**2)/len(yp)"
   ],
   "outputs": [],
   "execution_count": null
  },
  {
   "cell_type": "markdown",
   "metadata": {
    "id": "BZ_LkxmxR57I"
   },
   "source": [
    "Para obtener los índices de la matriz 2D, necesitamos descifrar su indice"
   ]
  },
  {
   "cell_type": "code",
   "source": [
    "t = np.unravel_index([1, 2, 3], (2,3))\n",
    "t"
   ],
   "metadata": {
    "colab": {
     "base_uri": "https://localhost:8080/"
    },
    "id": "9hr0yOKh0Wyj",
    "executionInfo": {
     "status": "ok",
     "timestamp": 1683407667129,
     "user_tz": 240,
     "elapsed": 12,
     "user": {
      "displayName": "Manuel Marcano",
      "userId": "17927109008814471837"
     }
    },
    "outputId": "ffd7359c-b79b-4182-ffa9-25af30505707"
   },
   "outputs": [],
   "execution_count": null
  },
  {
   "cell_type": "code",
   "metadata": {
    "id": "oLGIJOADR57I",
    "executionInfo": {
     "status": "ok",
     "timestamp": 1683407667130,
     "user_tz": 240,
     "elapsed": 12,
     "user": {
      "displayName": "Manuel Marcano",
      "userId": "17927109008814471837"
     }
    },
    "outputId": "147b7802-f0a6-479b-d2fb-a79a156a5a4f",
    "colab": {
     "base_uri": "https://localhost:8080/"
    }
   },
   "source": [
    "np.unravel_index(ecm.argmin(), ecm.shape)"
   ],
   "outputs": [],
   "execution_count": null
  },
  {
   "cell_type": "markdown",
   "metadata": {
    "id": "9c9kS5L6R57I"
   },
   "source": [
    "Ahora podemos encontrar el ECM mínimo (la verdad no muy informativo) y los coeficientes de mejor ajuste:\n",
    "\n",
    "\n",
    "\n"
   ]
  },
  {
   "cell_type": "code",
   "metadata": {
    "id": "0rgUjX2HR57I",
    "executionInfo": {
     "status": "ok",
     "timestamp": 1683407667130,
     "user_tz": 240,
     "elapsed": 9,
     "user": {
      "displayName": "Manuel Marcano",
      "userId": "17927109008814471837"
     }
    },
    "outputId": "bebf939d-ab1a-40f4-a866-5fb554a40de8",
    "colab": {
     "base_uri": "https://localhost:8080/"
    }
   },
   "source": [
    "ecm[25,160]"
   ],
   "outputs": [],
   "execution_count": null
  },
  {
   "cell_type": "code",
   "metadata": {
    "id": "iTH9UX4CR57J",
    "executionInfo": {
     "status": "ok",
     "timestamp": 1683407667131,
     "user_tz": 240,
     "elapsed": 8,
     "user": {
      "displayName": "Manuel Marcano",
      "userId": "17927109008814471837"
     }
    },
    "outputId": "8fa9a46a-2d06-4489-aa5f-12283d755f65",
    "colab": {
     "base_uri": "https://localhost:8080/"
    }
   },
   "source": [
    "theta0[25], theta1[160]"
   ],
   "outputs": [],
   "execution_count": null
  },
  {
   "cell_type": "markdown",
   "metadata": {
    "id": "PXa8D87lR57J"
   },
   "source": [
    "#### Pregunta: ¿Cómo se comparan con los encontrados por el Modelo Lineal/analíticos?\n"
   ]
  },
  {
   "cell_type": "markdown",
   "metadata": {
    "id": "yFj86o9oR57J"
   },
   "source": [
    "Será interesante ver qué sucede con los parámetros si usamos una función de pérdida diferente (el error absoluto medio\n",
    ", error porcentual absoluto medio, pérdida de Huber)."
   ]
  },
  {
   "cell_type": "markdown",
   "metadata": {
    "id": "ZHdH-IDDR57K"
   },
   "source": [
    "Sin embargo, debido a que estos datos son tan regulares, es un poco aburrido, así que antes de probar las diferentes pérdidas, inyectemos algunos valores atípicos en los datos."
   ]
  },
  {
   "cell_type": "markdown",
   "metadata": {
    "id": "2c7EnF7ZR57K"
   },
   "source": [
    "### ¿Qué sucede cuando agregamos valores atípicos?"
   ]
  },
  {
   "cell_type": "code",
   "metadata": {
    "id": "WerkSNpmR57K"
   },
   "source": [
    "np.random.seed(12) #establecer semilla con fines de reproducibilidad\n",
    "out = np.random.choice(100,15) #seleccionar 15 índices de valores atípicos\n",
    "yp_wo = np.copy(yp)\n",
    "np.random.seed(12) #establecer semilla de nuevo\n",
    "yp_wo[out] = yp_wo[out] + 5*np.random.rand(15)*yp[out]"
   ],
   "outputs": [],
   "execution_count": null
  },
  {
   "cell_type": "code",
   "metadata": {
    "id": "MFE7gfWuR57K",
    "executionInfo": {
     "status": "ok",
     "timestamp": 1683407668138,
     "user_tz": 240,
     "elapsed": 1012,
     "user": {
      "displayName": "Manuel Marcano",
      "userId": "17927109008814471837"
     }
    },
    "outputId": "1172694b-bbf8-4124-a601-e4e114c31e2b",
    "colab": {
     "base_uri": "https://localhost:8080/",
     "height": 1000
    }
   },
   "source": [
    "plt.scatter(x,yp_wo, label = 'Datos + valores atípicos')\n",
    "plt.scatter(x,yp, label = 'Datos Originales')\n",
    "plt.legend();"
   ],
   "outputs": [],
   "execution_count": null
  },
  {
   "cell_type": "markdown",
   "metadata": {
    "id": "82jUNZkxR57L"
   },
   "source": [
    "Podemos ver el efecto en el error cuadrático medio\n"
   ]
  },
  {
   "cell_type": "code",
   "metadata": {
    "id": "1AauHBmlR57L",
    "executionInfo": {
     "status": "ok",
     "timestamp": 1683407668139,
     "user_tz": 240,
     "elapsed": 5,
     "user": {
      "displayName": "Manuel Marcano",
      "userId": "17927109008814471837"
     }
    },
    "outputId": "53bfeea3-2e16-4788-f03c-f9e36f609025",
    "colab": {
     "base_uri": "https://localhost:8080/"
    }
   },
   "source": [
    "model.fit(x.reshape(-1,1),yp_wo)\n",
    "\n",
    "pendiente, intercepto = model.coef_, model.intercept_\n",
    "\n",
    "print(pendiente, intercepto)"
   ],
   "outputs": [],
   "execution_count": null
  },
  {
   "cell_type": "markdown",
   "metadata": {
    "id": "UgJrKntIR57L"
   },
   "source": [
    "### Registro de aprendizaje\n",
    "    \n",
    "¿Qué podemos esperar cuando aumentamos el número de valores atípicos a 30?\n",
    "\n",
    "<details>\n",
    "<summary style=\"display: list-item;\">¡Haz clic aquí para la respuesta!</summary>\n",
    "<p>\n",
    "    \n",
    "```\n",
    "Los nuevos valores están visiblemente sesgados por los valores atípicos.\n",
    "```\n",
    "    \n",
    "</p>\n",
    "</details>\n",
    "\n",
    "</br>\n",
    "\n",
    "</p>\n",
    "</details>\n",
    "\n",
    "¿Cuáles son los nuevos valores para la pendiente y el intercepto?\n",
    "\n",
    "<details>\n",
    "<summary style=\"display: list-item;\">¡Haz clic aquí para la respuesta!</summary>\n",
    "<p>\n",
    "    \n",
    "```\n",
    "[4.39426943] 5.633663366336549\n",
    "```\n",
    "    \n",
    "</p>\n",
    "</details>\n",
    "</br>"
   ]
  },
  {
   "cell_type": "markdown",
   "metadata": {
    "id": "fjyOuof2R57L"
   },
   "source": [
    "### Exercise: \n",
    "\n",
    "1. Calculate the best fitting coefficients (e.g. using a grid, like the one we made in the previous example) for the MSE, MAE and modified MAPE, and Huber loss.\n",
    "\n",
    "2. Plot the data and the four best fits.\n",
    "\n",
    "3. Explain the results by commenting on the differences.\n",
    "\n",
    "Note: the Huber loss is a hybrid between MSE and MAE (behaves like MAE when the error is larger than a certain amount, often called delta, so it's less sensitive to outliers). One possibility is to use the std of the y values to set delta."
   ]
  },
  {
   "cell_type": "markdown",
   "metadata": {
    "id": "ExQoFGgPR57L"
   },
   "source": [
    "### Solución"
   ]
  },
  {
   "cell_type": "code",
   "metadata": {
    "id": "TkER-YMHR57M"
   },
   "source": [
    "#De https://www.astroml.org/book_figures/chapter8/fig_huber_loss.html\n",
    "\n",
    "# Defina la verosimilitud logarítmica usando la función de pérdida de Huber\n",
    "def huber_loss(m, b, x, y, dy, c=2):\n",
    "    y_fit = m * x + b\n",
    "    t = abs((y - y_fit) / dy)\n",
    "    flag = t > c\n",
    "    return np.sum((~flag) * (0.5 * t ** 2) - (flag) * c * (0.5 * c - t), -1)"
   ],
   "outputs": [],
   "execution_count": null
  },
  {
   "cell_type": "code",
   "metadata": {
    "id": "ct341HawR57M",
    "executionInfo": {
     "status": "ok",
     "timestamp": 1683407785530,
     "user_tz": 240,
     "elapsed": 2383,
     "user": {
      "displayName": "Manuel Marcano",
      "userId": "17927109008814471837"
     }
    },
    "outputId": "6cb8a92b-b5be-490f-8877-eb8f94bc5400",
    "colab": {
     "base_uri": "https://localhost:8080/"
    }
   },
   "source": [
    "b0 = np.linspace(-5,5,200)\n",
    "b1 = np.linspace(-5,5,200)\n",
    "\n",
    "losses = ['ECM', 'EAM', 'EPMA', 'Huber']\n",
    "\n",
    "ecm = np.empty((200,200)) #en inglés mse\n",
    "eam = np.empty((200,200)) #en inglés mae\n",
    "epma = np.empty((200,200)) #en inglés mape\n",
    "huber = np.empty((200,200))\n",
    "\n",
    "c = 209 #Huber\n",
    "\n",
    "coeff = {}\n",
    "\n",
    "for i,beta0 in enumerate(b0):\n",
    "    for j,beta1 in enumerate(b1):\n",
    "        \n",
    "        #ECM\n",
    "        ecm[i,j] = np.sum((beta0 + beta1*x - yp_wo)**2)/len(yp_wo)\n",
    "        \n",
    "        #EAM\n",
    "        eam[i,j] = np.sum(np.abs(beta0 + beta1*x - yp_wo))/len(yp_wo)\n",
    "            \n",
    "        #EPMA\n",
    "        epma[i,j] = np.sum(np.abs(beta0 + beta1*x - yp_wo)/yp_wo)/len(yp_wo)\n",
    "        \n",
    "        #Huber\n",
    "        t = np.abs(beta0 + beta1*x - yp_wo)\n",
    "        flag = (t > c)\n",
    "        huber[i,j] = np.sum((~flag) * (0.5 * t ** 2) - (flag) * c * (0.5 * c - t))/len(yp_wo)\n",
    "\n",
    "for i,loss in enumerate([ecm, eam, epma, huber]):\n",
    "        \n",
    "    ind = np.unravel_index(loss.argmin(), loss.shape)\n",
    "    \n",
    "    coeff[losses[i]] = b0[ind[0]], b1[ind[1]]\n",
    "\n",
    "    print('Intercepto, pendiente:', losses[i], b0[ind[0]], b1[ind[1]])"
   ],
   "outputs": [],
   "execution_count": null
  },
  {
   "cell_type": "code",
   "source": [],
   "metadata": {
    "id": "KpfwK5LxSApt"
   },
   "outputs": [],
   "execution_count": null
  }
 ],
 "metadata": {
  "kernelspec": {
   "display_name": "Python 3 (ipykernel)",
   "language": "python",
   "name": "python3"
  },
  "language_info": {
   "codemirror_mode": {
    "name": "ipython",
    "version": 3
   },
   "file_extension": ".py",
   "mimetype": "text/x-python",
   "name": "python",
   "nbconvert_exporter": "python",
   "pygments_lexer": "ipython3",
   "version": "3.9.13"
  },
  "colab": {
   "provenance": []
  }
 },
 "nbformat": 4,
 "nbformat_minor": 0
}
