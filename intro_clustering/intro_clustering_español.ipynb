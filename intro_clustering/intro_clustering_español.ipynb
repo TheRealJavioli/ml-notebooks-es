{
 "cells": [
  {
   "cell_type": "markdown",
   "metadata": {
    "id": "D9TYNPby7unM"
   },
   "source": [
    "Este es un \"notebook\" (cuaderno digital) con una demostración de k-medias (del inglés k-means), DBSCAN y GMM.\n",
    "\n",
    "Acompaña al Capítulo 7 del libro (1 de 4) y muestra cómo se hacen diferentes figuras.\n",
    "\n",
    "Un poco menos pulido que otros como cuaderno de clase.\n",
    "\n",
    "Autor: Viviana Acquaviva, con contribuciones de Jake Postiglione y Olga Privman. Traducido por Manuel Pichardo Marcano y Genaro Suárez; ver también otras fuentes. "
   ]
  },
  {
   "cell_type": "code",
   "metadata": {
    "id": "Kc648jsn7unP",
    "executionInfo": {
     "status": "ok",
     "timestamp": 1685820964615,
     "user_tz": 240,
     "elapsed": 655,
     "user": {
      "displayName": "Genaro Suarez",
      "userId": "01104011119764010032"
     }
    }
   },
   "source": [
    "import matplotlib.pyplot as plt\n",
    "import numpy as np\n",
    "from sklearn.datasets import make_blobs\n",
    "from sklearn.cluster import KMeans\n",
    "from scipy.spatial.distance import cdist\n",
    "from sklearn import metrics"
   ],
   "outputs": [],
   "execution_count": null
  },
  {
   "cell_type": "code",
   "source": [
    "# %pip install mlxtend --upgrade "
   ],
   "metadata": {
    "id": "P9gGY79wQsl8",
    "colab": {
     "base_uri": "https://localhost:8080/"
    },
    "executionInfo": {
     "status": "ok",
     "timestamp": 1685820978397,
     "user_tz": 240,
     "elapsed": 8478,
     "user": {
      "displayName": "Genaro Suarez",
      "userId": "01104011119764010032"
     }
    },
    "outputId": "0588390f-56a4-44b6-aebb-366fee6253d5"
   },
   "outputs": [],
   "execution_count": null
  },
  {
   "cell_type": "code",
   "metadata": {
    "id": "lLQOPuIw7unS",
    "executionInfo": {
     "status": "ok",
     "timestamp": 1685820992595,
     "user_tz": 240,
     "elapsed": 938,
     "user": {
      "displayName": "Genaro Suarez",
      "userId": "01104011119764010032"
     }
    }
   },
   "source": [
    "from mlxtend.plotting import plot_decision_regions"
   ],
   "outputs": [],
   "execution_count": null
  },
  {
   "cell_type": "code",
   "metadata": {
    "colab": {
     "base_uri": "https://localhost:8080/",
     "height": 522
    },
    "id": "3GTl-vKd7unT",
    "executionInfo": {
     "status": "ok",
     "timestamp": 1685820993611,
     "user_tz": 240,
     "elapsed": 730,
     "user": {
      "displayName": "Genaro Suarez",
      "userId": "01104011119764010032"
     }
    },
    "outputId": "593da312-52c7-48c1-b9d2-b412665f2dbd"
   },
   "source": [
    "X, y_true = make_blobs(n_samples=300, centers=4,\n",
    "                       cluster_std=0.6, random_state=2)\n",
    "\n",
    "fig = plt.figure(figsize=(12,6))\n",
    "\n",
    "start = np.array([[-1,1],[1,-1],[3,-3],[-5,-10]]) #puntos iniciales (fijos para la reproducibilidad)\n",
    "\n",
    "plt.subplot(2,2,1)\n",
    "plt.scatter(X[:, 0], X[:, 1], s =3, c ='gray') # graficar los puntos originales\n",
    "plt.scatter(start[:,0],start[:,1], s = 20, c = 'k', label = 'Iteración 0');\n",
    "plt.xlim(-10,5);\n",
    "plt.annotate('Iteración 0', xy=(77, 20), xycoords='axes points',\n",
    "            size=14, ha='right', va='top')\n",
    "#plt.legend(loc='lower left');\n",
    "\n",
    "for i in range(1,4):\n",
    "    plt.subplot(2,2,i+1)\n",
    "    kmeans = KMeans(n_clusters=4, max_iter = i, init = start, n_init=1)\n",
    "    kmeans.fit(X)\n",
    "    y_kmeans = kmeans.predict(X)\n",
    "    centroids = kmeans.cluster_centers_\n",
    "    plt.scatter(X[:, 0], X[:, 1], s = 3, c = y_kmeans, cmap = 'rainbow') # graficar los puntos originales\n",
    "    plt.scatter(centroids[:, 0], centroids[:, 1], s=20, \\\n",
    "                edgecolor = 'k', label = 'Iteration'+str(i), c = [0,1,2,3],cmap = 'rainbow');\n",
    "    plt.xlim(-10,5);\n",
    "#    plt.legend(loc='lower left', numpoints=1);\n",
    "    plt.annotate('Iteración '+str(i), xy=(77, 20), xycoords='axes points',\n",
    "            size=14, ha='right', va='top')\n",
    "#            bbox=dict(boxstyle='round', fc='w'))\n",
    "#plt.savefig('Clustering_iterations.png', dpi = 300)"
   ],
   "outputs": [],
   "execution_count": null
  },
  {
   "cell_type": "markdown",
   "metadata": {
    "id": "HxQaCyYE7unV"
   },
   "source": [
    "### Registro de Aprendizaje\n",
    "    \n",
    "P: Según el gráfico superior izquierdo, etiquetado como \"Iteración 0\", ¿cuántos grupos de puntos dirías que hay?\n",
    "\n",
    "<details>\n",
    "<summary style=\"display: list-item;\">¡Haz clic aquí para la respuesta!</summary>\n",
    "<p>\n",
    "Hay 4 grupos de puntos o \"clusters\". Esto es fácil de ver para un ser humano, pero ¿cómo hacemos que una computadora haga esto por nosotros? Veamos a continuación los ejemplos que detallan algunas situaciones más difíciles que podemos encontrar con el agrupamiento\n",
    "</p>\n",
    "</details>\n"
   ]
  },
  {
   "cell_type": "markdown",
   "metadata": {
    "id": "6DnuZrvP7unW"
   },
   "source": [
    "### Primer ejemplo un poco engañoso: manchas superpuestas de diferente tamaño/densidad."
   ]
  },
  {
   "cell_type": "code",
   "metadata": {
    "id": "Ejz_H1zN7unX",
    "executionInfo": {
     "status": "ok",
     "timestamp": 1685821013422,
     "user_tz": 240,
     "elapsed": 87,
     "user": {
      "displayName": "Genaro Suarez",
      "userId": "01104011119764010032"
     }
    }
   },
   "source": [
    "X1b, y1b = make_blobs(n_samples=200, centers=[(1.25,1)],\n",
    "                       cluster_std=0.2, random_state=1)\n",
    "\n",
    "X2b, y2b = make_blobs(n_samples=400, centers=[(0,1)],\n",
    "                       cluster_std=0.5, random_state=2)\n",
    "\n",
    "X3b, y3b = make_blobs(n_samples=200, centers=[(-1.25,1)],\n",
    "                       cluster_std=0.2, random_state=3)"
   ],
   "outputs": [],
   "execution_count": null
  },
  {
   "cell_type": "code",
   "metadata": {
    "colab": {
     "base_uri": "https://localhost:8080/",
     "height": 540
    },
    "id": "V9emzDR87unY",
    "executionInfo": {
     "status": "ok",
     "timestamp": 1685821014936,
     "user_tz": 240,
     "elapsed": 367,
     "user": {
      "displayName": "Genaro Suarez",
      "userId": "01104011119764010032"
     }
    },
    "outputId": "8de4eead-c049-4c1b-f9fc-9c7e54f48707"
   },
   "source": [
    "fig = plt.figure(figsize=(12,6))\n",
    "\n",
    "plt.scatter(X1b[:, 0], X1b[:, 1], s =10, c ='gray') # graficar los puntos originales\n",
    "\n",
    "plt.scatter(X2b[:, 0], X2b[:, 1], s =10, c ='violet') # graficar los puntos originales\n",
    "\n",
    "plt.scatter(X3b[:, 0], X3b[:, 1], s =10, c ='teal') # graficar los puntos originales"
   ],
   "outputs": [],
   "execution_count": null
  },
  {
   "cell_type": "code",
   "metadata": {
    "id": "aJxy3pyu7una",
    "executionInfo": {
     "status": "ok",
     "timestamp": 1685821016174,
     "user_tz": 240,
     "elapsed": 106,
     "user": {
      "displayName": "Genaro Suarez",
      "userId": "01104011119764010032"
     }
    }
   },
   "source": [
    "Xb = np.vstack([X1b,X2b,X3b])"
   ],
   "outputs": [],
   "execution_count": null
  },
  {
   "cell_type": "code",
   "metadata": {
    "id": "mcfk58UD7und",
    "executionInfo": {
     "status": "ok",
     "timestamp": 1685821029100,
     "user_tz": 240,
     "elapsed": 97,
     "user": {
      "displayName": "Genaro Suarez",
      "userId": "01104011119764010032"
     }
    }
   },
   "source": [
    "kmeans = KMeans(n_clusters=3, n_init = 10, random_state=30) #predecir 0,1,2\n",
    "kmeans.fit(Xb)\n",
    "yb_kmeans = kmeans.predict(Xb)\n",
    "centersb = kmeans.cluster_centers_"
   ],
   "outputs": [],
   "execution_count": null
  },
  {
   "cell_type": "code",
   "source": [
    "yb_kmeans"
   ],
   "metadata": {
    "id": "iLtMhLy2SFrx",
    "colab": {
     "base_uri": "https://localhost:8080/"
    },
    "executionInfo": {
     "status": "ok",
     "timestamp": 1685821049391,
     "user_tz": 240,
     "elapsed": 124,
     "user": {
      "displayName": "Genaro Suarez",
      "userId": "01104011119764010032"
     }
    },
    "outputId": "ae939520-473c-4c53-e49e-26d2e21618c1"
   },
   "outputs": [],
   "execution_count": null
  },
  {
   "cell_type": "code",
   "source": [
    "yb = np.concatenate([np.zeros(len(y1b)),np.zeros(len(y2b))+1,np.zeros(len(y3b))+2])"
   ],
   "metadata": {
    "id": "43MiZmP0Egiy",
    "executionInfo": {
     "status": "ok",
     "timestamp": 1685826183082,
     "user_tz": 240,
     "elapsed": 101,
     "user": {
      "displayName": "Genaro Suarez",
      "userId": "01104011119764010032"
     }
    }
   },
   "outputs": [],
   "execution_count": null
  },
  {
   "cell_type": "code",
   "metadata": {
    "colab": {
     "base_uri": "https://localhost:8080/",
     "height": 259
    },
    "id": "1FG38zkd7ung",
    "executionInfo": {
     "status": "error",
     "timestamp": 1685821231236,
     "user_tz": 240,
     "elapsed": 131,
     "user": {
      "displayName": "Genaro Suarez",
      "userId": "01104011119764010032"
     }
    },
    "outputId": "d403e985-2fca-4951-df96-20ef0272b9ef"
   },
   "source": [
    "plt.figure(figsize=(8,6))\n",
    "plot_decision_regions(Xb, yb_kmeans.astype(int), clf=model, legend=0, markers = '...', colors = 'lightgray,violet,teal')\n",
    "plt.scatter(X1b[:,0],X1b[:,1], s = 30, c = 'lightgray',edgecolors='k')\n",
    "plt.scatter(X2b[:,0],X2b[:,1], s = 30, c = 'violet', edgecolors='k')\n",
    "plt.scatter(X3b[:,0],X3b[:,1],s = 30, c = 'teal', edgecolors='k')\n",
    "plt.scatter(centersb[:, 0], centersb[:, 1], c='black', s=100, alpha=0.5);\n",
    "\n",
    "plt.xlim(-2.5,2.5)\n",
    "plt.ylim(-0.5,2.5);\n",
    "\n",
    "#plt.savefig('ClustersBad.png', dpi = 300)"
   ],
   "outputs": [],
   "execution_count": null
  },
  {
   "cell_type": "markdown",
   "metadata": {
    "id": "5hlvgPWw7unh"
   },
   "source": [
    "### Ahora pasamos a una distribución diferente (cara sonriente).\n",
    "\n"
   ]
  },
  {
   "cell_type": "code",
   "metadata": {
    "id": "7at-l33a7unh",
    "executionInfo": {
     "status": "ok",
     "timestamp": 1685821235693,
     "user_tz": 240,
     "elapsed": 108,
     "user": {
      "displayName": "Genaro Suarez",
      "userId": "01104011119764010032"
     }
    }
   },
   "source": [
    "from math import pi, cos, sin\n",
    "from random import random\n",
    "\n",
    "def point(h, k, r):\n",
    "    theta = random() * 2 * pi\n",
    "    return h + cos(theta) * r, k + sin(theta) * r + 0.2*random()\n",
    "\n",
    "xy = [point(1,2,1) for _ in range(100)]"
   ],
   "outputs": [],
   "execution_count": null
  },
  {
   "cell_type": "code",
   "metadata": {
    "id": "C4dwxRvv7uni",
    "executionInfo": {
     "status": "ok",
     "timestamp": 1685821237060,
     "user_tz": 240,
     "elapsed": 112,
     "user": {
      "displayName": "Genaro Suarez",
      "userId": "01104011119764010032"
     }
    }
   },
   "source": [
    "X1, y1 = make_blobs(n_samples=10, centers=[(0.5,2.5)],\n",
    "                       cluster_std=0.05, random_state=1)\n",
    "\n",
    "X2, y2 = make_blobs(n_samples=10, centers=[(1.5,2.5)],\n",
    "                       cluster_std=0.05, random_state=2)\n",
    "\n",
    "X3, y3 = make_blobs(n_samples=10, centers=[(1,1.7)],\n",
    "                       cluster_std=0.05, random_state=2)"
   ],
   "outputs": [],
   "execution_count": null
  },
  {
   "cell_type": "code",
   "metadata": {
    "id": "JQV_5qKd7unj",
    "executionInfo": {
     "status": "ok",
     "timestamp": 1685821238806,
     "user_tz": 240,
     "elapsed": 100,
     "user": {
      "displayName": "Genaro Suarez",
      "userId": "01104011119764010032"
     }
    }
   },
   "source": [
    "X3_stretch = np.array([X3[:,0]*3, X3[:,1]]) #hacer la boca :) "
   ],
   "outputs": [],
   "execution_count": null
  },
  {
   "cell_type": "code",
   "metadata": {
    "colab": {
     "base_uri": "https://localhost:8080/",
     "height": 430
    },
    "id": "9TEeFwfa7unj",
    "executionInfo": {
     "status": "ok",
     "timestamp": 1685821243629,
     "user_tz": 240,
     "elapsed": 255,
     "user": {
      "displayName": "Genaro Suarez",
      "userId": "01104011119764010032"
     }
    },
    "outputId": "e4d661bf-7904-4b86-f825-41a66d0e0f13"
   },
   "source": [
    "plt.axes().set_aspect('equal', 'datalim')\n",
    "plt.scatter(*zip(*xy))\n",
    "plt.scatter(X1[:,0],X1[:,1])\n",
    "plt.scatter(X2[:,0],X2[:,1])\n",
    "plt.scatter(X3_stretch.T[:,0]-1.9,X3_stretch.T[:,1])\n",
    "\n",
    "plt.show()"
   ],
   "outputs": [],
   "execution_count": null
  },
  {
   "cell_type": "code",
   "metadata": {
    "id": "JdpAEyUw7unk",
    "executionInfo": {
     "status": "ok",
     "timestamp": 1685821246780,
     "user_tz": 240,
     "elapsed": 2,
     "user": {
      "displayName": "Genaro Suarez",
      "userId": "01104011119764010032"
     }
    }
   },
   "source": [
    "X = np.vstack([xy,X1,X2,np.array([X3_stretch.T[:,0]-1.9,X3_stretch.T[:,1]]).T])"
   ],
   "outputs": [],
   "execution_count": null
  },
  {
   "cell_type": "markdown",
   "metadata": {
    "id": "Lhvr2MoJ7unl"
   },
   "source": [
    "### Veamos cómo k-medias agrupa estos puntos."
   ]
  },
  {
   "cell_type": "code",
   "metadata": {
    "colab": {
     "base_uri": "https://localhost:8080/",
     "height": 501
    },
    "id": "QQ2Hysn47unl",
    "executionInfo": {
     "status": "ok",
     "timestamp": 1685821254106,
     "user_tz": 240,
     "elapsed": 360,
     "user": {
      "displayName": "Genaro Suarez",
      "userId": "01104011119764010032"
     }
    },
    "outputId": "3b9b1c88-5833-4cb9-fa21-f91839bb1f5f"
   },
   "source": [
    "kmeans = KMeans(n_clusters=4, n_init = 10) #También podemos cambiar el número de grupos\n",
    "kmeans.fit(X)\n",
    "y_kmeans = kmeans.predict(X)\n",
    "centers = kmeans.cluster_centers_\n",
    "\n",
    "print(centers)\n",
    "plt.scatter(X[:, 0], X[:, 1], c=y_kmeans, s=10, cmap='viridis')\n",
    "plt.scatter(centers[:, 0], centers[:, 1], c='black', s=100, alpha=0.5);"
   ],
   "outputs": [],
   "execution_count": null
  },
  {
   "cell_type": "code",
   "metadata": {
    "id": "gzK-MY7z7unm",
    "executionInfo": {
     "status": "ok",
     "timestamp": 1685821263989,
     "user_tz": 240,
     "elapsed": 82,
     "user": {
      "displayName": "Genaro Suarez",
      "userId": "01104011119764010032"
     }
    }
   },
   "source": [
    "y = np.concatenate([np.zeros(len(xy)), np.zeros(len(y1))+1,np.zeros(len(y2))+2,np.zeros(len(y3))+3])"
   ],
   "outputs": [],
   "execution_count": null
  },
  {
   "cell_type": "code",
   "metadata": {
    "colab": {
     "base_uri": "https://localhost:8080/",
     "height": 528
    },
    "id": "b4DM5w7c7unm",
    "executionInfo": {
     "status": "ok",
     "timestamp": 1685821296924,
     "user_tz": 240,
     "elapsed": 637,
     "user": {
      "displayName": "Genaro Suarez",
      "userId": "01104011119764010032"
     }
    },
    "outputId": "290629ba-ca44-40f9-8c1b-bd903c0ec225"
   },
   "source": [
    "plt.figure(figsize=(8,6))\n",
    "plot_decision_regions(X, y.astype(int), clf=kmeans, legend=0, markers = '.', colors = 'lightgray,teal,yellow,violet')\n",
    "plt.scatter(centers[:, 0], centers[:, 1], c='black', s=100, alpha=0.5);\n",
    "plt.scatter(*zip(*xy), s = 30, c = 'lightgray', edgecolors='k')\n",
    "plt.scatter(X1[:,0],X1[:,1], s = 30, c = 'teal',edgecolors='k')\n",
    "plt.scatter(X2[:,0],X2[:,1], s = 30, c = 'yellow', edgecolors='k')\n",
    "plt.scatter(X3_stretch.T[:,0]-1.9,X3_stretch.T[:,1],s = 30, c = 'violet', edgecolors='k')\n",
    "plt.xlim(-0.5,2.5);\n",
    "plt.ylim(0.5,3.5);\n",
    "#plt.savefig('ClustersBad2.png', dpi = 300)"
   ],
   "outputs": [],
   "execution_count": null
  },
  {
   "cell_type": "markdown",
   "metadata": {
    "id": "D_6XeHyw7unn"
   },
   "source": [
    "### Registro de Aprendizaje\n",
    "    \n",
    "P: ¿Se ve bien este ajuste? ¿Por qué nuestro método de agrupamiento podría estar agrupando objetos como este?\n",
    "\n",
    "<details>\n",
    "<summary style=\"display: list-item;\">¡Haz clic aquí para la respuesta!</summary>\n",
    "<p>\n",
    "¡Esto no es un muy buen ajuste! La cara sonriente es un ejemplo realmente engañoso, por varias razones. Una de estas razones es el anillo que rodea los tres cúmulos más pequeños. KMeans (algoritmo K-medias) no puede seleccionar grupos no convexos y termina dividiendo los puntos del anillo entre los grupos.\n",
    "</p>\n",
    "</details>"
   ]
  },
  {
   "cell_type": "markdown",
   "metadata": {
    "id": "gBA4F-zB7uno"
   },
   "source": [
    "#### La curva de codo se puede utilizar para inferir el número de grupos."
   ]
  },
  {
   "cell_type": "markdown",
   "metadata": {
    "id": "JjZ6Ez9v7unp"
   },
   "source": [
    "Esto es para la cara sonriente..."
   ]
  },
  {
   "cell_type": "code",
   "metadata": {
    "id": "T1rHVSEy7unp",
    "executionInfo": {
     "status": "ok",
     "timestamp": 1685821469042,
     "user_tz": 240,
     "elapsed": 250,
     "user": {
      "displayName": "Genaro Suarez",
      "userId": "01104011119764010032"
     }
    }
   },
   "source": [
    "inertias = []\n",
    "for k in range(2, 10):\n",
    "    kmeans = KMeans(n_clusters=k, n_init = 10)\n",
    "    kmeans.fit(X)\n",
    "    inertias.append(kmeans.inertia_)"
   ],
   "outputs": [],
   "execution_count": null
  },
  {
   "cell_type": "code",
   "metadata": {
    "id": "uLsaAL_47unq",
    "executionInfo": {
     "status": "ok",
     "timestamp": 1685821825082,
     "user_tz": 240,
     "elapsed": 542,
     "user": {
      "displayName": "Genaro Suarez",
      "userId": "01104011119764010032"
     }
    },
    "colab": {
     "base_uri": "https://localhost:8080/",
     "height": 574
    },
    "outputId": "637c2a27-ca55-439b-8d02-b6a11aba6a1d"
   },
   "source": [
    "fig = plt.figure(figsize=(8, 6))\n",
    "plt.plot(range(2, 10), inertias)\n",
    "#plt.grid(True)\n",
    "plt.title('Curva de codo para una cara sonriente');\n",
    "plt.xlabel('Número de grupos $k$', fontsize = 14);\n",
    "plt.ylabel('Función de costo de $k$-medias', fontsize = 14);\n",
    "#plt.savefig('ElbowSmiley.png', dpi = 300)"
   ],
   "outputs": [],
   "execution_count": null
  },
  {
   "cell_type": "markdown",
   "metadata": {
    "id": "Zi8zkaB57unq"
   },
   "source": [
    "# ... y esto es para los blobs."
   ]
  },
  {
   "cell_type": "code",
   "metadata": {
    "id": "63GbWSRF7unr",
    "executionInfo": {
     "status": "ok",
     "timestamp": 1685822088293,
     "user_tz": 240,
     "elapsed": 262,
     "user": {
      "displayName": "Genaro Suarez",
      "userId": "01104011119764010032"
     }
    }
   },
   "source": [
    "inertiasb = []\n",
    "for k in range(2, 10):\n",
    "    kmeans = KMeans(n_clusters=k, n_init = 10)\n",
    "    kmeans.fit(Xb)\n",
    "    inertiasb.append(kmeans.inertia_)"
   ],
   "outputs": [],
   "execution_count": null
  },
  {
   "cell_type": "code",
   "metadata": {
    "id": "CHiEDNZa7unr",
    "executionInfo": {
     "status": "ok",
     "timestamp": 1685822859058,
     "user_tz": 240,
     "elapsed": 665,
     "user": {
      "displayName": "Genaro Suarez",
      "userId": "01104011119764010032"
     }
    },
    "colab": {
     "base_uri": "https://localhost:8080/",
     "height": 575
    },
    "outputId": "1b7f0342-cd38-4c82-ec00-0bd05dda1441"
   },
   "source": [
    "fig = plt.figure(figsize=(8, 6))\n",
    "plt.plot(range(2, 10), inertiasb)\n",
    "#plt.grid(True)\n",
    "plt.title('Curva de codo para las manchas (del inglés blobs)');\n",
    "plt.xlabel('Número de grupos $k$', fontsize = 14);\n",
    "plt.ylabel('Función de costo de $k$-medias', fontsize = 14);\n",
    "plt.savefig('CodoBlobs.png', dpi = 300)\n"
   ],
   "outputs": [],
   "execution_count": null
  },
  {
   "cell_type": "markdown",
   "source": [
    "# Nota: podemos o no incluir el material a continuación, el cual no se menciona en las diapositivas. Podría ser bueno introducir al menos GMM (modelo generativo)."
   ],
   "metadata": {
    "id": "4NPGTVxyYrWH"
   }
  },
  {
   "cell_type": "markdown",
   "metadata": {
    "id": "WYScix2q7unr"
   },
   "source": [
    "### Nota de silueta"
   ]
  },
  {
   "cell_type": "code",
   "metadata": {
    "id": "UoubnjYu7uns",
    "executionInfo": {
     "status": "ok",
     "timestamp": 1685823146533,
     "user_tz": 240,
     "elapsed": 106,
     "user": {
      "displayName": "Genaro Suarez",
      "userId": "01104011119764010032"
     }
    }
   },
   "source": [
    "from sklearn.metrics import silhouette_samples, silhouette_score"
   ],
   "outputs": [],
   "execution_count": null
  },
  {
   "cell_type": "code",
   "metadata": {
    "id": "oNCqxxjC7uns",
    "executionInfo": {
     "status": "ok",
     "timestamp": 1685823766121,
     "user_tz": 240,
     "elapsed": 1877,
     "user": {
      "displayName": "Genaro Suarez",
      "userId": "01104011119764010032"
     }
    },
    "colab": {
     "base_uri": "https://localhost:8080/",
     "height": 1000
    },
    "outputId": "c4f7b446-961c-47fc-bf9f-ec97a31ede14"
   },
   "source": [
    "# Cara sonriente\n",
    "\n",
    "n_clusters = [2,3,4,6]\n",
    "\n",
    "for n in n_clusters:\n",
    "    \n",
    "    model = KMeans(n_clusters = n, n_init = 10)\n",
    "\n",
    "    model.fit(X)\n",
    "\n",
    "    y_kmeans = model.predict(X)\n",
    "\n",
    "    silhouette_scores = silhouette_samples(X, y_kmeans)\n",
    "\n",
    "    xlower = 10\n",
    "\n",
    "    fig, axs = plt.subplots(1, 2, figsize=(16, 8))\n",
    "    \n",
    "    ax = axs[1]\n",
    "    colors = plt.cm.Accent(y_kmeans.astype(float)/n)\n",
    "    #ax.scatter(X[:, 0], X[:, 1], c=colors, s=40, cmap='viridis', edgecolor='k');\n",
    "    ax.scatter(X[:, 0], X[:, 1], c=colors, s=40, edgecolor='k');\n",
    "    ax.tick_params(axis='both', which='both', labelsize=20);\n",
    "\n",
    "    ax = axs[0]\n",
    "\n",
    "    for i in np.unique(y_kmeans):\n",
    "        ind = y_kmeans==i\n",
    "        silh = np.sort(silhouette_scores[ind])\n",
    "        size_cluster_i = silh.shape[0]\n",
    "        xupper = xlower + size_cluster_i\n",
    "        color = plt.cm.Accent(float(i)/model.n_clusters)\n",
    "        ax.fill_between(np.arange(xlower, xupper), 0, silh, facecolor=color, edgecolor=color, alpha=0.7)\n",
    "        ax.axhline(y=0, c='k', lw=2)\n",
    "        ax.text(0.05, 0.95, '%0.0f grupos'%n, transform=ax.transAxes, fontsize=17)\n",
    "        ax.text(0.35, 0.95, 'Nota de silueta promedio: %0.2f'%np.mean(silhouette_scores), transform=ax.transAxes, fontsize=17)\n",
    "        xlower = xupper + 10\n",
    "        ax.set_ylabel('Nota de silueta', fontsize=16)\n",
    "        ax.set_ylim(-0.2,0.8)\n",
    "        \n",
    "    ax.axhline(y=np.mean(silhouette_scores), color=\"red\", linestyle=\"--\")\n",
    "    ax.tick_params(axis='both', which='both', labelsize=20);\n",
    "    ax.set_xticks([]);\n",
    "#    figname = 'SilhouetteSmiley'+str(n)+'.png'\n",
    "#    plt.savefig(figname, dpi = 300)"
   ],
   "outputs": [],
   "execution_count": null
  },
  {
   "cell_type": "markdown",
   "metadata": {
    "id": "wjYLBLhJ7unt"
   },
   "source": [
    "### Registro de aprendizaje\n",
    "    \n",
    "P: Una nota de silueta promedio más cercana a 1 significa que hay una superposición menor entre los grupos. Con eso en mente, ¿cuál es la mejor nota de silueta que vemos arriba?\n",
    "\n",
    "<br>\n",
    "\n",
    "<details>\n",
    "<summary style=\"display: list-item;\">¡Haz clic aquí para la respuesta!</summary>\n",
    "<p>\n",
    "La mejor nota que vemos es un 0.49 (nota: esto puede variar un poco, si la semilla aleatoria no es fija), con notas comparables para 4 y 6 grupos.\n",
    "</p>\n",
    "</details>"
   ]
  },
  {
   "cell_type": "code",
   "metadata": {
    "id": "DsYiAf2Y7unt",
    "executionInfo": {
     "status": "ok",
     "timestamp": 1685824017194,
     "user_tz": 240,
     "elapsed": 7178,
     "user": {
      "displayName": "Genaro Suarez",
      "userId": "01104011119764010032"
     }
    },
    "colab": {
     "base_uri": "https://localhost:8080/",
     "height": 1000,
     "output_embedded_package_id": "1-rH_QAsi_Qq92ntGQjp8EX4RiO7umVJ6"
    },
    "outputId": "6f2c937e-ca6f-4978-cd3a-843a168a0499"
   },
   "source": [
    "# manchas (del inglés blobs)\n",
    "\n",
    "n_clusters = np.arange(2, 10)\n",
    "\n",
    "for n in n_clusters:\n",
    "    \n",
    "    model = KMeans(n_clusters = n, n_init = 6)\n",
    "\n",
    "    model.fit(Xb)\n",
    "\n",
    "    y_kmeans = model.predict(Xb)\n",
    "    \n",
    "    silhouette_scores = silhouette_samples(Xb, y_kmeans)\n",
    "\n",
    "    xlower = 10\n",
    "\n",
    "    fig, axs = plt.subplots(1, 2, figsize=(16, 8))\n",
    "    \n",
    "    ax = axs[1]\n",
    "    colors = plt.cm.Accent(y_kmeans.astype(float)/n)\n",
    "    ax.scatter(Xb[:, 0], Xb[:, 1], c=colors, s=40, edgecolor='k');\n",
    "    ax.tick_params(axis='both', which='both', labelsize=20);\n",
    "\n",
    "    ax = axs[0]\n",
    "\n",
    "    for i in np.unique(y_kmeans):\n",
    "        ind = y_kmeans==i\n",
    "        silh = np.sort(silhouette_scores[ind])\n",
    "        size_cluster_i = silh.shape[0]\n",
    "        xupper = xlower + size_cluster_i\n",
    "        color = plt.cm.Accent(float(i)/model.n_clusters)\n",
    "        ax.fill_between(np.arange(xlower, xupper), 0, silh, facecolor=color, edgecolor=color, alpha=0.7)\n",
    "        ax.axhline(y=0, c='k', lw=2)\n",
    "        ax.text(0.05, 0.95, '%0.0f grupos'%n, transform=ax.transAxes, fontsize=17)\n",
    "        ax.text(0.35, 0.95, 'Nota de silueta promedio: %0.2f'%np.mean(silhouette_scores), transform=ax.transAxes, fontsize=17)\n",
    "        xlower = xupper + 10\n",
    "        ax.set_ylabel('Nota de silueta', fontsize=16)\n",
    "        ax.set_ylim(-0.15,0.85)\n",
    "        \n",
    "    ax.axhline(y=np.mean(silhouette_scores), color=\"red\", linestyle=\"--\")\n",
    "    ax.tick_params(axis='both', which='both', labelsize=20);\n",
    "    ax.set_xticks([]);\n",
    "#    figname = 'SilhouetteBlobs'+str(n)+'.png'\n",
    "#    plt.savefig(figname, dpi = 300)"
   ],
   "outputs": [],
   "execution_count": null
  },
  {
   "cell_type": "markdown",
   "metadata": {
    "id": "qqz7Ez1y7unu"
   },
   "source": [
    "### Agrupamiento basado en la densidad."
   ]
  },
  {
   "cell_type": "code",
   "metadata": {
    "id": "c9SwSuUy7unu",
    "executionInfo": {
     "status": "ok",
     "timestamp": 1685824119055,
     "user_tz": 240,
     "elapsed": 83,
     "user": {
      "displayName": "Genaro Suarez",
      "userId": "01104011119764010032"
     }
    }
   },
   "source": [
    "from sklearn.cluster import DBSCAN\n",
    "\n",
    "#Código adapdato de: https://scikit-learn.org/stable/auto_examples/cluster/plot_dbscan.html"
   ],
   "outputs": [],
   "execution_count": null
  },
  {
   "cell_type": "code",
   "metadata": {
    "id": "Crf_sUmH7unv",
    "executionInfo": {
     "status": "ok",
     "timestamp": 1685824679748,
     "user_tz": 240,
     "elapsed": 273,
     "user": {
      "displayName": "Genaro Suarez",
      "userId": "01104011119764010032"
     }
    },
    "colab": {
     "base_uri": "https://localhost:8080/",
     "height": 489
    },
    "outputId": "425c28ca-acf7-44ca-cf66-8ba8e8928f98"
   },
   "source": [
    "# #############################################################################\n",
    "# Calcular DBSCAN (del inglés \"Density-Based Spatial Clustering of Applications with Noise\" o agrupamiento espacial basado en la densidad de aplicaciones con ruido)\n",
    "db = DBSCAN(eps=0.25, min_samples=2).fit(X)\n",
    "core_samples_mask = np.zeros_like(db.labels_, dtype=bool)\n",
    "core_samples_mask[db.core_sample_indices_] = True\n",
    "labels = db.labels_\n",
    "\n",
    "# Número de grupos en las etiquetas, ignorando el ruido si lo hay.\n",
    "n_clusters_ = len(set(labels)) - (1 if -1 in labels else 0)\n",
    "n_noise_ = list(labels).count(-1)\n",
    "\n",
    "print('Número estimado de grupos: %d' % n_clusters_)\n",
    "print('Número estimado de puntos de ruido: %d' % n_noise_)\n",
    "\n",
    "# #############################################################################\n",
    "\n",
    "# Se eliminó el negro y se usa para el ruido en su lugar.\n",
    "unique_labels = set(labels)\n",
    "colors = [plt.cm.Spectral(each)\n",
    "          for each in np.linspace(0, 1, len(unique_labels))]\n",
    "for k, col in zip(unique_labels, colors):\n",
    "    if k == -1:\n",
    "        # Negro utilizado para el ruido.\n",
    "        col = [0, 0, 0, 1]\n",
    "\n",
    "    class_member_mask = (labels == k)\n",
    "\n",
    "    xy = X[class_member_mask & core_samples_mask]\n",
    "    plt.plot(xy[:, 0], xy[:, 1], 'o', markerfacecolor=tuple(col),\n",
    "             markeredgecolor='k', markersize=14)\n",
    "\n",
    "    xy = X[class_member_mask & ~core_samples_mask]\n",
    "    plt.plot(xy[:, 0], xy[:, 1], 'o', markerfacecolor=tuple(col),\n",
    "             markeredgecolor='k', markersize=6)\n",
    "\n",
    "plt.title('Número estimado de grupos: %d' % n_clusters_)\n",
    "plt.show()"
   ],
   "outputs": [],
   "execution_count": null
  },
  {
   "cell_type": "code",
   "metadata": {
    "scrolled": true,
    "id": "XH5pDO397unv",
    "executionInfo": {
     "status": "ok",
     "timestamp": 1685824816664,
     "user_tz": 240,
     "elapsed": 1788,
     "user": {
      "displayName": "Genaro Suarez",
      "userId": "01104011119764010032"
     }
    },
    "colab": {
     "base_uri": "https://localhost:8080/",
     "height": 1000
    },
    "outputId": "67915c9a-a8ea-4e44-9a95-9b93796ef33f"
   },
   "source": [
    "# #############################################################################\n",
    "# Calcular DBSCAN (del inglés \"Density-Based Spatial Clustering of Applications with Noise\" o agrupamiento espacial basado en la densidad de aplicaciones con ruido)\n",
    "\n",
    "for i,eps in enumerate([0.2, 0.25, 0.3, 0.35]):\n",
    "    \n",
    "    plt.figure(figsize = (6,6))\n",
    "    \n",
    "    db = DBSCAN(eps=eps, min_samples=2).fit(X)\n",
    "\n",
    "    core_samples_mask = np.zeros_like(db.labels_, dtype=bool)\n",
    "    core_samples_mask[db.core_sample_indices_] = True\n",
    "    labels = db.labels_\n",
    "\n",
    "# Número de grupos en las etiquetas, ignorando el ruido si lo hay.\n",
    "    n_clusters_ = len(set(labels)) - (1 if -1 in labels else 0)\n",
    "    n_noise_ = list(labels).count(-1)\n",
    "\n",
    "    print('Número estimado de grupos: %d' % n_clusters_)\n",
    "    print('Número estimado de puntos de ruido: %d' % n_noise_)\n",
    "\n",
    "# #############################################################################\n",
    "\n",
    "\n",
    "# Black removed and is used for noise instead.\n",
    "    unique_labels = set(labels)\n",
    "    colors = [plt.cm.Spectral(each)\n",
    "          for each in np.linspace(0, 1, len(unique_labels))]\n",
    "    for k, col in zip(unique_labels, colors):\n",
    "        if k == -1:\n",
    "        # Black used for noise.\n",
    "            col = [0, 0, 0, 1]\n",
    "\n",
    "        class_member_mask = (labels == k)\n",
    "\n",
    "        xy = X[class_member_mask & core_samples_mask]\n",
    "        plt.plot(xy[:, 0], xy[:, 1], 'o', markerfacecolor=tuple(col),\n",
    "             markeredgecolor='k', markersize=10)\n",
    "\n",
    "        xy = X[class_member_mask & ~core_samples_mask]\n",
    "        plt.plot(xy[:, 0], xy[:, 1], 'o', markerfacecolor=tuple(col),\n",
    "             markeredgecolor='k', markersize=6)\n",
    "\n",
    "    plt.title('$\\epsilon$ = %0.2f; número estimado de grupos: %d' % (eps, n_clusters_))\n",
    "    \n",
    "   # plt.savefig('DBSCAN_'+str(i)+'.png', dpi = 300)\n",
    "    \n",
    "    "
   ],
   "outputs": [],
   "execution_count": null
  },
  {
   "cell_type": "markdown",
   "metadata": {
    "id": "KPyUIdgl7unw"
   },
   "source": [
    "### ÓPTICA"
   ]
  },
  {
   "cell_type": "code",
   "metadata": {
    "id": "dXfpKge47unw",
    "executionInfo": {
     "status": "ok",
     "timestamp": 1685824895042,
     "user_tz": 240,
     "elapsed": 116,
     "user": {
      "displayName": "Genaro Suarez",
      "userId": "01104011119764010032"
     }
    }
   },
   "source": [
    "from sklearn.cluster import OPTICS"
   ],
   "outputs": [],
   "execution_count": null
  },
  {
   "cell_type": "markdown",
   "metadata": {
    "id": "u3fJ8QnM7uny"
   },
   "source": [
    "# Fuente parcial:\n",
    "    \n",
    "https://scikit-learn.org/stable/auto_examples/cluster/plot_optics.html"
   ]
  },
  {
   "cell_type": "code",
   "metadata": {
    "id": "6WQdaNgQ7uny",
    "executionInfo": {
     "status": "ok",
     "timestamp": 1685825012520,
     "user_tz": 240,
     "elapsed": 798,
     "user": {
      "displayName": "Genaro Suarez",
      "userId": "01104011119764010032"
     }
    },
    "colab": {
     "base_uri": "https://localhost:8080/",
     "height": 581
    },
    "outputId": "01aeae52-ead2-432a-f3f9-ef01014587c4"
   },
   "source": [
    "# #############################################################################\n",
    "\n",
    "op = OPTICS(xi=0.05, min_cluster_size=.05).fit(X)\n",
    "\n",
    "labels = op.labels_\n",
    "\n",
    "# Número de grupos en las etiquetas, ignorando el ruido si lo hay.\n",
    "n_clusters_ = len(set(labels)) - (1 if -1 in labels else 0)\n",
    "n_noise_ = list(labels).count(-1)\n",
    "\n",
    "print('Número estimado de grupos: %d' % n_clusters_)\n",
    "print('Número estimado de puntos de ruido: %d' % n_noise_)\n",
    "\n",
    "# El negro se eliminó y se usa para el ruido en su lugar.\n",
    "unique_labels = np.unique(labels)\n",
    "\n",
    "colors = [plt.cm.Spectral(each)\n",
    "          for each in np.linspace(0, 1, len(unique_labels))]\n",
    "\n",
    "plt.figure(figsize=(6,6))\n",
    "\n",
    "for klass, color in zip(unique_labels[1:], colors[1:]):\n",
    "\n",
    "    Xk = X[op.labels_ == klass]\n",
    "    plt.scatter(Xk[:, 0], Xk[:, 1], 60, np.array([color,]),\\\n",
    "                'o', edgecolors='k',linewidths=1, )#, ls = 'None')\n",
    "    \n",
    "plt.plot(X[op.labels_ == -1, 0], X[op.labels_ == -1, 1], 'k+', ls = 'None')\n",
    "\n",
    "plt.title('Número estimado de grupos: %d' % n_clusters_)\n",
    "plt.show()"
   ],
   "outputs": [],
   "execution_count": null
  },
  {
   "cell_type": "markdown",
   "metadata": {
    "id": "l7-JLXwd7unz"
   },
   "source": [
    "#### Cambiar el parámetro xi cambiará la estimación."
   ]
  },
  {
   "cell_type": "code",
   "metadata": {
    "id": "qv-FX4iA7unz",
    "executionInfo": {
     "status": "ok",
     "timestamp": 1685825100951,
     "user_tz": 240,
     "elapsed": 376,
     "user": {
      "displayName": "Genaro Suarez",
      "userId": "01104011119764010032"
     }
    },
    "colab": {
     "base_uri": "https://localhost:8080/",
     "height": 581
    },
    "outputId": "2498113f-66d2-48e5-878e-449f168b92b0"
   },
   "source": [
    "# #############################################################################\n",
    "\n",
    "op = OPTICS(xi=0.2, min_cluster_size=.05).fit(X)\n",
    "\n",
    "labels = op.labels_\n",
    "\n",
    "# Número de grupos en las etiquetas, ignorando el ruido si lo hay.\n",
    "n_clusters_ = len(set(labels)) - (1 if -1 in labels else 0)\n",
    "n_noise_ = list(labels).count(-1)\n",
    "\n",
    "print('Número estimado de grupos: %d' % n_clusters_)\n",
    "print('Número estimado de puntos de ruido: %d' % n_noise_)\n",
    "\n",
    "# El negro se eliminó y se usa para el ruido en su lugar.\n",
    "unique_labels = np.unique(labels)\n",
    "\n",
    "colors = [plt.cm.Spectral(each)\n",
    "          for each in np.linspace(0, 1, len(unique_labels))]\n",
    "\n",
    "plt.figure(figsize=(6,6))\n",
    "\n",
    "for klass, color in zip(unique_labels[1:], colors[1:]):\n",
    "\n",
    "    Xk = X[op.labels_ == klass]\n",
    "    plt.scatter(Xk[:, 0], Xk[:, 1], 60, np.array([color,]),\\\n",
    "                'o', edgecolors='k',linewidths=1, )#, ls = 'None')\n",
    "    \n",
    "plt.plot(X[op.labels_ == -1, 0], X[op.labels_ == -1, 1], 'k+', ls = 'None')\n",
    "\n",
    "plt.title('Número estimado de grupos: %d' % n_clusters_)\n",
    "plt.show()"
   ],
   "outputs": [],
   "execution_count": null
  },
  {
   "cell_type": "markdown",
   "metadata": {
    "id": "HofdvMNt7un0"
   },
   "source": [
    "Modelo de mezcla gaussiana (del inglés Gaussian mixture model o GMM)"
   ]
  },
  {
   "cell_type": "code",
   "metadata": {
    "id": "AacofU6u7un0",
    "executionInfo": {
     "status": "ok",
     "timestamp": 1685825524776,
     "user_tz": 240,
     "elapsed": 85,
     "user": {
      "displayName": "Genaro Suarez",
      "userId": "01104011119764010032"
     }
    }
   },
   "source": [
    "from sklearn import mixture"
   ],
   "outputs": [],
   "execution_count": null
  },
  {
   "cell_type": "code",
   "metadata": {
    "id": "GwTTxQLV7un1",
    "executionInfo": {
     "status": "ok",
     "timestamp": 1685825525127,
     "user_tz": 240,
     "elapsed": 2,
     "user": {
      "displayName": "Genaro Suarez",
      "userId": "01104011119764010032"
     }
    }
   },
   "source": [
    "from matplotlib.patches import Ellipse"
   ],
   "outputs": [],
   "execution_count": null
  },
  {
   "cell_type": "code",
   "metadata": {
    "id": "3ll3EKSQ7un2",
    "executionInfo": {
     "status": "ok",
     "timestamp": 1685825525481,
     "user_tz": 240,
     "elapsed": 2,
     "user": {
      "displayName": "Genaro Suarez",
      "userId": "01104011119764010032"
     }
    }
   },
   "source": [
    "# Función de https://jakevdp.github.io/PythonDataScienceHandbook/06.00-figure-code.html#Covariance-Type\n",
    "\n",
    "def draw_ellipse(gmm, ax, **kwargs):\n",
    "    \"\"\"Dibuja una elipse con una posición y covarianza dadas\"\"\"\n",
    "    for n in range(gmm.n_components):\n",
    "        if gmm.covariance_type == 'full':\n",
    "            covariances = gmm.covariances_[n]\n",
    "        elif gmm.covariance_type == 'tied':\n",
    "            covariances = gmm.covariances_\n",
    "        elif gmm.covariance_type == 'diag':\n",
    "            covariances = np.diag(gmm.covariances_[n])\n",
    "        elif gmm.covariance_type == 'spherical':\n",
    "            covariances = np.eye(gmm.means_.shape[1]) * gmm.covariances_[n]\n",
    "        v, w = np.linalg.eigh(covariances)\n",
    "        u = w[0] / np.linalg.norm(w[0])\n",
    "        angle = np.arctan2(u[1], u[0])\n",
    "        angle = 180 * angle / np.pi  # convertir a grados\n",
    "        v = 2. * np.sqrt(2.) * np.sqrt(v)\n",
    "        \n",
    "        # dibujar la elipse\n",
    "        for nsig in range(1, 4): #1, 2, and 3 sigma\n",
    "            ell = Ellipse(gmm.means_[n], nsig *v[0], nsig *v[1], angle=angle, **kwargs)\n",
    "            ax.add_patch(ell)\n"
   ],
   "outputs": [],
   "execution_count": null
  },
  {
   "cell_type": "code",
   "metadata": {
    "id": "8nygR-xB7un2",
    "executionInfo": {
     "status": "ok",
     "timestamp": 1685825528359,
     "user_tz": 240,
     "elapsed": 1004,
     "user": {
      "displayName": "Genaro Suarez",
      "userId": "01104011119764010032"
     }
    },
    "colab": {
     "base_uri": "https://localhost:8080/",
     "height": 373
    },
    "outputId": "478f0f3e-ec2c-4804-cf7a-7c913289eb7f"
   },
   "source": [
    "# Figura también adaptada de from https://jakevdp.github.io/PythonDataScienceHandbook/06.00-figure-code.html#Covariance-Type\n",
    " \n",
    "fig, ax = plt.subplots(1, 3, figsize=(14, 4), sharey=True)\n",
    "fig.subplots_adjust(wspace=0.05)\n",
    "\n",
    "rng = np.random.RandomState(20)\n",
    "Xe = np.dot(rng.randn(500, 2), rng.randn(2, 2))\n",
    "\n",
    "for i, cov_type in enumerate(['full','diag', 'spherical']):\n",
    "    model = mixture.GaussianMixture(n_components=1, covariance_type=cov_type).fit(Xe)\n",
    "    ax[i].axis('equal')\n",
    "    ax[i].scatter(Xe[:, 0], Xe[:, 1], edgecolor='k', alpha=0.5)\n",
    "    ax[i].set_title('tipo_covarianza=\"{0}\"'.format(cov_type), size=14, family='monospace')\n",
    "    draw_ellipse(gmm=model, ax=ax[i], alpha=0.1, edgecolor='k', facecolor='#808080')\n",
    "    ax[i].xaxis.set_major_formatter(plt.NullFormatter())\n",
    "    ax[i].yaxis.set_major_formatter(plt.NullFormatter())\n",
    "    \n",
    "    ax[i].set_xlim(-5, 5)\n",
    "    \n",
    "#plt.savefig('GMM_Covariances.png', dpi = 300)\n",
    "    \n",
    "#plt.show()\n",
    "    #plt.xlim(-5, 5)"
   ],
   "outputs": [],
   "execution_count": null
  },
  {
   "cell_type": "markdown",
   "metadata": {
    "id": "laeRM-7X7un3"
   },
   "source": [
    "### El modelado con un modelo de mezcla gaussiana predice probabilidades.\n",
    "\n",
    "*   Elemento de la lista\n",
    "*   Elemento de la lista\n",
    "\n"
   ]
  },
  {
   "cell_type": "code",
   "metadata": {
    "id": "FOcTwo3v7un4",
    "executionInfo": {
     "status": "ok",
     "timestamp": 1685826032950,
     "user_tz": 240,
     "elapsed": 137,
     "user": {
      "displayName": "Genaro Suarez",
      "userId": "01104011119764010032"
     }
    }
   },
   "source": [
    "model = mixture.GaussianMixture(n_components=3, covariance_type='full', random_state=30) \n",
    "\n",
    "model.fit(Xb)\n",
    "\n",
    "y_GMM = model.predict(Xb)\n",
    "\n",
    "probs = model.predict_proba(Xb)\n",
    "\n",
    "size = 50 * probs.max(axis=1)**4"
   ],
   "outputs": [],
   "execution_count": null
  },
  {
   "cell_type": "code",
   "metadata": {
    "scrolled": true,
    "id": "-fWJT3f_7un4",
    "executionInfo": {
     "status": "ok",
     "timestamp": 1685826034335,
     "user_tz": 240,
     "elapsed": 3,
     "user": {
      "displayName": "Genaro Suarez",
      "userId": "01104011119764010032"
     }
    },
    "colab": {
     "base_uri": "https://localhost:8080/"
    },
    "outputId": "3424b6b5-159d-4ce3-b5c1-170c3826bc86"
   },
   "source": [
    "y_GMM # Debe ser 0,1,2 para que los colores funcionen; puede que tenga que cambiar el estado aleatorio "
   ],
   "outputs": [],
   "execution_count": null
  },
  {
   "cell_type": "markdown",
   "metadata": {
    "id": "UPY10_zF7un6"
   },
   "source": [
    "Función de decisión de GMM (siglas en inglés para el modelo mezclado gaussiano) para una covarianza \"completa\":"
   ]
  },
  {
   "cell_type": "code",
   "metadata": {
    "id": "b0e0Sa8V7un6",
    "executionInfo": {
     "status": "ok",
     "timestamp": 1685826227230,
     "user_tz": 240,
     "elapsed": 1020,
     "user": {
      "displayName": "Genaro Suarez",
      "userId": "01104011119764010032"
     }
    },
    "colab": {
     "base_uri": "https://localhost:8080/",
     "height": 564
    },
    "outputId": "37e68813-3085-4478-c827-4a0cb66daccf"
   },
   "source": [
    "model = mixture.GaussianMixture(n_components=3, covariance_type='full',random_state=30)\n",
    "\n",
    "model.fit(Xb)\n",
    "\n",
    "fig, ax = plt.subplots(1, 1, figsize=(8, 6))\n",
    "\n",
    "plt.axis('equal')\n",
    "\n",
    "plot_decision_regions(Xb, yb.astype(int), \n",
    "        clf=model, legend=0, markers = '...', colors = 'lightgray,violet,teal')\n",
    "\n",
    "plt.scatter(X1b[:,0],X1b[:,1], s = size[:len(y1b)], c = 'lightgray',edgecolors='k')\n",
    "\n",
    "plt.scatter(X2b[:,0],X2b[:,1], s = size[len(y1b):len(y1b)+len(y2b)], c = 'violet', edgecolors='k')\n",
    "\n",
    "plt.scatter(X3b[:,0],X3b[:,1],s = size[len(y1b)+len(y2b):], c = 'teal', edgecolors='k')\n",
    "\n",
    "ax.set_title('tipo_covarianza=\"{0}\"'.format('full'), size=14, family='monospace')\n",
    "\n",
    "ax.set_xlim(-2.5, 2.5)\n",
    "ax.set_ylim(-0.5,2.5)\n",
    "\n",
    "#plt.savefig('GMM_blobs_full.png', dpi = 300)"
   ],
   "outputs": [],
   "execution_count": null
  },
  {
   "cell_type": "markdown",
   "metadata": {
    "id": "ycGKcXUS7un6"
   },
   "source": [
    "### Ahora con una covarianza esférica:"
   ]
  },
  {
   "cell_type": "code",
   "metadata": {
    "id": "gJqONLIu7un7",
    "executionInfo": {
     "status": "ok",
     "timestamp": 1685826265545,
     "user_tz": 240,
     "elapsed": 730,
     "user": {
      "displayName": "Genaro Suarez",
      "userId": "01104011119764010032"
     }
    },
    "colab": {
     "base_uri": "https://localhost:8080/",
     "height": 564
    },
    "outputId": "56b78636-5f47-4398-8069-3bcd2d318e7d"
   },
   "source": [
    "model = mixture.GaussianMixture(n_components=3, covariance_type='spherical',random_state=30)\n",
    "\n",
    "model.fit(Xb)\n",
    "\n",
    "fig, ax = plt.subplots(1, 1, figsize=(8, 6))\n",
    "\n",
    "plt.axis('equal')\n",
    "\n",
    "plot_decision_regions(Xb, yb.astype(int), \n",
    "        clf=model, legend=0, markers = '...', colors = 'lightgray,violet,teal')\n",
    "\n",
    "plt.scatter(X1b[:,0],X1b[:,1], s = size[:len(y1b)], c = 'lightgray',edgecolors='k')\n",
    "\n",
    "plt.scatter(X2b[:,0],X2b[:,1], s = size[len(y1b):len(y1b)+len(y2b)], c = 'violet', edgecolors='k')\n",
    "\n",
    "plt.scatter(X3b[:,0],X3b[:,1],s = size[len(y1b)+len(y2b):], c = 'teal', edgecolors='k')\n",
    "\n",
    "ax.set_title('tipo_covarianza=\"{0}\"'.format('spherical'), size=14, family='monospace')\n",
    "\n",
    "ax.set_xlim(-2.5, 2.5)\n",
    "ax.set_ylim(-0.5,2.5)\n",
    "\n",
    "#plt.savefig('GMM_blobs_spherical.png', dpi = 300)"
   ],
   "outputs": [],
   "execution_count": null
  },
  {
   "cell_type": "markdown",
   "metadata": {
    "id": "gXRCCx8p7un8"
   },
   "source": [
    "### Finalmente, generamos predicciones para la cara sonriente."
   ]
  },
  {
   "cell_type": "code",
   "metadata": {
    "id": "FoQ656BN7un8",
    "executionInfo": {
     "status": "ok",
     "timestamp": 1685826300140,
     "user_tz": 240,
     "elapsed": 86,
     "user": {
      "displayName": "Genaro Suarez",
      "userId": "01104011119764010032"
     }
    },
    "colab": {
     "base_uri": "https://localhost:8080/"
    },
    "outputId": "213bf582-5039-4748-a9f0-76bd790d155e"
   },
   "source": [
    "X.shape"
   ],
   "outputs": [],
   "execution_count": null
  },
  {
   "cell_type": "code",
   "metadata": {
    "id": "gHXfNujN7un8",
    "executionInfo": {
     "status": "ok",
     "timestamp": 1685826305157,
     "user_tz": 240,
     "elapsed": 658,
     "user": {
      "displayName": "Genaro Suarez",
      "userId": "01104011119764010032"
     }
    },
    "colab": {
     "base_uri": "https://localhost:8080/",
     "height": 528
    },
    "outputId": "4940547d-1ea1-4ce1-c997-3899c66f6acd"
   },
   "source": [
    "gmm4 = mixture.GaussianMixture(n_components=4, covariance_type='full', random_state=0)\n",
    "\n",
    "gmm4.fit(X)\n",
    "\n",
    "plt.figure(figsize=(8,6))\n",
    "\n",
    "xy = [point(1,2,1) for _ in range(100)]\n",
    "\n",
    "plot_decision_regions(X, y.astype(int), \n",
    "        clf=gmm4, legend=0, markers = '.', colors = 'lightgray,yellow,teal,violet')\n",
    "\n",
    "plt.scatter(*zip(*xy), s = 30, c = 'lightgray', edgecolors='k')\n",
    "plt.scatter(X1[:,0],X1[:,1], s = 30, c = 'teal',edgecolors='k')\n",
    "plt.scatter(X2[:,0],X2[:,1], s = 30, c = 'violet', edgecolors='k')\n",
    "plt.scatter(X3_stretch.T[:,0]-1.9,X3_stretch.T[:,1],s = 30, c = 'yellow', edgecolors='k')\n",
    "\n",
    "\n",
    "plt.xlim(-0.5,2.5);\n",
    "\n",
    "plt.ylim(0.5,3.5);\n",
    "\n",
    "#plt.savefig('GMMbad.png', dpi = 300)"
   ],
   "outputs": [],
   "execution_count": null
  },
  {
   "cell_type": "markdown",
   "metadata": {
    "id": "DRlYs97h7un9"
   },
   "source": [
    "### Podemos usar el criterio de información bayesiano (del inglés Bayesian Information Criterion or BIC) para averiguar cuántos componentes se ajustan mejor a la cara sonriente en el modelo GMM."
   ]
  },
  {
   "cell_type": "code",
   "metadata": {
    "id": "c8Q23ObD7un9",
    "executionInfo": {
     "status": "ok",
     "timestamp": 1685826638066,
     "user_tz": 240,
     "elapsed": 3006,
     "user": {
      "displayName": "Genaro Suarez",
      "userId": "01104011119764010032"
     }
    },
    "colab": {
     "base_uri": "https://localhost:8080/",
     "height": 570
    },
    "outputId": "d00c2151-7b77-4e66-bd88-294508be426e"
   },
   "source": [
    "n_components = np.arange(1, 30)\n",
    "models = [mixture.GaussianMixture(n, covariance_type='full', random_state=0).fit(X)\n",
    "          for n in n_components]\n",
    "\n",
    "\n",
    "fig = plt.figure(figsize=(8, 6))\n",
    "ax = fig.add_subplot(111)\n",
    "ax.plot(n_components, [m.bic(X) for m in models], label='BIC')\n",
    "ax.legend(loc='best', fontsize=20)\n",
    "ax.set_xlabel('n_componentes', fontsize=20);\n",
    "ax.tick_params(axis='both', which='both', labelsize=20);\n",
    "#plt.savefig('GMM_smiley_BIC.png', dpi = 300)"
   ],
   "outputs": [],
   "execution_count": null
  },
  {
   "cell_type": "markdown",
   "metadata": {
    "id": "tZdUA3TC7un-"
   },
   "source": [
    "### Registro de aprendizaje\n",
    "    \n",
    "P: Encuentre la cantidad de componentes que corresponde al BIC más bajo (pista: se puede reciclar el código de la celda de arriba)"
   ]
  },
  {
   "cell_type": "code",
   "metadata": {
    "id": "p2GXLMPL7un-",
    "executionInfo": {
     "status": "ok",
     "timestamp": 1685826755620,
     "user_tz": 240,
     "elapsed": 94,
     "user": {
      "displayName": "Genaro Suarez",
      "userId": "01104011119764010032"
     }
    }
   },
   "source": [
    "# Escribir el código en esta celda\n"
   ],
   "outputs": [],
   "execution_count": null
  },
  {
   "cell_type": "markdown",
   "metadata": {
    "id": "odJTg1rP7un-"
   },
   "source": [
    "<details>\n",
    "<summary style=\"display: list-item;\">¡Haz clic aquí para la respuesta!</summary>\n",
    "<p>\n",
    "\n",
    "```python\n",
    "print(np.argmin([m.bic(X) for m in models]))\n",
    "```\n",
    "    \n",
    "</p>\n",
    "</details>"
   ]
  },
  {
   "cell_type": "markdown",
   "metadata": {
    "id": "Fo54Z7SV7un_"
   },
   "source": [
    "### Y volver a hacer la figura con el número apropiado de componentes."
   ]
  },
  {
   "cell_type": "markdown",
   "metadata": {
    "id": "1_jeNRfz7un_"
   },
   "source": [
    "(Nota: si se ve una pequeña discrepancia (+-1) entre el número que obtuvimos y el código a continuación, lo más probable es que se trate de una fluctuación aleatoria, así que no se preocupe)."
   ]
  },
  {
   "cell_type": "code",
   "metadata": {
    "id": "SKz6i_ZD7un_",
    "executionInfo": {
     "status": "ok",
     "timestamp": 1685827014460,
     "user_tz": 240,
     "elapsed": 2,
     "user": {
      "displayName": "Genaro Suarez",
      "userId": "01104011119764010032"
     }
    }
   },
   "source": [
    "# Estas dos funciones (¡notar que \"draw_ellipse\" no es lo mismo que antes!) también son de los cuadernos de Jake Vanderplas.\n",
    "\n",
    "def draw_ellipse(position, covariance, ax=None, **kwargs):\n",
    "    \"\"\"Dibuja una elipse con una posición y covarianza dadas\"\"\"\n",
    "    ax = ax or plt.gca()\n",
    "    \n",
    "    # Convert covariance to principal axes\n",
    "    if covariance.shape == (2, 2):\n",
    "        U, s, Vt = np.linalg.svd(covariance)\n",
    "        angle = np.degrees(np.arctan2(U[1, 0], U[0, 0]))\n",
    "        width, height = 2 * np.sqrt(s)\n",
    "    else:\n",
    "        angle = 0.0\n",
    "        width, height = 2 * np.sqrt(covariance)\n",
    "    \n",
    "    # Draw the Ellipse\n",
    "    for nsig in range(1, 4):\n",
    "        ax.add_patch(Ellipse(position, nsig * width, nsig * height, angle, **kwargs))\n",
    "\n",
    "def plot_gmm(gmm, X, label=True, ax=None):\n",
    "    ax = ax or plt.gca()\n",
    "    labels = gmm.fit(X).predict(X)\n",
    "    if label:\n",
    "        ax.scatter(X[:, 0], X[:, 1], c=labels, s=40, cmap='Accent', zorder=2, edgecolor='k')\n",
    "    else:\n",
    "        ax.scatter(X[:, 0], X[:, 1], s=40, zorder=2, edgecolor='k')\n",
    "    ax.axis('equal')\n",
    "    \n",
    "    w_factor = 0.2 / gmm.weights_.max()\n",
    "    \n",
    "    for pos, covar, w in zip(gmm.means_, gmm.covariances_, gmm.weights_):\n",
    "        draw_ellipse(pos, covar, facecolor='#808080', edgecolor='k', alpha=w * w_factor)\n",
    "        \n",
    "    ax.tick_params(axis='both', which='both', labelsize=20);"
   ],
   "outputs": [],
   "execution_count": null
  },
  {
   "cell_type": "code",
   "metadata": {
    "id": "uNToMl_W7uoB",
    "executionInfo": {
     "status": "ok",
     "timestamp": 1685827019568,
     "user_tz": 240,
     "elapsed": 531,
     "user": {
      "displayName": "Genaro Suarez",
      "userId": "01104011119764010032"
     }
    },
    "colab": {
     "base_uri": "https://localhost:8080/",
     "height": 746
    },
    "outputId": "3c21afeb-3e2b-474b-f7b5-0fed6f5fcf1f"
   },
   "source": [
    "gmm10 = mixture.GaussianMixture(n_components=10, covariance_type='full', random_state=0)\n",
    "\n",
    "fig = plt.figure(figsize=(8, 8))\n",
    "\n",
    "ax = fig.add_subplot(111, aspect='equal')\n",
    "\n",
    "plot_gmm(gmm10, X, label=False, ax=ax)\n",
    "\n",
    "plt.xlim(-0.5,2.5);\n",
    "\n",
    "plt.ylim(0.5,3.5);\n",
    "\n",
    "plt.text(-0.3,0.7,'Original', fontsize = 18)\n",
    "\n",
    "ax.tick_params(axis='both', which='both', labelsize=20);\n",
    "\n",
    "#plt.savefig('Smiley_GMM_10.png', dpi = 300)\n"
   ],
   "outputs": [],
   "execution_count": null
  },
  {
   "cell_type": "markdown",
   "metadata": {
    "id": "6NBfmxaB7uoB"
   },
   "source": [
    "¡Finalmente, podemos usar nuestro GMM (siglas en inglés para el modelo mezclado gaussiano) con 10 componentes como modelo generativo para generar nuevas muestras a lo largo de la distribución de cara sonriente!\n"
   ]
  },
  {
   "cell_type": "code",
   "metadata": {
    "id": "5zK7OmYW7uoB",
    "executionInfo": {
     "status": "ok",
     "timestamp": 1685827134583,
     "user_tz": 240,
     "elapsed": 795,
     "user": {
      "displayName": "Genaro Suarez",
      "userId": "01104011119764010032"
     }
    },
    "colab": {
     "base_uri": "https://localhost:8080/",
     "height": 719
    },
    "outputId": "d8c9d7ba-91e1-4f9f-8ca5-d922aaa7674d"
   },
   "source": [
    "Xnew = gmm10.sample(n_samples=500)\n",
    "\n",
    "fig = plt.figure(figsize=(8, 8))\n",
    "\n",
    "ax2 = fig.add_subplot(111, aspect='equal', sharey = ax)\n",
    "\n",
    "ax2.scatter(Xnew[0][:, 0], Xnew[0][:, 1], s = 40, facecolor='r', edgecolor='k', alpha=0.5);\n",
    "\n",
    "ax2.tick_params(axis='both', which='both', labelsize=20);\n",
    "\n",
    "plt.xlim(-0.5,2.5);\n",
    "\n",
    "plt.ylim(0.5,3.5);\n",
    "\n",
    "plt.text(-0.3,0.7,'Generado', fontsize = 18)\n",
    "\n",
    "#plt.savefig('Smiley_GMM_generated.png', dpi = 300)"
   ],
   "outputs": [],
   "execution_count": null
  },
  {
   "cell_type": "markdown",
   "metadata": {
    "id": "0MSA0cc47uoB"
   },
   "source": [
    "### Registro de aprendizaje\n",
    "    \n",
    "P: ¿Cómo funciona el método GMM (siglas en inglés para el modelo mezclado gaussiano) al modelar una distribución como la cara sonriente?\n",
    "\n",
    "<br>\n",
    "\n",
    "<details>\n",
    "<summary style=\"display: list-item;\">¡Haz clic aquí para la respuesta!</summary>\n",
    "<p>\n",
    "En el gráfico de la izquierda, podemos ver dónde GMM decidió colocar los componentes gaussianos. Cuando usamos esas distribuciones para generar nuevos puntos (a la derecha), la estructura general se conserva, pero debido al tamaño limitado de la muestra, hay muchas imprecisiones.\n",
    "\n",
    "</p>\n",
    "</details>"
   ]
  }
 ],
 "metadata": {
  "anaconda-cloud": {},
  "kernelspec": {
   "display_name": "Python 3 (ipykernel)",
   "language": "python",
   "name": "python3"
  },
  "language_info": {
   "codemirror_mode": {
    "name": "ipython",
    "version": 3
   },
   "file_extension": ".py",
   "mimetype": "text/x-python",
   "name": "python",
   "nbconvert_exporter": "python",
   "pygments_lexer": "ipython3",
   "version": "3.9.12"
  },
  "colab": {
   "provenance": []
  }
 },
 "nbformat": 4,
 "nbformat_minor": 0
}
