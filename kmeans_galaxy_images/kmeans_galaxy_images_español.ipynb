{
 "cells": [
  {
   "cell_type": "markdown",
   "metadata": {},
   "source": [
    "Este es un cuaderno simple para trabajar con algunas imágenes de galaxias y aplicar el algoritmo de agrupamiento KMeans.\n",
    "\n",
    "Acompaña al Capítulo 7 del libro (3 de 4) pero solo aparece en la sec. 7.6.\n",
    "\n",
    "Autora: Viviana Acquaviva, con contribuciones de Jake Postiglione y Olga Privman. Traducido por Manuel Pichardo Marcano y Genaro Suárez."
   ]
  },
  {
   "cell_type": "code",
   "metadata": {},
   "source": [
    "import numpy as np\n",
    "import pandas as pd\n",
    "import os\n",
    "import random\n",
    "import matplotlib.pyplot as plt\n",
    "%matplotlib inline\n",
    "\n",
    "import skimage\n",
    "from skimage.transform import resize, rescale\n",
    "from skimage import io\n",
    "from skimage.feature import blob_dog, blob_log, blob_doh\n",
    "from skimage.color import rgb2gray"
   ],
   "outputs": [],
   "execution_count": null
  },
  {
   "cell_type": "markdown",
   "metadata": {},
   "source": [
    "Este conjunto de datos está compuesto por 200 imágenes seleccionadas al azar del desafío Kaggle Galaxy Zoo:\n",
    "\n",
    "https://www.kaggle.com/c/galaxy-zoo-the-galaxy-challenge"
   ]
  },
  {
   "cell_type": "markdown",
   "metadata": {},
   "source": [
    "El siguiente código visualiza los primeros 25 objetos en nuestro conjunto de datos. Podemos ejecutarlo para obtener una vista de las primeras 25 galaxias. Nota: es posible que reciba un mensaje de error, en este caso, consulte aquí\n",
    "\n",
    "\n",
    "https://stackoverflow.com/questions/43288550/iopub-data-rate-exceeded-in-jupyter-notebook-when-viewing-image"
   ]
  },
  {
   "cell_type": "code",
   "metadata": {},
   "source": [
    "fig, axes = plt.subplots(ncols= 5, nrows = 5,figsize=(50,50))\n",
    "\n",
    "ax = axes.ravel()\n",
    "\n",
    "for i in range(ax.shape[0]):\n",
    "\n",
    "    img = skimage.io.imread('../data/galaxy_images/Image_'+str(i)+'.png')\n",
    "    ax[i].imshow(img, cmap='gray')\n",
    "    ax[i].set_xticks([])\n",
    "    ax[i].set_yticks([])\n",
    "\n",
    "    "
   ],
   "outputs": [],
   "execution_count": null
  },
  {
   "cell_type": "markdown",
   "metadata": {},
   "source": [
    "Ahora deshagámonos de algunas fuentes múltiples."
   ]
  },
  {
   "cell_type": "code",
   "metadata": {},
   "source": [
    "#Esto muestra cómo se pueden identificar y enmascarar múltiples fuentes.\n",
    "\n",
    "n_ob = 5\n",
    "\n",
    "fig, ax = plt.subplots(2, n_ob, figsize=(50, 20))\n",
    "\n",
    "for i in range(n_ob):\n",
    "\n",
    "    img = skimage.io.imread('../data/galaxy_images/Image_'+str(i)+'.png')\n",
    "\n",
    "    image_gray = rgb2gray(img)\n",
    "\n",
    "    blobs_log = blob_log(image_gray, max_sigma=30, num_sigma=10, threshold=.1)\n",
    "\n",
    "    # Compute radii in the 3rd column.\n",
    "    \n",
    "    blobs_log[:, 2] = blobs_log[:, 2] * np.sqrt(2)\n",
    "    \n",
    "    blobs_log = blobs_log[blobs_log[:,2].argsort()[::-1]]\n",
    "    \n",
    "    ax[0,i].imshow(img, interpolation='nearest')\n",
    "\n",
    "    X, Y = np.ogrid[:img.shape[0], :img.shape[1]]\n",
    "    \n",
    "    center = np.array([img.shape[0]/2, img.shape[1]/2]) #center\n",
    "    \n",
    "    for blob in blobs_log:    \n",
    "        y, x, r = blob    \n",
    "        c = plt.Circle((x, y), r, color = 'yellow', linewidth=2, fill=False)\n",
    "        ax[0,i].add_patch(c)\n",
    "        \n",
    "        if (np.linalg.norm(np.array([x,y])-center)) > 10: #If not in center\n",
    "        \n",
    "            mask = (X - blob[0])**2 + (Y - blob[1])**2 < r**2\n",
    "            img[mask] = 0\n",
    "    \n",
    "    ax[1,i].imshow(img, interpolation='nearest')\n",
    "        \n",
    "    print('Encontré', int(len(blobs_log)), 'fuentes.')\n",
    "    \n",
    "    if blobs_log[1,2] > 0.5*blobs_log[0,2]: #second source bigger than half first\n",
    "        print('Múltiples fuentes grandes detectadas en la imagen', str(i))\n"
   ],
   "outputs": [],
   "execution_count": null
  },
  {
   "cell_type": "code",
   "metadata": {},
   "source": [
    "#¡NO EJECUTAR!  (Toma mucho tiempo)\n",
    "\n",
    "for i in range(200):\n",
    "\n",
    "    img = skimage.io.imread('Image_'+str(i)+'.png')\n",
    "\n",
    "    image_gray = rgb2gray(img)\n",
    "\n",
    "    blobs_log = blob_log(image_gray, max_sigma=30, num_sigma=10, threshold=.1)\n",
    "\n",
    "    # Compute radii in the 3rd column.\n",
    "    blobs_log[:, 2] = blobs_log[:, 2] * np.sqrt(2)\n",
    "    \n",
    "    blobs_log = blobs_log[blobs_log[:,2].argsort()[::-1]]\n",
    "    \n",
    "    X, Y = np.ogrid[:img.shape[0], :img.shape[1]]\n",
    "    \n",
    "    center = np.array([img.shape[0]/2, img.shape[1]/2]) #center\n",
    "    \n",
    "    for blob in blobs_log:    \n",
    "        y, x, r = blob    \n",
    "#        c = plt.Circle((x, y), r, color = 'yellow', linewidth=2, fill=False)\n",
    "#        ax.add_patch(c)\n",
    "        \n",
    "        if (np.linalg.norm(np.array([x,y])-center)) > 10: #If not in center\n",
    "        \n",
    "            mask = (X - blob[0])**2 + (Y - blob[1])**2 < r**2\n",
    "            img[mask] = 0\n",
    "    \n",
    "    skimage.io.imsave('NoSources_Image_'+str(i)+'.png',img)\n",
    "    \n",
    "    if np.mod(i, 10) == 0:\n",
    "        print('Procesando la imagen', i)"
   ],
   "outputs": [],
   "execution_count": null
  },
  {
   "cell_type": "markdown",
   "metadata": {},
   "source": [
    "## ¡Empieza aqui!"
   ]
  },
  {
   "cell_type": "code",
   "metadata": {},
   "source": [
    "#Toma < 1 minuto\n",
    "\n",
    "#Leamos las imágenes y redimensionémoslas a algo un poco más manejable.\n",
    "\n",
    "images = []\n",
    "\n",
    "for i in range(200):\n",
    "    img =skimage.io.imread('../data/no_sources_images/NoSources_Image_'+str(i)+'.png')\n",
    "    img_resized = resize(img,(100,100))\n",
    "    length = np.prod(img_resized.shape)\n",
    "    img_resized = np.reshape(img_resized,length)\n",
    "    images.append(img_resized)\n",
    "    \n",
    "images = np.vstack(images)"
   ],
   "outputs": [],
   "execution_count": null
  },
  {
   "cell_type": "code",
   "metadata": {},
   "source": [
    "images.shape #Dimensiones de la matriz. "
   ],
   "outputs": [],
   "execution_count": null
  },
  {
   "cell_type": "code",
   "metadata": {},
   "source": [
    "fig, axes = plt.subplots(ncols= 5, nrows = 5,figsize=(50,50))\n",
    "\n",
    "ax = axes.ravel()\n",
    "\n",
    "for i in range(ax.shape[0]):\n",
    "\n",
    "    img = skimage.io.imread('../data/no_sources_images/NoSources_Image_'+str(i)+'.png')\n",
    "    ax[i].imshow(img, cmap='gray')\n",
    "    ax[i].set_xticks([])\n",
    "    ax[i].set_yticks([])\n"
   ],
   "outputs": [],
   "execution_count": null
  },
  {
   "cell_type": "code",
   "metadata": {},
   "source": [
    "from sklearn.cluster import KMeans # K-Medias (en inglés Kmeans)\n",
    "kmeans = KMeans(n_clusters=2) # K-Medias (en inglés Kmeans)\n",
    "kmeans.fit(images)\n",
    "y_kmeans = kmeans.predict(images)"
   ],
   "outputs": [],
   "execution_count": null
  },
  {
   "cell_type": "markdown",
   "metadata": {},
   "source": [
    "En este caso, las predicciones (el grupo al que pertenece cada imagen) solo pueden asumir el valor 0 y 1. Aquí mostramos una forma rápida de mostrar qué galaxias se predice que pertenecen a cada grupo."
   ]
  },
  {
   "cell_type": "code",
   "metadata": {},
   "source": [
    "print(len(np.where([y_kmeans == 0])[1]))"
   ],
   "outputs": [],
   "execution_count": null
  },
  {
   "cell_type": "markdown",
   "metadata": {},
   "source": [
    "### Registro de aprendizaje\n",
    "\n",
    "P: Similar a la línea anterior, ¿cómo puedes imprimir las galaxias que pertenecen al grupo 1? <i>(¡Prueba tu código en la celda de abajo!)</i>"
   ]
  },
  {
   "cell_type": "code",
   "metadata": {},
   "source": [
    "#  Ingrese el código en esta celda\n",
    "\n"
   ],
   "outputs": [],
   "execution_count": null
  },
  {
   "cell_type": "markdown",
   "metadata": {},
   "source": [
    "<details>\n",
    "<summary style=\"display: list-item;\">¡Haga clic aquí para la respuesta!</summary>\n",
    "<p>\n",
    "\n",
    "```python\n",
    "print(len(np.where([y_kmeans == 1])[1]))\n",
    "```\n",
    "    \n",
    "</p>\n",
    "</details>"
   ]
  },
  {
   "cell_type": "markdown",
   "metadata": {},
   "source": [
    "Podemos usar el siguiente código para observar 25 galaxias que se colocaron en el primer grupo y ver si se parecen de alguna manera.\n",
    "\n"
   ]
  },
  {
   "cell_type": "code",
   "metadata": {},
   "source": [
    "fig, axes = plt.subplots(ncols= 5, nrows = 5,figsize=(50,50))\n",
    "\n",
    "ax = axes.ravel()\n",
    "\n",
    "for i in range(min(len(np.where([y_kmeans == 0])[1]),25)):\n",
    "    #Note: the line below selects galaxies that are assigned to cluster 0\n",
    "    img = skimage.io.imread('../data/no_sources_images/NoSources_Image_'+str(np.where([y_kmeans == 0])[1][i])+'.png')\n",
    "    ax[i].imshow(img, cmap='gray')\n",
    "    ax[i].set_xticks([])\n",
    "    ax[i].set_yticks([])"
   ],
   "outputs": [],
   "execution_count": null
  },
  {
   "cell_type": "markdown",
   "metadata": {},
   "source": [
    "Podemos hacer lo mismo para el segundo grupo."
   ]
  },
  {
   "cell_type": "code",
   "metadata": {},
   "source": [
    "fig, axes = plt.subplots(ncols= 5, nrows = 5,figsize=(50,50))\n",
    "\n",
    "ax = axes.ravel()\n",
    "\n",
    "for i in range(min(len(np.where([y_kmeans == 1])[1]),25)):\n",
    "    #Note: the line below selects galaxies that are assigned to cluster 1\n",
    "    img = skimage.io.imread('../data/no_sources_images/NoSources_Image_'+str(np.where([y_kmeans == 1])[1][i])+'.png')\n",
    "    ax[i].imshow(img, cmap='gray')\n",
    "    ax[i].set_xticks([])\n",
    "    ax[i].set_yticks([])"
   ],
   "outputs": [],
   "execution_count": null
  },
  {
   "cell_type": "markdown",
   "metadata": {},
   "source": [
    "Ahora hagamos lo mismo pero con tres grupos y condiciones iniciales ligeramente más inteligentes."
   ]
  },
  {
   "cell_type": "code",
   "metadata": {},
   "source": [
    "kmeans = KMeans(n_clusters=3, init= 'k-means++')\n",
    "kmeans.fit(images)\n",
    "y_kmeans = kmeans.predict(images)"
   ],
   "outputs": [],
   "execution_count": null
  },
  {
   "cell_type": "code",
   "metadata": {},
   "source": [
    "#Veamos qué tan grandes son los grupos.\n",
    "\n",
    "for i in range(3):\n",
    "    print(len(np.where([y_kmeans == i])[1]))"
   ],
   "outputs": [],
   "execution_count": null
  },
  {
   "cell_type": "markdown",
   "metadata": {},
   "source": [
    "Podemos investigar el grupo pequeño."
   ]
  },
  {
   "cell_type": "code",
   "metadata": {},
   "source": [
    "fig, axes = plt.subplots(ncols= 5, nrows = 5,figsize=(50,50))\n",
    "\n",
    "ax = axes.ravel()\n",
    "\n",
    "for i in range(min(len(np.where([y_kmeans == 2])[1]),25)): #cambie el índice aquí según sea necesario\n",
    "    #Nota: la línea de abajo selecciona galaxias que están asignadas al grupo 0\n",
    "    img = skimage.io.imread('../data/no_sources_images/NoSources_Image_'+str(np.where([y_kmeans == 2])[1][i])+'.png') #y aquí\n",
    "    ax[i].imshow(img, cmap='gray')\n",
    "    ax[i].set_xticks([])\n",
    "    ax[i].set_yticks([])"
   ],
   "outputs": [],
   "execution_count": null
  },
  {
   "cell_type": "markdown",
   "metadata": {},
   "source": [
    "### Registro de aprendizaje\n",
    "    \n",
    "P: ¿Cuál es la similitud entre las imágenes de este grupo?\n",
    "<br>\n",
    "\n",
    "<details>\n",
    "<summary style=\"display: list-item;\">¡Haga clic aquí para la respuesta!</summary>\n",
    "<p>\n",
    "Parece que este grupo contiene imágenes con artefactos, o donde hay fuentes muy múltiples o grandes descentradas."
   ]
  },
  {
   "cell_type": "markdown",
   "metadata": {},
   "source": [
    "Ahora podemos echar un vistazo a los otros dos grupos."
   ]
  },
  {
   "cell_type": "code",
   "metadata": {},
   "source": [
    "fig, axes = plt.subplots(ncols= 5, nrows = 5, figsize=(50,50))\n",
    "\n",
    "ax = axes.ravel()\n",
    "\n",
    "for i in range(min(len(np.where([y_kmeans == 0])[1]),25)):\n",
    "    #Note: the line below selects galaxies that are assigned to cluster 1\n",
    "    img = skimage.io.imread('../data/no_sources_images/NoSources_Image_'+str(np.where([y_kmeans == 0])[1][i])+'.png')\n",
    "    ax[i].imshow(img, cmap='gray')\n",
    "    ax[i].set_xticks([])\n",
    "    ax[i].set_yticks([])"
   ],
   "outputs": [],
   "execution_count": null
  },
  {
   "cell_type": "code",
   "metadata": {},
   "source": [
    "fig, axes = plt.subplots(ncols= 5, nrows = 5, figsize=(50,50))\n",
    "\n",
    "ax = axes.ravel()\n",
    "\n",
    "for i in range(min(len(np.where([y_kmeans == 1])[1]),25)):\n",
    "    #Note: the line below selects galaxies that are assigned to cluster 2\n",
    "    img = skimage.io.imread('../data/no_sources_images/NoSources_Image_'+str(np.where([y_kmeans == 1])[1][i])+'.png')\n",
    "    ax[i].imshow(img, cmap='gray')\n",
    "    ax[i].set_xticks([])\n",
    "    ax[i].set_yticks([])"
   ],
   "outputs": [],
   "execution_count": null
  },
  {
   "cell_type": "markdown",
   "metadata": {},
   "source": [
    "### Problema: básicamente, K-Medias (en inglés Kmeans) está agrupando galaxias según su tamaño."
   ]
  },
  {
   "cell_type": "markdown",
   "metadata": {},
   "source": [
    "### Learning Check-in\n",
    "    \n",
    "P: ¿Por qué K-Medias agrupa las galaxias según su tamaño?\n",
    "\n",
    "<br>\n",
    "\n",
    "<details>\n",
    "<summary style=\"display: list-item;\">¡Haga clic aquí para la respuesta!</summary>\n",
    "<p>\n",
    "La distancia euclidiana a los centroides no es invariable en tamaño ni en rotación y, por lo tanto, no es un gran indicador de forma (o color); clasificará como objetos \"similares\" donde un área similar de la imagen se compone de píxeles brillantes (sobre un fondo oscuro).\n"
   ]
  },
  {
   "cell_type": "markdown",
   "metadata": {},
   "source": [
    "Aquí hay algunas posibles ideas para mejorar:\n",
    "\n",
    "<br> 0. Cualquier métrica debe ser rotacionalmente invariable (o el conjunto de datos debe ser preprocesado para corregir la orientación).\n",
    "\n",
    "<br> 1. Recortar la imagen central y normalizar el tamaño.\n",
    "\n",
    "<br> 2. Mejorar el procesamiento previo de múltiples fuentes.\n",
    "\n",
    "<br> 3. Modificar la métrica de evaluación para otorgar mayor peso a características como el color.\n",
    "\n",
    "<br> 4. Usar muchos grupos hasta que se obtenga un buen grado de similitud entre los miembros de los mismos grupos, luego volver a agruparlos manualmente.\n"
   ]
  },
  {
   "cell_type": "code",
   "metadata": {},
   "source": [
    "#Esto divide uno de los grupos (donde y_means = 2) en dos.\n",
    "\n",
    "kmeans = KMeans(n_clusters=2, init= 'k-means++')\n",
    "\n",
    "kmeans.fit(images[y_kmeans == 1])\n",
    "\n",
    "y_kmeans_l = kmeans.predict(images[y_kmeans == 1])"
   ],
   "outputs": [],
   "execution_count": null
  },
  {
   "cell_type": "markdown",
   "metadata": {},
   "source": [
    "Veamos los dos nuevos grupos."
   ]
  },
  {
   "cell_type": "code",
   "metadata": {},
   "source": [
    "fig, axes = plt.subplots(ncols= 5, nrows = 5, figsize=(50,50))\n",
    "\n",
    "ax = axes.ravel()\n",
    "\n",
    "for i in range(min(len(np.where([y_kmeans_l == 0])[1]),25)):\n",
    "    img = skimage.io.imread('../data/no_sources_images/NoSources_Image_'+str(np.where([y_kmeans == 1])[1][np.where([y_kmeans_l == 0])[1]][i])+'.png')\n",
    "    ax[i].imshow(img, cmap='gray')\n",
    "    ax[i].set_xticks([])\n",
    "    ax[i].set_yticks([])"
   ],
   "outputs": [],
   "execution_count": null
  },
  {
   "cell_type": "code",
   "metadata": {},
   "source": [
    "fig, axes = plt.subplots(ncols= 5, nrows = 5,figsize=(50,50))\n",
    "\n",
    "ax = axes.ravel()\n",
    "\n",
    "for i in range(min(len(np.where([y_kmeans_l == 1])[1]),25)):\n",
    "    #Note: the line below selects galaxies that are assigned to cluster 1\n",
    "    img = skimage.io.imread('../data/no_sources_images/NoSources_Image_'+str(np.where([y_kmeans == 1])[1][np.where([y_kmeans_l == 1])[1]][i])+'.png')\n",
    "    ax[i].imshow(img, cmap='gray')\n",
    "    ax[i].set_xticks([])\n",
    "    ax[i].set_yticks([])"
   ],
   "outputs": [],
   "execution_count": null
  },
  {
   "cell_type": "markdown",
   "metadata": {},
   "source": [
    "### Conclusiones\n",
    "\n",
    "Los algoritmos de agrupamiento pueden dar resultados poco confiables si no se supervisan (juego de palabras intencionado).\n",
    "\n",
    "El preprocesamiento parece ser bastante importante; definir una métrica de distancia adecuada también puede ayudar.\n"
   ]
  }
 ],
 "metadata": {
  "kernelspec": {
   "display_name": "Python 3 (ipykernel)",
   "language": "python",
   "name": "python3"
  },
  "language_info": {
   "codemirror_mode": {
    "name": "ipython",
    "version": 3
   },
   "file_extension": ".py",
   "mimetype": "text/x-python",
   "name": "python",
   "nbconvert_exporter": "python",
   "pygments_lexer": "ipython3",
   "version": "3.9.6"
  }
 },
 "nbformat": 4,
 "nbformat_minor": 4
}
