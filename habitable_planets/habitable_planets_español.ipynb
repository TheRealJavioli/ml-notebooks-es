{
 "cells": [
  {
   "cell_type": "markdown",
   "metadata": {
    "id": "pN_LYzj47SDy"
   },
   "source": [
    "### Este es un cuaderno simple para construir, visualizar y diagnosticar el desempeño de los algoritmos AD en el conjunto de datos de planetas habitables (más grande).\n",
    "\n",
    "Acompaña al Capítulo 3 del libro.\n",
    "\n",
    "Los datos para este ejercicio provienen de [aquí](https://phl.upr.edu/).\n",
    "\n",
    "Autora: Viviana Acquaviva, con contribuciones de Jake Postiglione y Olga Privman."
   ]
  },
  {
   "cell_type": "code",
   "metadata": {
    "id": "o0X0jtW07SD0",
    "pycharm": {
     "name": "#%%\n"
    }
   },
   "source": [
    "import pandas as pd\n",
    "\n",
    "import numpy as np\n",
    "\n",
    "import sklearn.tree\n",
    "from sklearn.tree import DecisionTreeClassifier\n",
    "from sklearn.model_selection import train_test_split\n",
    "from sklearn import metrics \n",
    "from sklearn.model_selection import cross_val_predict, cross_val_score, cross_validate\n",
    "from sklearn.model_selection import KFold, StratifiedKFold\n",
    "\n",
    "from scipy import stats\n",
    "\n",
    "import matplotlib.pyplot as plt\n",
    "import matplotlib.patches as mpatches"
   ],
   "outputs": [],
   "execution_count": null
  },
  {
   "cell_type": "code",
   "metadata": {
    "id": "R5UF2yQy7SD2",
    "pycharm": {
     "name": "#%%\n"
    }
   },
   "source": [
    "from io import StringIO  \n",
    "from IPython.display import Image  \n",
    "import pydotplus\n",
    "from sklearn.tree import export_graphviz"
   ],
   "outputs": [],
   "execution_count": null
  },
  {
   "cell_type": "code",
   "metadata": {
    "id": "MfQ5ML_77SD3",
    "pycharm": {
     "name": "#%%\n"
    }
   },
   "source": [
    "import matplotlib\n",
    "font = {'size'   : 20}\n",
    "\n",
    "matplotlib.rc('font', **font)\n",
    "matplotlib.rc('xtick', labelsize=20) \n",
    "matplotlib.rc('ytick', labelsize=20) \n",
    "matplotlib.rcParams['figure.dpi'] = 300"
   ],
   "outputs": [],
   "execution_count": null
  },
  {
   "cell_type": "code",
   "metadata": {
    "colab": {
     "base_uri": "https://localhost:8080/",
     "height": 35
    },
    "executionInfo": {
     "elapsed": 261,
     "status": "ok",
     "timestamp": 1682202133148,
     "user": {
      "displayName": "Genaro Suarez",
      "userId": "01104011119764010032"
     },
     "user_tz": 240
    },
    "id": "d9YeH7xM9XAh",
    "outputId": "9565ca17-beff-43da-c185-b725610bbdaf"
   },
   "source": [
    "pwd"
   ],
   "outputs": [],
   "execution_count": null
  },
  {
   "cell_type": "markdown",
   "metadata": {
    "id": "BokXyRYG7SD4"
   },
   "source": [
    "### Paso 1: Análisis/exploración preliminar de datos.\n",
    "\n",
    "Una vez que estamos trabajando con conjuntos de datos de nivel de investigación, nuestro primer paso siempre debe ser la exploración de datos.\n",
    "\n",
    "Podemos leer los datos en un marco de datos, como hicimos anteriormente, y hacer un análisis de datos preliminar."
   ]
  },
  {
   "cell_type": "code",
   "metadata": {
    "colab": {
     "base_uri": "https://localhost:8080/",
     "height": 314
    },
    "executionInfo": {
     "elapsed": 562,
     "status": "error",
     "timestamp": 1682202138626,
     "user": {
      "displayName": "Genaro Suarez",
      "userId": "01104011119764010032"
     },
     "user_tz": 240
    },
    "id": "H8cLp-L-7SD4",
    "outputId": "5f6e0478-1bac-49b9-aed1-06e42e714ff9",
    "pycharm": {
     "name": "#%%\n"
    }
   },
   "source": "df = pd.read_csv('../data/phl_exoplanet_catalog.csv', sep = ',')",
   "outputs": [],
   "execution_count": null
  },
  {
   "cell_type": "code",
   "metadata": {
    "id": "2mBQuf437SD5",
    "pycharm": {
     "name": "#%%\n"
    },
    "outputId": "678653ec-e9b3-422b-89c8-b5958948cd62"
   },
   "source": [
    "df.head()"
   ],
   "outputs": [],
   "execution_count": null
  },
  {
   "cell_type": "code",
   "metadata": {
    "id": "QCYu_Paz7SD6",
    "pycharm": {
     "name": "#%%\n"
    },
    "outputId": "02d7e569-e5dd-4c70-a7e2-83a311df821a"
   },
   "source": [
    "df.columns"
   ],
   "outputs": [],
   "execution_count": null
  },
  {
   "cell_type": "code",
   "metadata": {
    "id": "D3PE9JFg7SD7",
    "pycharm": {
     "name": "#%%\n"
    },
    "outputId": "29934eb1-cefb-410b-c846-daadd4827e02"
   },
   "source": [
    "df.describe()"
   ],
   "outputs": [],
   "execution_count": null
  },
  {
   "cell_type": "code",
   "metadata": {
    "id": "2Zr1UKic7SD8",
    "pycharm": {
     "name": "#%%\n"
    },
    "outputId": "307e573e-389c-414f-ad39-d74a7ba1e9d9"
   },
   "source": [
    "df.groupby('P_HABITABLE').count()"
   ],
   "outputs": [],
   "execution_count": null
  },
  {
   "cell_type": "markdown",
   "metadata": {
    "id": "4Gaov-HG7SD9"
   },
   "source": [
    "#### Comencemos por agrupar los planetas probable y posiblemente habitables."
   ]
  },
  {
   "cell_type": "code",
   "metadata": {
    "id": "CPpvu7-M7SD-",
    "pycharm": {
     "name": "#%%\n"
    }
   },
   "source": [
    "# ¿Qué estamos haciendo aquí? Creando un nuevo marco de datos llamado bindf y eliminando la etiqueta de habitabilidad anterior\n",
    "bindf = df.drop('P_HABITABLE', axis = 1) "
   ],
   "outputs": [],
   "execution_count": null
  },
  {
   "cell_type": "code",
   "metadata": {
    "id": "ybamli6Z7SD_",
    "pycharm": {
     "name": "#%%\n"
    }
   },
   "source": [
    "# ¿Qué tal aquí? creando nuestra nueva etiqueta de habitabilidad\n",
    "bindf['P_HABITABLE'] = (np.logical_or((df.P_HABITABLE == 1) , (df.P_HABITABLE == 2))) \n",
    "\n",
    "# ¿y aquí? Re-elaboración de esta columna como entero\n",
    "bindf['P_HABITABLE'] = bindf['P_HABITABLE'].astype(int) "
   ],
   "outputs": [],
   "execution_count": null
  },
  {
   "cell_type": "code",
   "metadata": {
    "id": "y0h9f29d7SEA",
    "pycharm": {
     "name": "#%%\n"
    },
    "outputId": "272aecff-0825-4dca-8fff-2fb9eb9b7b3e"
   },
   "source": [
    "bindf.head()"
   ],
   "outputs": [],
   "execution_count": null
  },
  {
   "cell_type": "markdown",
   "metadata": {
    "id": "cR1qcTS37SEA"
   },
   "source": [
    "### Seleccionemos algunas columnas."
   ]
  },
  {
   "cell_type": "markdown",
   "metadata": {
    "id": "x_quH5fW7SEB"
   },
   "source": [
    "S_MAG - magnitud de la estrella\n",
    "\n",
    "S_DISTANCE - distancia a la estrella (parsecs)\n",
    "\n",
    "S_METALLICITY - metalicidad de la estrella (dex)\n",
    "\n",
    "S_MASS - masa de la estrella (unidades solares)\n",
    "\n",
    "S_RADIUS - radio de la estrella (unidades solares)\n",
    "\n",
    "S_AGE - edad de la estrella (Gaño)\n",
    "\n",
    "S_TEMPERATURE - temperatura efectiva de la estrella (K)\n",
    "\n",
    "S_LOG_G - log(g) de la estrella\n",
    "\n",
    "P_DISTANCE - distancia promedio del planeta a la estrella (AU) \n",
    "\n",
    "P_FLUX - flujo eslar promedio del planeta (unidades terrestres)\n",
    "\n",
    "P_PERIOD - periodo del planeta (días) "
   ]
  },
  {
   "cell_type": "markdown",
   "metadata": {
    "id": "HgVhG72S7SEC"
   },
   "source": [
    "### Podemos seleccionar las mismas características que hicimos en el Capítulo 2."
   ]
  },
  {
   "cell_type": "code",
   "metadata": {
    "id": "iG0LWp357SEC",
    "pycharm": {
     "name": "#%%\n"
    }
   },
   "source": [
    "final_features = bindf[['S_MASS', 'P_PERIOD', 'P_DISTANCE']] "
   ],
   "outputs": [],
   "execution_count": null
  },
  {
   "cell_type": "code",
   "metadata": {
    "id": "C6Q-69O37SEC",
    "pycharm": {
     "name": "#%%\n"
    }
   },
   "source": [
    "targets = bindf.P_HABITABLE"
   ],
   "outputs": [],
   "execution_count": null
  },
  {
   "cell_type": "code",
   "metadata": {
    "id": "f2_WezZQ7SED",
    "pycharm": {
     "name": "#%%\n"
    },
    "outputId": "00cdb8d7-d5b0-4425-92a7-432523d9e39d"
   },
   "source": [
    "final_features.head()"
   ],
   "outputs": [],
   "execution_count": null
  },
  {
   "cell_type": "markdown",
   "metadata": {
    "id": "LRfch_vI7SED"
   },
   "source": [
    "### Hay algunos NaN (del inglés *Not A Number*). Podemos ver esto usando la propiedad \"describe\", que solo cuenta valores numéricos en cada columna."
   ]
  },
  {
   "cell_type": "code",
   "metadata": {
    "id": "w1gDKYY97SED",
    "pycharm": {
     "name": "#%%\n"
    },
    "outputId": "a58b7b8d-92ef-416d-d296-665b43cfe471"
   },
   "source": [
    "final_features.shape"
   ],
   "outputs": [],
   "execution_count": null
  },
  {
   "cell_type": "code",
   "metadata": {
    "id": "mLyn76BY7SEE",
    "pycharm": {
     "name": "#%%\n"
    },
    "outputId": "e5185558-178b-4d16-dce2-50a9ed2befeb"
   },
   "source": [
    "final_features.describe()"
   ],
   "outputs": [],
   "execution_count": null
  },
  {
   "cell_type": "markdown",
   "metadata": {
    "id": "zrazllhU7SEE"
   },
   "source": [
    "### Podemos contar los datos faltantes por columna..."
   ]
  },
  {
   "cell_type": "code",
   "metadata": {
    "colab": {
     "base_uri": "https://localhost:8080/",
     "height": 186
    },
    "executionInfo": {
     "elapsed": 571,
     "status": "error",
     "timestamp": 1681077099353,
     "user": {
      "displayName": "Genaro Suarez",
      "userId": "01104011119764010032"
     },
     "user_tz": 240
    },
    "id": "prgdi1XH7SEE",
    "outputId": "4bd526db-04af-4bfa-c939-afbf2da6f864",
    "pycharm": {
     "name": "#%%\n"
    }
   },
   "source": [
    "for i in range(final_features.shape[1]):\n",
    "    print(len(np.where(final_features.iloc[:,i].isna())[0]))"
   ],
   "outputs": [],
   "execution_count": null
  },
  {
   "cell_type": "markdown",
   "metadata": {
    "id": "3kSIr7JN7SEF"
   },
   "source": [
    "### ...y deshacerse de ellos (Nota: ¡hay estrategias de imputación mucho mejores!)"
   ]
  },
  {
   "cell_type": "code",
   "metadata": {
    "id": "lier_xtq7SEF",
    "pycharm": {
     "name": "#%%\n"
    },
    "outputId": "af679cbc-d08e-4d1a-c027-75bb3bde036a"
   },
   "source": [
    "final_features = final_features.dropna(axis = 0) # se deshace de cualquier instancia con al menos un NaN en cualquier columna\n",
    "final_features.shape"
   ],
   "outputs": [],
   "execution_count": null
  },
  {
   "cell_type": "markdown",
   "metadata": {
    "id": "-3Xfcdxg7SEF"
   },
   "source": [
    "### Registro de Apredizaje\n",
    "\n",
    "P: ¿Qué es un 'NaN' y por qué necesitamos eliminarlo de estos datos?\n",
    "\n",
    "<details>\n",
    "<summary style=\"display: list-item;\"> ¡Haz click aquí para la respuesta!</summary>\n",
    "<p>\n",
    "NaN significa \"No es un Número\" (del inglés Not a Number) y es la forma en que Python nos dice que hay un valor desconocido donde debería haber uno.\n",
    "\n",
    "Si no los eliminamos de nuestro conjunto de datos, tendremos problemas si intentamos ejecutar cálculos que fallan cuando operamos con valores NaN.\n",
    "\n",
    "¡Inténtalo! Comente la primera línea del bloque de código anterior y vuelva a ejecutar los siguientes bloques. ¿Algo se ve diferente?\n",
    "</p>\n",
    "</details>"
   ]
  },
  {
   "cell_type": "markdown",
   "metadata": {
    "id": "kbU3azeV7SEG"
   },
   "source": [
    "### Próximo paso: buscar valores atípicos"
   ]
  },
  {
   "cell_type": "markdown",
   "metadata": {
    "id": "nDVU1SVD7SEG"
   },
   "source": [
    "**Método** 1 - ¡gráfica!"
   ]
  },
  {
   "cell_type": "code",
   "metadata": {
    "id": "XmU0PH8z7SEG",
    "pycharm": {
     "name": "#%%\n"
    },
    "outputId": "3c464211-6f76-4e9d-cc1c-2ee76502410f"
   },
   "source": [
    "plt.hist(final_features.iloc[:,0], bins = 100, alpha = 0.5)"
   ],
   "outputs": [],
   "execution_count": null
  },
  {
   "cell_type": "markdown",
   "metadata": {
    "id": "9plooMvd7SEG"
   },
   "source": [
    "# Hay un valor atípico notable; lo mismo sucede con otras características.\n",
    "\n",
    "Pero también podríamos haberlo sabido por la diferencia entre la media y la mediana (que, de hecho, es aún más pronunciada para la distancia orbital y el periodo)."
   ]
  },
  {
   "cell_type": "code",
   "metadata": {
    "id": "oP91eQKt7SEH",
    "pycharm": {
     "name": "#%%\n"
    },
    "outputId": "47b3c685-7dab-4966-a3ee-75a03caa1662"
   },
   "source": [
    "final_features.describe()"
   ],
   "outputs": [],
   "execution_count": null
  },
  {
   "cell_type": "code",
   "metadata": {
    "id": "QuSKXnFF7SEH",
    "pycharm": {
     "name": "#%%\n"
    }
   },
   "source": [
    "final_features = final_features[(np.abs(stats.zscore(final_features)) < 5).all(axis=1)] \n",
    "\n",
    "# Esto elimina valores atípicos > 5 sigma; sin embargo, cuenta desde la media, por lo que podría no ser ideal"
   ],
   "outputs": [],
   "execution_count": null
  },
  {
   "cell_type": "code",
   "metadata": {
    "id": "XyPsF0P97SEH",
    "pycharm": {
     "name": "#%%\n"
    }
   },
   "source": [
    "targets = targets[final_features.index]"
   ],
   "outputs": [],
   "execution_count": null
  },
  {
   "cell_type": "markdown",
   "metadata": {
    "id": "_S9TcQbH7SEI"
   },
   "source": [
    "### Ahora reinicia el índice."
   ]
  },
  {
   "cell_type": "code",
   "metadata": {
    "id": "qqRtdxdB7SEI",
    "pycharm": {
     "name": "#%%\n"
    }
   },
   "source": [
    "final_features = final_features.reset_index(drop=True)"
   ],
   "outputs": [],
   "execution_count": null
  },
  {
   "cell_type": "code",
   "metadata": {
    "id": "3fZAz1pN7SEI",
    "pycharm": {
     "name": "#%%\n"
    },
    "outputId": "899ebd29-3ccd-427b-ff21-adf625726faa"
   },
   "source": [
    "final_features.head()"
   ],
   "outputs": [],
   "execution_count": null
  },
  {
   "cell_type": "markdown",
   "metadata": {
    "id": "IjAoeytI7SEJ"
   },
   "source": [
    "### Y no olvides hacer lo mismo para el vector etiqueta"
   ]
  },
  {
   "cell_type": "code",
   "metadata": {
    "id": "xqVtqL5u7SEJ",
    "pycharm": {
     "name": "#%%\n"
    }
   },
   "source": [
    "targets = targets.reset_index(drop=True)"
   ],
   "outputs": [],
   "execution_count": null
  },
  {
   "cell_type": "code",
   "metadata": {
    "id": "wtC3wkck7SEJ",
    "pycharm": {
     "name": "#%%\n"
    },
    "outputId": "f3cba30d-0a66-422a-bf58-14b5a8987481"
   },
   "source": [
    "targets.head()"
   ],
   "outputs": [],
   "execution_count": null
  },
  {
   "cell_type": "markdown",
   "metadata": {
    "id": "LFRi5AQE7SEJ"
   },
   "source": [
    "### Comparando las dimensiones, podemos ver que se eliminaron 9 valores atípicos."
   ]
  },
  {
   "cell_type": "code",
   "metadata": {
    "id": "ABj2MsQc7SEJ",
    "pycharm": {
     "name": "#%%\n"
    },
    "outputId": "1e6a59e6-ee5b-4d3a-9150-8b15c2ff106a"
   },
   "source": [
    "targets.shape"
   ],
   "outputs": [],
   "execution_count": null
  },
  {
   "cell_type": "markdown",
   "metadata": {
    "id": "pI9XHvqo7SEK"
   },
   "source": [
    "### Revisar el balance del conjunto de datos"
   ]
  },
  {
   "cell_type": "code",
   "metadata": {
    "id": "zQ0nyLUb7SEK",
    "pycharm": {
     "name": "#%%\n"
    }
   },
   "source": [
    "#Manera simple: contar 0/1s, obtener fracción del total"
   ],
   "outputs": [],
   "execution_count": null
  },
  {
   "cell_type": "code",
   "metadata": {
    "id": "tLFyODJf7SEK",
    "pycharm": {
     "name": "#%%\n"
    },
    "outputId": "9e2af1cf-9591-4c9f-9574-0cfbe2fcf8c5"
   },
   "source": [
    "np.sum(targets)/len(targets)"
   ],
   "outputs": [],
   "execution_count": null
  },
  {
   "cell_type": "code",
   "metadata": {
    "colab": {
     "base_uri": "https://localhost:8080/",
     "height": 168
    },
    "executionInfo": {
     "elapsed": 169,
     "status": "error",
     "timestamp": 1681077795293,
     "user": {
      "displayName": "Genaro Suarez",
      "userId": "01104011119764010032"
     },
     "user_tz": 240
    },
    "id": "dmAsabKA7SEK",
    "outputId": "d82c329c-1da6-4fa6-f2a1-859150be572b",
    "pycharm": {
     "name": "#%%\n"
    }
   },
   "source": [
    "np.bincount(targets) #esto muestra la distribución de las dos clases"
   ],
   "outputs": [],
   "execution_count": null
  },
  {
   "cell_type": "markdown",
   "metadata": {
    "id": "np1w1--W7SEL"
   },
   "source": [
    "### Esto nos dice que nuestro conjunto de datos está extremadamente desequilibrado y, por lo tanto, debemos tener cuidado."
   ]
  },
  {
   "cell_type": "markdown",
   "metadata": {
    "id": "ASwnvkK-7SEL"
   },
   "source": [
    "#### También podemos echar un vistazo a las dos primeras características, usando diferentes símbolos para las dos clases."
   ]
  },
  {
   "cell_type": "code",
   "metadata": {
    "id": "Yl8oM61t7SEL",
    "pycharm": {
     "name": "#%%\n"
    },
    "outputId": "ea017c25-edbb-47ea-dec5-5391296767fb"
   },
   "source": [
    "plt.figure(figsize=(10,6))\n",
    "\n",
    "cmap = matplotlib.colors.LinearSegmentedColormap.from_list(\"\", ['#20B2AA','#FF00FF'])\n",
    "\n",
    "color=cmap(targets)\n",
    "\n",
    "a = plt.scatter(final_features['S_MASS'], final_features['P_PERIOD'], marker=\"$\\u25EF$\",\\\n",
    "                label = 'Prueba', c=targets, cmap=cmap, s=100)\n",
    "\n",
    "plt.legend()\n",
    "\n",
    "plt.yscale('log')\n",
    "plt.xlabel('Masa del Estrella Anfitriona (Unidades de Masa Solar)')\n",
    "plt.ylabel('Periodo de la Órbita (días)');\n",
    "\n",
    "bluepatch = mpatches.Patch(color='#20B2AA', label='No Habitable')\n",
    "magentapatch = mpatches.Patch(color='#FF00FF', label='Habitable')\n",
    "\n",
    "ax = plt.gca()\n",
    "leg = ax.get_legend()\n",
    "\n",
    "plt.legend(handles=[magentapatch, bluepatch],\\\n",
    "           loc = 'lower right', fontsize = 14);"
   ],
   "outputs": [],
   "execution_count": null
  },
  {
   "cell_type": "markdown",
   "metadata": {
    "id": "fZNM_qrL7SEL"
   },
   "source": [
    "### Registro de Aprendizaje\n",
    "\n",
    "P: Según este gráfico, ¿esperaría que AD o kVC funcionaran mejor? ¿Por qué?\n",
    "\n",
    "<details>\n",
    "<summary style=\"display: list-item;\">¡Haz click aquí para la respuesta!</summary>\n",
    "<p>\n",
    "Posiblemente kVC, porque AD solo haría divisiones a lo largo de las características y no puede cortar el conjunto de datos en diagonal.\n",
    "</p>\n",
    "</details>\n",
    "\n",
    "<br/>\n",
    "\n",
    "\n",
    "P: ¿Qué tipo de desempeño podemos esperar (cualitativamente, es suficiente la información?) ¿Espera tener variables latentes (ocultas) que puedan afectar el resultado más allá de las que tenemos?\n",
    "\n",
    "<details>\n",
    "<summary style=\"display: list-item;\">¡Haz click aquí para la respuesta!</summary>\n",
    "<p>\n",
    "Hay mucha superposición entre las dos clases, lo que sugiere que no podemos esperar un gran rendimiento a menos que recopilemos más características.</p>\n",
    "</details>"
   ]
  },
  {
   "cell_type": "markdown",
   "metadata": {
    "id": "J-QRHIM57SEM"
   },
   "source": [
    "### Está bien, esto es todo para la exploración preliminar de datos. Hora de implementar."
   ]
  },
  {
   "cell_type": "markdown",
   "metadata": {
    "id": "XYj24Kr67SEM"
   },
   "source": [
    "Comenzamos con una división aleatoria de entrenamiento/prueba, y luego haremos una validación cruzada."
   ]
  },
  {
   "cell_type": "code",
   "metadata": {
    "id": "bwCRyEjv7SEM",
    "pycharm": {
     "name": "#%%\n"
    }
   },
   "source": [
    "Xtrain, Xtest, ytrain, ytest = train_test_split(final_features, targets, random_state=2)"
   ],
   "outputs": [],
   "execution_count": null
  },
  {
   "cell_type": "code",
   "metadata": {
    "id": "akeYnd9e7SEM",
    "pycharm": {
     "name": "#%%\n"
    },
    "outputId": "ed21359c-0c43-4ae3-e15c-200918d0802c"
   },
   "source": [
    "Xtrain.shape, Xtest.shape"
   ],
   "outputs": [],
   "execution_count": null
  },
  {
   "cell_type": "markdown",
   "metadata": {
    "id": "83lHnZAA7SEN"
   },
   "source": [
    "Elijamos el método AD (fijando el estado aleatorio) y construyamos el modelo."
   ]
  },
  {
   "cell_type": "code",
   "metadata": {
    "id": "kSdMMARw7SEN",
    "pycharm": {
     "name": "#%%\n"
    },
    "outputId": "f6d431eb-a1de-44ce-cf4a-74857880b179"
   },
   "source": [
    "model = DecisionTreeClassifier(random_state=5)\n",
    "\n",
    "model.fit(Xtrain, ytrain)"
   ],
   "outputs": [],
   "execution_count": null
  },
  {
   "cell_type": "markdown",
   "metadata": {
    "id": "nBNySUzJ7SEN"
   },
   "source": [
    "#### ¡Visualicemos el gráfico!"
   ]
  },
  {
   "cell_type": "code",
   "metadata": {
    "id": "9dKc0unE7SEO",
    "pycharm": {
     "name": "#%%\n"
    },
    "outputId": "52acc5a4-512d-4a0a-a45f-4c2a7cf6521c"
   },
   "source": [
    "# Recordatorio: las características siempre se permutan aleatoriamente en cada división.\n",
    "# Por lo tanto, la división mejor encontrada puede variar, incluso con los mismos datos de entrenamiento\n",
    "# y max_features=n_features (¨features¨ se refiere a características), si la mejora del criterio es idéntica\n",
    "# para varias divisiones enumeradas durante la búsqueda de la mejor división.\n",
    "# Para obtener un comportamiento determinista durante el ajuste, se debe fijar random_state (estado aleatorio).\n",
    "\n",
    "dot_data = StringIO()\n",
    "export_graphviz(\n",
    "            model,\n",
    "            out_file =  dot_data,\n",
    "            feature_names = ['Stellar Mass (M*)', 'Orbital Period (d)', 'Distance (AU)'],\n",
    "            class_names = ['Not Habitable','Habitable'],\n",
    "            filled = True,\n",
    "rounded = True)\n",
    "graph = pydotplus.graph_from_dot_data(dot_data.getvalue())\n",
    "nodes = graph.get_node_list()\n",
    "\n",
    "for node in nodes:\n",
    "    if node.get_label():\n",
    "        values = [int(ii) for ii in node.get_label().split('value = [')[1].split(']')[0].split(',')]\n",
    "        values = [255 * v / sum(values) for v in values]\n",
    "\n",
    "        values = [int(255 * v / sum(values)) for v in values]\n",
    "\n",
    "        if values[0] > values[1]:\n",
    "            alpha = int(values[0] - values[1])\n",
    "            alpha = '{:02x}'.format(alpha) #turn into hexadecimal\n",
    "            color = '#20 B2 AA'+str(alpha)\n",
    "        else:\n",
    "            alpha = int(values[1] - values[0])\n",
    "            alpha = '{:02x}'.format(alpha)\n",
    "            color = '#FF 00 FF'+str(alpha)\n",
    "        node.set_fillcolor(color)\n",
    "\n",
    "#graph.write_png('Graph.png',dpi = 300)\n",
    "\n",
    "Image(graph.create_png())"
   ],
   "outputs": [],
   "execution_count": null
  },
  {
   "cell_type": "markdown",
   "metadata": {
    "id": "rKwBHd5J7SEO"
   },
   "source": [
    "### Registro de Aprendizaje\n",
    "\n",
    "P: ¿Puedes predecir la nota de exactitud en el conjunto de entrenamiento?\n",
    "\n",
    "<details>\n",
    "<summary style=\"display: list-item;\">¡Haz clic aquí para la respuesta!</summary>\n",
    "<p>\n",
    "100%, como todos los árboles de decisión \"desatados\".\n",
    "</p>\n",
    "</details>"
   ]
  },
  {
   "cell_type": "markdown",
   "metadata": {
    "id": "fpcC1P8i7SEO"
   },
   "source": [
    "### Vamos a echar un vistazo a las notas de entrenamiento y de prueba"
   ]
  },
  {
   "cell_type": "code",
   "metadata": {
    "id": "gTj3MqOv7SEO",
    "pycharm": {
     "name": "#%%\n"
    },
    "outputId": "77ff81c4-8d79-495b-e615-a2f14fbbc781"
   },
   "source": [
    "print(metrics.accuracy_score(ytrain, model.predict(Xtrain))) #nota de entrenamiento\n",
    "print(metrics.accuracy_score(ytest, model.predict(Xtest))) #nota de prueba"
   ],
   "outputs": [],
   "execution_count": null
  },
  {
   "cell_type": "markdown",
   "metadata": {
    "id": "zWIAEfx57SEP"
   },
   "source": [
    "Parece muy alta, pero ¿cómo se compara con la exactitud de un clasificador vago (del inglés Lazy Classifier) que pone todo en la categoria \"no habitable\"?"
   ]
  },
  {
   "cell_type": "code",
   "metadata": {
    "id": "jVahJvqE7SEP",
    "pycharm": {
     "name": "#%%\n"
    },
    "outputId": "d45d69b2-2072-4343-8447-fb519db38c76"
   },
   "source": [
    "# Clasificador inocente (del inglés Dummy classifier)\n",
    "\n",
    "print(metrics.accuracy_score(ytest, np.zeros(len(ytest)))) #desempeño de un clasificador inocente\n"
   ],
   "outputs": [],
   "execution_count": null
  },
  {
   "cell_type": "markdown",
   "metadata": {
    "id": "kLT3Izu27SEP"
   },
   "source": [
    "### Podemos ver otras métricas."
   ]
  },
  {
   "cell_type": "code",
   "metadata": {
    "id": "bI88H__b7SEP",
    "pycharm": {
     "name": "#%%\n"
    },
    "outputId": "c2169b8f-ba03-438b-e7a0-22336b0b9639"
   },
   "source": [
    "print(metrics.precision_score(ytest,model.predict(Xtest)))"
   ],
   "outputs": [],
   "execution_count": null
  },
  {
   "cell_type": "code",
   "metadata": {
    "id": "NNgs91-n7SEP",
    "pycharm": {
     "name": "#%%\n"
    },
    "outputId": "a8788958-c4ea-4c95-b41e-7ac0210583b5"
   },
   "source": [
    "print(metrics.recall_score(ytest,model.predict(Xtest)))"
   ],
   "outputs": [],
   "execution_count": null
  },
  {
   "cell_type": "markdown",
   "metadata": {
    "id": "3mfEIF_s7SEQ"
   },
   "source": [
    "¿Cómo son en general?\n"
   ]
  },
  {
   "cell_type": "markdown",
   "metadata": {
    "id": "2Pmvk7i17SEQ"
   },
   "source": [
    "No buenas.\n",
    "\n",
    "\n"
   ]
  },
  {
   "cell_type": "markdown",
   "metadata": {
    "id": "4bY4Amk07SEQ"
   },
   "source": [
    "### ¿Sabes qué necesitaríamos para entender exactamente cómo el modelo está trabajando? ¡Una matriz de confusión!"
   ]
  },
  {
   "cell_type": "code",
   "metadata": {
    "id": "XdeH2SlN7SEQ",
    "pycharm": {
     "name": "#%%\n"
    }
   },
   "source": [
    "def plot_confusion_matrix(cm, classes,\n",
    "                          normalize=False,\n",
    "                          title='Matriz de confusión',\n",
    "                          cmap=plt.cm.Blues):\n",
    "    \"\"\"\n",
    "    Esta función imprime y grafica la matriz de confusión\n",
    "    Se puede aplicar la normalización ajustando `normalize=True`\n",
    "    \"\"\"\n",
    "    if normalize:\n",
    "        cm = cm.astype('float') / cm.sum(axis=1)[:, np.newaxis]\n",
    "        print(\"Matriz de confusión normalizada\")\n",
    "    else:\n",
    "        print('Matriz de confusión sin normalización')\n",
    "\n",
    "    plt.figure(figsize=(7,6))\n",
    "    print(cm)\n",
    "    plt.imshow(cm, interpolation='nearest', cmap=cmap)\n",
    "    plt.title(title)\n",
    "    plt.colorbar()\n",
    "    tick_marks = np.arange(len(classes))\n",
    "    plt.xticks(tick_marks, classes, rotation=45)\n",
    "    plt.yticks(tick_marks, classes)\n",
    "\n",
    "    fmt = '.2f' if normalize else 'd'\n",
    "    thresh = cm.max() / 2.\n",
    "    for i in range(cm.shape[0]):\n",
    "        for j in range(cm.shape[1]):\n",
    "            plt.text(j, i, format(cm[i, j], fmt),\n",
    "                 horizontalalignment=\"center\", verticalalignment=\"center\",\n",
    "                 color=\"green\" if i == j else \"red\", fontsize = 30)\n",
    "\n",
    "    plt.tight_layout()\n",
    "    plt.ylabel('Etiqueta verdadera')\n",
    "    plt.xlabel('Etiqueta predicha')"
   ],
   "outputs": [],
   "execution_count": null
  },
  {
   "cell_type": "markdown",
   "metadata": {
    "id": "O5kEa9bL7SEQ"
   },
   "source": [
    "### Podemos graficar la matriz de confusión\n",
    "\n",
    "Notar que hasta ahora hemos usado las predicciones de *una* iteración de prueba, por lo que los números se referirán solo al conjunto de prueba."
   ]
  },
  {
   "cell_type": "code",
   "metadata": {
    "id": "-q0--7427SER",
    "pycharm": {
     "name": "#%%\n"
    },
    "outputId": "47b6f7e1-b288-4460-aa16-1a3bcd0a8391"
   },
   "source": [
    "cm = metrics.confusion_matrix(ytest,model.predict(Xtest))\n",
    "\n",
    "plot_confusion_matrix(cm, ['No Hab','Hab'], cmap = plt.cm.Pastel2)"
   ],
   "outputs": [],
   "execution_count": null
  },
  {
   "cell_type": "markdown",
   "metadata": {
    "id": "9UHvVDjT7SER"
   },
   "source": [
    "### Podemos implementar ahora tres tipos de Validaciones Cruzadas de k-Iteraciones.\n",
    "\n",
    "Nota: podemos fijar la semilla aleatoria para reproducir exactamente el mismo comportamiento.\n",
    "\n",
    "En resumen: usar el segundo y el tercer método."
   ]
  },
  {
   "cell_type": "code",
   "metadata": {
    "id": "Hyq6HKdC7SER",
    "pycharm": {
     "name": "#%%\n"
    }
   },
   "source": [
    "# Esta es la versión estándar. Importante: no desordena los datos,\n",
    "# por lo que si todos los ejemplos positivos están al inicio o al final, \n",
    "# esto podría producir resultados desastrosos\n",
    "\n",
    "cv1 = KFold(n_splits = 5)\n",
    "\n",
    "#Esta es la versión 2: desorden agregado (¡recomendado!)\n",
    "\n",
    "cv2 = KFold(shuffle = True, n_splits = 5, random_state=5)\n",
    "\n",
    "# La ESTRATIFICACIÓN garantiza que las distribuciones de clases en cada división \n",
    "# se parezcan a las del conjunto de datos completo\n",
    "\n",
    "cv3 = StratifiedKFold(shuffle = True, n_splits = 5, random_state=5)\n"
   ],
   "outputs": [],
   "execution_count": null
  },
  {
   "cell_type": "markdown",
   "metadata": {
    "id": "epxodB9V7SER"
   },
   "source": [
    "### Efecto de la estratificación: veamos el conteo de clases en cada conjunto de divisiones."
   ]
  },
  {
   "cell_type": "code",
   "metadata": {
    "id": "0WzIEhb67SES",
    "pycharm": {
     "name": "#%%\n"
    },
    "outputId": "8f15b4b3-1dfa-458b-be56-a1191bab1752"
   },
   "source": [
    "for train, test in cv1.split(final_features, targets): #Justo como son en el conjunto de datos original\n",
    "...     print('train -  {}   |   test -  {}'.format(\n",
    "...         np.bincount(targets.loc[train]), np.bincount(targets.loc[test])))"
   ],
   "outputs": [],
   "execution_count": null
  },
  {
   "cell_type": "code",
   "metadata": {
    "id": "EnyH7JUp7SES",
    "pycharm": {
     "name": "#%%\n"
    },
    "outputId": "6e52ed3b-9fa6-428c-bb10-79d37b12455d"
   },
   "source": [
    "for train, test in cv2.split(final_features, targets): #Una selección aleatoria\n",
    "...     print('train -  {}   |   test -  {}'.format(\n",
    "...         np.bincount(targets.loc[train]), np.bincount(targets.loc[test])))"
   ],
   "outputs": [],
   "execution_count": null
  },
  {
   "cell_type": "code",
   "metadata": {
    "id": "Q8kb7TpY7SES",
    "pycharm": {
     "name": "#%%\n"
    },
    "outputId": "4d93e18e-7610-47b3-c91e-dceac8ee5463"
   },
   "source": [
    "for train, test in cv3.split(final_features, targets): #tomando en cuenta la seleccción aleatoria\n",
    "...     print('train -  {}   |   test -  {}'.format(\n",
    "...         np.bincount(targets.loc[train]), np.bincount(targets.loc[test])))"
   ],
   "outputs": [],
   "execution_count": null
  },
  {
   "cell_type": "markdown",
   "metadata": {
    "id": "Kyc8NNlW7SES"
   },
   "source": [
    "#### La función práctica cross\\_validate proporciona las notas (especificadas por el parámetro de notas elegido), en forma de diccionario."
   ]
  },
  {
   "cell_type": "code",
   "metadata": {
    "id": "ujfoUV9w7SES",
    "pycharm": {
     "name": "#%%\n"
    }
   },
   "source": [
    "scores1 = cross_validate(DecisionTreeClassifier(), final_features, targets, cv = cv1, scoring = 'accuracy')\n",
    "\n",
    "scores2 = cross_validate(DecisionTreeClassifier(), final_features, targets, cv = cv2, scoring = 'accuracy')\n",
    "\n",
    "scores3 = cross_validate(DecisionTreeClassifier(), final_features, targets, cv = cv3, scoring = 'accuracy')"
   ],
   "outputs": [],
   "execution_count": null
  },
  {
   "cell_type": "code",
   "metadata": {
    "id": "1RZy9Y9k7SES",
    "pycharm": {
     "name": "#%%\n"
    },
    "outputId": "415b2e05-45f7-4f1d-e855-e2df87b4e43b"
   },
   "source": [
    "scores1"
   ],
   "outputs": [],
   "execution_count": null
  },
  {
   "cell_type": "markdown",
   "metadata": {
    "id": "XyDp6LS17SET"
   },
   "source": [
    "#### Podemos ahora calcular un promedio y una desviación estándar"
   ]
  },
  {
   "cell_type": "code",
   "metadata": {
    "id": "P0IbJWrz7SET",
    "pycharm": {
     "name": "#%%\n"
    },
    "outputId": "2183a543-8f62-40bd-ebdf-09ef7b87d331"
   },
   "source": [
    "print(\"{:.3f}\".format(scores1['test_score'].mean()), \"{:.3f}\".format(scores1['test_score'].std()))"
   ],
   "outputs": [],
   "execution_count": null
  },
  {
   "cell_type": "code",
   "metadata": {
    "id": "6GScJJI67SET",
    "pycharm": {
     "name": "#%%\n"
    },
    "outputId": "b2660864-e7d5-4526-a59f-479d32e930ed"
   },
   "source": [
    "print(\"{:.3f}\".format(scores2['test_score'].mean()), \"{:.3f}\".format(scores2['test_score'].std()))"
   ],
   "outputs": [],
   "execution_count": null
  },
  {
   "cell_type": "code",
   "metadata": {
    "id": "__1i5W3e7SET",
    "pycharm": {
     "name": "#%%\n"
    },
    "outputId": "74face43-cb10-4cdc-c13a-dbdfa60126f8"
   },
   "source": [
    "print(\"{:.3f}\".format(scores3['test_score'].mean()), \"{:.3f}\".format(scores3['test_score'].std()))"
   ],
   "outputs": [],
   "execution_count": null
  },
  {
   "cell_type": "markdown",
   "metadata": {
    "id": "vGlDSmcZ7SEU"
   },
   "source": [
    "### Registro de Aprendizaje\n",
    "\n",
    "P: ¿Son las diferencias estadísticamente significativas?\n",
    "\n",
    "<details>\n",
    "<summary style=\"display: list-item;\">¡Haz click aquí para la respuesta!</summary>\n",
    "<p>\n",
    "¡No, porque las diferencia es menor que una desviación estándar!\n",
    "</p>\n",
    "</details>"
   ]
  },
  {
   "cell_type": "markdown",
   "metadata": {
    "id": "NtW46-WT7SEU"
   },
   "source": [
    "### Vamos a usar ahora \"recall\" (recordar) cómo nuestro parámetro de nota. ¿Cambiará el modelo?"
   ]
  },
  {
   "cell_type": "code",
   "metadata": {
    "id": "_sOttumb7SEU",
    "pycharm": {
     "name": "#%%\n"
    }
   },
   "source": [
    "scores1 = cross_validate(DecisionTreeClassifier(random_state=1), final_features, targets, cv = cv1, scoring = 'recall')\n",
    "\n",
    "scores2 = cross_validate(DecisionTreeClassifier(random_state=1), final_features, targets, cv = cv2, scoring = 'recall')\n",
    "\n",
    "scores3 = cross_validate(DecisionTreeClassifier(random_state=1), final_features, targets, cv = cv3, scoring = 'recall')"
   ],
   "outputs": [],
   "execution_count": null
  },
  {
   "cell_type": "code",
   "metadata": {
    "id": "sjBmfbg17SEU",
    "pycharm": {
     "name": "#%%\n"
    },
    "outputId": "f454f485-fd38-4c72-bfe0-38345b3a80ac"
   },
   "source": [
    "print(\"{:.3f}\".format(scores1['test_score'].mean()), \"{:.3f}\".format(scores1['test_score'].std()))\n",
    "print(\"{:.3f}\".format(scores2['test_score'].mean()), \"{:.3f}\".format(scores2['test_score'].std()))\n",
    "print(\"{:.3f}\".format(scores3['test_score'].mean()), \"{:.3f}\".format(scores3['test_score'].std()))"
   ],
   "outputs": [],
   "execution_count": null
  },
  {
   "cell_type": "markdown",
   "metadata": {
    "id": "E9-XKvNB7SEV"
   },
   "source": [
    "### Si lo deseamos, también podemos pedir las notas de entrenamiento. Esto es muy útil cuando se diagnostica sesgo vs varianza."
   ]
  },
  {
   "cell_type": "code",
   "metadata": {
    "id": "mEfxqal47SEV",
    "pycharm": {
     "name": "#%%\n"
    }
   },
   "source": [
    "scores1 = cross_validate(DecisionTreeClassifier(), final_features, targets, cv = cv1, scoring = 'recall', \\\n",
    "                         return_train_score = True)\n",
    "\n",
    "scores2 = cross_validate(DecisionTreeClassifier(), final_features, targets, cv = cv2, scoring = 'recall', \\\n",
    "                         return_train_score = True)\n",
    "\n",
    "scores3 = cross_validate(DecisionTreeClassifier(), final_features, targets, cv = cv3, scoring = 'recall',\n",
    "                         return_train_score = True)"
   ],
   "outputs": [],
   "execution_count": null
  },
  {
   "cell_type": "code",
   "metadata": {
    "id": "xzwW7Z8u7SEV",
    "pycharm": {
     "name": "#%%\n"
    },
    "outputId": "3e8bbd6b-1041-4285-cbc4-2967440f2688"
   },
   "source": [
    "print(\"{:.3f}\".format(scores1['test_score'].mean()), \"{:.3f}\".format(scores1['train_score'].mean()))\n",
    "print(\"{:.3f}\".format(scores2['test_score'].mean()), \"{:.3f}\".format(scores2['train_score'].mean()))\n",
    "print(\"{:.3f}\".format(scores3['test_score'].mean()), \"{:.3f}\".format(scores3['train_score'].mean()))"
   ],
   "outputs": [],
   "execution_count": null
  },
  {
   "cell_type": "markdown",
   "metadata": {
    "id": "lwkJ2ppw7SEV"
   },
   "source": [
    "### La función cross\\_validate es útil para calcular la nota, pero no produce etiquetas previstas.\n",
    "\n",
    "#### Se pueden obtener usando la función cross\\_val\\_predict, que guarda las predicciones para cada una de las k-iteraciones de prueba y los compila juntos."
   ]
  },
  {
   "cell_type": "code",
   "metadata": {
    "id": "IsCOVYQb7SEV",
    "pycharm": {
     "name": "#%%\n"
    }
   },
   "source": [
    "model1 = DecisionTreeClassifier(random_state = 3)\n",
    "\n",
    "y1 = cross_val_predict(model1, final_features, targets, cv = cv1) #estas son las predicciones,\n",
    "                                                                #y son independientes del parámetros nota"
   ],
   "outputs": [],
   "execution_count": null
  },
  {
   "cell_type": "markdown",
   "metadata": {
    "id": "qZxgKSDW7SEW"
   },
   "source": [
    "Esta salida es útil para construir la matriz de confusión \"completa\":"
   ]
  },
  {
   "cell_type": "code",
   "metadata": {
    "id": "_n1Qiptr7SEW",
    "pycharm": {
     "name": "#%%\n"
    },
    "outputId": "1af713fc-553f-4ec4-9547-e86426fb018b"
   },
   "source": [
    "metrics.confusion_matrix(targets,y1)"
   ],
   "outputs": [],
   "execution_count": null
  },
  {
   "cell_type": "markdown",
   "metadata": {
    "id": "pfM_63d-7SEX"
   },
   "source": [
    "### Sin embargo, las cosas pueden cambiar si usamos un esquema de validación cruzada diferente:"
   ]
  },
  {
   "cell_type": "code",
   "metadata": {
    "id": "pKKF81e47SEY",
    "pycharm": {
     "name": "#%%\n"
    }
   },
   "source": [
    "model1 = DecisionTreeClassifier(random_state = 3)\n",
    "\n",
    "y1 = cross_val_predict(model1, final_features, targets, cv = cv1)"
   ],
   "outputs": [],
   "execution_count": null
  },
  {
   "cell_type": "code",
   "metadata": {
    "id": "0XVUmHP97SEZ",
    "pycharm": {
     "name": "#%%\n"
    }
   },
   "source": [
    "model2 = DecisionTreeClassifier(random_state = 3)\n",
    "\n",
    "y2 = cross_val_predict(model2, final_features, targets, cv = cv2)"
   ],
   "outputs": [],
   "execution_count": null
  },
  {
   "cell_type": "code",
   "metadata": {
    "id": "HDo_PAoI7SEZ",
    "pycharm": {
     "name": "#%%\n"
    },
    "outputId": "ac54041c-b6b4-4c42-c00f-e650465e6481"
   },
   "source": [
    "np.sum(y1-y2)"
   ],
   "outputs": [],
   "execution_count": null
  },
  {
   "cell_type": "code",
   "metadata": {
    "id": "CdqNcnRA7SEZ",
    "pycharm": {
     "name": "#%%\n"
    },
    "outputId": "1804bc73-7da8-4df3-90ff-786c3293a804"
   },
   "source": [
    "np.sum(y1)"
   ],
   "outputs": [],
   "execution_count": null
  },
  {
   "cell_type": "code",
   "metadata": {
    "id": "wAqcDCqm7SEa",
    "pycharm": {
     "name": "#%%\n"
    },
    "outputId": "60a5f541-09d7-485e-92b9-9e2ea2d66e08"
   },
   "source": [
    "metrics.confusion_matrix(targets,y1)"
   ],
   "outputs": [],
   "execution_count": null
  },
  {
   "cell_type": "code",
   "metadata": {
    "id": "udemBbWF7SEa",
    "pycharm": {
     "name": "#%%\n"
    },
    "outputId": "a3ef92a1-4029-408c-c7d2-457a74d9cb16"
   },
   "source": [
    "metrics.confusion_matrix(targets,y2)"
   ],
   "outputs": [],
   "execution_count": null
  },
  {
   "cell_type": "markdown",
   "metadata": {
    "id": "Rjg7Owx17SEa"
   },
   "source": [
    "Este es un buen recordatorio de que la matriz de confusión también es solo una posible realización del modelo y está sujeta a fluctuaciones aleatorias al igual que las notas de validación cruzada."
   ]
  },
  {
   "cell_type": "markdown",
   "metadata": {
    "id": "ixgxGSMh7SEa"
   },
   "source": [
    "### Finalmente, podemos aprender a graficar curvas de aprendizaje utilizando esta función práctica de sklearn."
   ]
  },
  {
   "cell_type": "markdown",
   "metadata": {
    "id": "cTyTBahF7SEa"
   },
   "source": [
    "Las curvas de aprendizaje son útiles para visualizar la nota de entrenamiento vs la nota de prueba, y cómo varían en función del tamaño del conjunto de datos. Nos permiten determinar si tenemos suficientes datos de aprendizaje Y si tenemos un problema de sesgo alto o varianza alta.\n",
    "\n",
    "El siguiente código fuente es una ligera modificación de [este código](https://scikit-learn.org/stable/auto_examples/model_selection/plot_learning_curve.html)."
   ]
  },
  {
   "cell_type": "code",
   "metadata": {
    "id": "c85DHQXIDxKo",
    "executionInfo": {
     "status": "ok",
     "timestamp": 1682202456909,
     "user_tz": 240,
     "elapsed": 236,
     "user": {
      "displayName": "Genaro Suarez",
      "userId": "01104011119764010032"
     }
    }
   },
   "source": [
    "from sklearn.model_selection import learning_curve\n",
    "\n",
    "def plot_learning_curve(estimator, title, X, y, ylim=None, cv=5,\n",
    "                        n_jobs=-1, train_sizes=np.linspace(.1, 1.0, 5), scoring = 'accuracy'):\n",
    "    \"\"\"\n",
    "    Genera una gráfica simple de la curva de aprendizaje de prueba y entrenamiento.\n",
    "\n",
    "    Parametros\n",
    "    ----------\n",
    "    estimador : tipo de dato \"Objecto\" que implementa los métodos 'fit y 'predict'\n",
    "        Un objecto que se clona para cada validación.\n",
    "\n",
    "    title : Cadena de caracteres\n",
    "        Título para del gráfico.\n",
    "\n",
    "    X : vector, forma (n_muestras, n_características)\n",
    "        Vector de entrenamiento, donde n_muestras es el número de muestras y \n",
    "        n_características es el número de características.\n",
    "\n",
    "    y : vector, forma (n_muestras) o (n_muestras, n_características), opcional\n",
    "        Objetivo relativo a X para la clasificación o la regresión;\n",
    "        None para el aprendizaje no supervisado.\n",
    "\n",
    "    ylim : tupla, forma (ymin, ymax), opcional\n",
    "        Define los valores mínimos y máximos de y para ser graficados\n",
    "\n",
    "    cv : entero, Generador de validación cruzada o un iterable, opcional\n",
    "        Determina la estrategia de división de validación cruzada.\n",
    "        Las entradas posibles para cv son:\n",
    "          - Nada (None), para usar la validación cruzada de 3 iteraciones predeterminada,\n",
    "          - entero, para especificar el número de iteraciones.\n",
    "          - :term:`CV splitter`,\n",
    "          - Un iterable que da divisiones (entrenamiento, prueba) como matrices \n",
    "          de índices\n",
    "\n",
    "        Para entradas de entero/None, si \", si el estimador es un clasificador \n",
    "        e y es binario o multiclase, se usa :class:`StratifiedKFold`. \n",
    "        En todos los demás casos, se utiliza :class:`KFold`.\n",
    "\n",
    "        Consulte :ref:`User Guide <cross_validation>` para conocer las diversas \n",
    "        estrategias de validación cruzada que se pueden utilizar aquí.\n",
    "\n",
    "    n_jobs : int or None, opcional (default=None)\n",
    "    Número de trabajos que se ejecutarán en paralelo. \n",
    "    ``None``  significa 1 a menos que esté en \n",
    "    un contexto :obj:`joblib.parallel_backend`\n",
    "    ``-1`` significa usar todos los procesadores. \n",
    "    Consulte :term:`Glossary <n_jobs>` (glosario) para obtener más detalles.\n",
    "\n",
    "\n",
    "    train_sizes : vector, forma (n_marcas,), dtype  flotante o entero\n",
    "    Número relativo o absoluto de ejemplos de entrenamiento que se \n",
    "    han utilizado para generar la curva de aprendizaje, Si el dtype es float, \n",
    "    se considera como un fracción del tamaño máximo del conjunto de entrenamiento \n",
    "    (que se determina por el método de validación seleccionado)\n",
    "    , es decir, tiene que estar dentro de (0, 1].De lo contrario, \n",
    "    se interpreta como tamaños absolutos de los conjuntos de entrenamiento.\n",
    "    Notese que para la clasificación, el número de muestras generalmente tiene que\n",
    "    ser lo suficientemente grande para contener al menos una muestra de cada clase.\n",
    "    (predeterminado: np.linspace(0.1, 1.0, 5))\n",
    "    \"\"\"\n",
    "    plt.figure(figsize=(10,6))\n",
    "    plt.title(title)\n",
    "    if ylim is not None:\n",
    "        plt.ylim(*ylim)\n",
    "    plt.xlabel(\"Ejemplos de Entrenamiento\")\n",
    "    if(scoring=='recall'):\n",
    "        plt.ylabel(\"Exhaustividad\")\n",
    "    else:\n",
    "        plt.ylabel(str(scoring))\n",
    "\n",
    "    train_sizes, train_scores, test_scores = learning_curve(\n",
    "        estimator, X, y, cv=cv, n_jobs=n_jobs, train_sizes=train_sizes, scoring = scoring)\n",
    "    train_scores_mean = np.mean(train_scores, axis=1)\n",
    "    train_scores_std = np.std(train_scores, axis=1)\n",
    "    test_scores_mean = np.mean(test_scores, axis=1)\n",
    "    test_scores_std = np.std(test_scores, axis=1)\n",
    "    plt.grid()\n",
    "\n",
    "    plt.fill_between(train_sizes, train_scores_mean - train_scores_std,\n",
    "                     train_scores_mean + train_scores_std, alpha=0.1,\n",
    "                     color=\"r\")\n",
    "    plt.fill_between(train_sizes, test_scores_mean - test_scores_std,\n",
    "                     test_scores_mean + test_scores_std, alpha=0.1, color=\"g\")\n",
    "    plt.plot(train_sizes, train_scores_mean, 'o-', color=\"r\",\n",
    "             label=\"Nota de entrenamiento\")\n",
    "    plt.plot(train_sizes, test_scores_mean, 'o-', color=\"g\",\n",
    "             label=\"Nota de la validación cruzada\")\n",
    "\n",
    "    plt.legend(loc=\"best\")\n",
    "    return plt"
   ],
   "outputs": [],
   "execution_count": null
  },
  {
   "cell_type": "code",
   "metadata": {
    "id": "Kx6LvRpu7SEb",
    "pycharm": {
     "name": "#%%\n"
    },
    "executionInfo": {
     "status": "ok",
     "timestamp": 1682202457402,
     "user_tz": 240,
     "elapsed": 249,
     "user": {
      "displayName": "Genaro Suarez",
      "userId": "01104011119764010032"
     }
    }
   },
   "source": [
    "model = DecisionTreeClassifier(random_state = 5)"
   ],
   "outputs": [],
   "execution_count": null
  },
  {
   "cell_type": "code",
   "metadata": {
    "id": "eA-PVwYG7SEb",
    "pycharm": {
     "name": "#%%\n"
    },
    "outputId": "503e9b91-f67c-47b3-f0b5-1d06b4e6893a",
    "executionInfo": {
     "status": "error",
     "timestamp": 1682202458083,
     "user_tz": 240,
     "elapsed": 438,
     "user": {
      "displayName": "Genaro Suarez",
      "userId": "01104011119764010032"
     }
    },
    "colab": {
     "base_uri": "https://localhost:8080/",
     "height": 168
    }
   },
   "source": [
    "plot_learning_curve(model, 'Árbol de decisión (parámetros predeterminados)', final_features, targets,  cv = cv3, scoring = 'recall');"
   ],
   "outputs": [],
   "execution_count": null
  },
  {
   "cell_type": "markdown",
   "metadata": {
    "id": "ZnMzovkK7SEb"
   },
   "source": [
    "### Registro de Apredizaje\n",
    "\n",
    "R: ¿Cómo va nuestro modelo de árbol de decisión? ¿Sufre de una varianza alta o un sesgo alto?\n",
    "\n",
    "<details>\n",
    "<summary style=\"display: list-item;\">¡Haz click aquí para la respuesta!</summary>\n",
    "<p>\n",
    "El modelo sufre de una varianza muy alta, como se muestra por la diferencia estadísticamente significativa entre las notas de entrenamiento y de prueba. Más datos ayudarán, ya que la pendiente de las notas de prueba parece estar aumentando.\n",
    "</p>\n",
    "</details>"
   ]
  },
  {
   "cell_type": "markdown",
   "metadata": {
    "id": "-qvslPNG7SEb",
    "pycharm": {
     "name": "#%% md\n"
    }
   },
   "source": [
    "#### No veremos clasificadores @ kNN, pero somos (¡por supuesto!) libre de jugar con eso.\n",
    "\n",
    "El Capítulo 3 del libro analiza aplicaciones adicionales, como los resultados del algoritmo kNN y el caso de un clasificador de 3 clases.\n",
    "\n",
    "\n",
    "We won't look @ kNN classifier, but you are (of course!) free to play with it.\n",
    "\n",
    "Chapter 3 of the book discusses additional applications, like the kNN algorithm results, and the case of a 3-class classifier."
   ]
  }
 ],
 "metadata": {
  "colab": {
   "provenance": []
  },
  "kernelspec": {
   "display_name": "Python 3 (ipykernel)",
   "language": "python",
   "name": "python3"
  },
  "language_info": {
   "codemirror_mode": {
    "name": "ipython",
    "version": 3
   },
   "file_extension": ".py",
   "mimetype": "text/x-python",
   "name": "python",
   "nbconvert_exporter": "python",
   "pygments_lexer": "ipython3",
   "version": "3.9.13"
  }
 },
 "nbformat": 4,
 "nbformat_minor": 0
}
