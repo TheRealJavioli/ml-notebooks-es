{
 "cells": [
  {
   "cell_type": "markdown",
   "metadata": {
    "id": "_z8QxPLqn5Rz"
   },
   "source": [
    "### Este es un cuaderno simple para construir y visualizar árboles de decisión.\n",
    "\n",
    "Acompaña al Capítulo 2 del libro.\n",
    "\n",
    "Autora: Viviana Acquaviva, con contribuciones de Jake Postiglione y Olga Privman. Traducido por Manuel Pichardo Marcano y Genaro Suárez.\n",
    "Algunos créditos de visualización é inspiración:\n",
    "\n",
    "https://towardsdatascience.com/scikit-learn-decision-trees-explained-803f3812290d\n",
    "\n",
    "https://medium.com/@rnbrown/creating-and-visualizing-decision-trees-with-python-f8e8fa394176\n"
   ]
  },
  {
   "cell_type": "code",
   "execution_count": null,
   "metadata": {
    "id": "4hnnMmoIn5R0"
   },
   "outputs": [],
   "source": [
    "import numpy as np #importar el paquete de numpy \n",
    "\n",
    "import matplotlib #importar el paquete de matplotlib \n",
    "\n",
    "import matplotlib.pyplot as plt #importar el paquete de matplotlib donde puedes crear graficas \n",
    "\n",
    "import matplotlib.patches as mpatches\n",
    "\n",
    "import pandas as pd #new! #importar el paquete pandas para poder abrir el archivo\n",
    "\n",
    "from sklearn.model_selection import train_test_split #no la usamos aquí, ¡pero es una función útil!\n",
    "\n",
    "from sklearn.tree import DecisionTreeClassifier #Así es como se importan métodos\n",
    "\n",
    "from sklearn import metrics #esto nos dará acceso a las métricas de evaluación"
   ]
  },
  {
   "cell_type": "code",
   "execution_count": null,
   "metadata": {
    "id": "Z1a3lrOsn5R1"
   },
   "outputs": [],
   "source": [
    "font = {'size'   : 20}\n",
    "matplotlib.rc('font', **font)\n",
    "matplotlib.rc('xtick', labelsize=20) \n",
    "matplotlib.rc('ytick', labelsize=20) \n",
    "matplotlib.rcParams['figure.dpi'] = 300"
   ]
  },
  {
   "cell_type": "code",
   "execution_count": null,
   "metadata": {
    "id": "4un5bsD8n5R1"
   },
   "outputs": [],
   "source": [
    "#Aquí hay un montón de paquetes solo para fines de visualización: se pueden omitir si son problemáticos\n",
    "\n",
    "from io import StringIO\n",
    "from IPython.display import Image  \n",
    "import pydotplus\n",
    "from sklearn.tree import export_graphviz #puedes usar esto si las otras líneas te dan problemas"
   ]
  },
  {
   "cell_type": "markdown",
   "metadata": {
    "id": "xBfOqvyqn5R1"
   },
   "source": [
    "### Usaremos una selección de información de http://phl.upr.edu/projects/habitable-exoplanets-catalog/data/database"
   ]
  },
  {
   "cell_type": "markdown",
   "metadata": {
    "id": "dy6Flbqkn5R1"
   },
   "source": [
    "### Comenzamos leyendo el conjunto de datos usando pandas."
   ]
  },
  {
   "cell_type": "code",
   "execution_count": null,
   "metadata": {
    "id": "3WKzn50Yn5R1"
   },
   "outputs": [],
   "source": [
    "LearningSet = pd.read_csv('../data/HPLearningSet.csv') #conjunto de aprendizaje"
   ]
  },
  {
   "cell_type": "code",
   "execution_count": null,
   "metadata": {
    "id": "FE5Yjko5n5R1"
   },
   "outputs": [],
   "source": [
    "!head '../data/HPLearningSet.csv'"
   ]
  },
  {
   "cell_type": "code",
   "execution_count": null,
   "metadata": {
    "id": "1Dtwi0bXn5R1"
   },
   "outputs": [],
   "source": [
    "LearningSet"
   ]
  },
  {
   "cell_type": "code",
   "execution_count": null,
   "metadata": {
    "id": "xuAg5Wlzn5R2"
   },
   "outputs": [],
   "source": [
    "LearningSet = LearningSet.drop(LearningSet.columns[0], axis=1) #queremos soltar la primera columna del conjunto de aprendizaje"
   ]
  },
  {
   "attachments": {},
   "cell_type": "markdown",
   "metadata": {
    "id": "K2mfwe94n5R2"
   },
   "source": [
    "La estructura que creamos se llama un marco de datos.\n",
    "\n",
    "Es agradable porque podemos referirnos a las columnas con sus nombres y también con sus índices, y se ve ordenado."
   ]
  },
  {
   "cell_type": "code",
   "execution_count": null,
   "metadata": {
    "id": "pS_UQSfFn5R2"
   },
   "outputs": [],
   "source": [
    "LearningSet"
   ]
  },
  {
   "cell_type": "code",
   "execution_count": null,
   "metadata": {
    "id": "3OLpmfIbn5R2"
   },
   "outputs": [],
   "source": [
    "LearningSet[['P_NAME','S_MASS']] #manera conveniente de acceder a las columnas"
   ]
  },
  {
   "cell_type": "code",
   "execution_count": null,
   "metadata": {
    "id": "DIJvrMXjn5R2"
   },
   "outputs": [],
   "source": [
    "LearningSet.P_NAME #aquí viene otro "
   ]
  },
  {
   "attachments": {},
   "cell_type": "markdown",
   "metadata": {
    "id": "867SugR2n5R2"
   },
   "source": "### Escojamos los mismos conjuntos de entrenamiento y prueba que teníamos en el ejercicio."
  },
  {
   "cell_type": "markdown",
   "metadata": {
    "id": "IbRs3UUQn5R2"
   },
   "source": [
    "Tenga en cuenta el uso de \".iloc\" (ubicación de números enteros) para acceder a índices en marcos de datos."
   ]
  },
  {
   "cell_type": "code",
   "execution_count": null,
   "metadata": {
    "id": "c1BhwCrdn5R2"
   },
   "outputs": [],
   "source": [
    "TrainSet =  LearningSet.iloc[:13,:]  #normalmente esto sucedería al azar, usando la función train_test_split\n",
    "\n",
    "TestSet = LearningSet.iloc[13:,:]"
   ]
  },
  {
   "cell_type": "code",
   "execution_count": null,
   "metadata": {
    "id": "y64IwEuqn5R2"
   },
   "outputs": [],
   "source": [
    "TrainSet"
   ]
  },
  {
   "cell_type": "code",
   "execution_count": null,
   "metadata": {
    "id": "H8UlcVFZn5R2"
   },
   "outputs": [],
   "source": [
    "TestSet"
   ]
  },
  {
   "cell_type": "markdown",
   "metadata": {
    "id": "nkyjb07un5R2"
   },
   "source": [
    "### Dividimos los conjuntos de entrenamiento y prueba  en las características y etiquetas."
   ]
  },
  {
   "cell_type": "code",
   "execution_count": null,
   "metadata": {
    "id": "AoZmKj-ln5R2"
   },
   "outputs": [],
   "source": [
    "Xtrain = TrainSet.drop(['P_NAME','P_HABITABLE'],axis=1) #características para el conjunto de entrenamiento\n",
    "\n",
    "Xtest = TestSet.drop(['P_NAME','P_HABITABLE'],axis=1) #características para el conjunto de prueba"
   ]
  },
  {
   "cell_type": "code",
   "execution_count": null,
   "metadata": {
    "id": "Sb3cPEain5R2"
   },
   "outputs": [],
   "source": [
    "ytrain = TrainSet.P_HABITABLE #objetivo para el conjunto de entrenamiento \n",
    "\n",
    "ytest = TestSet.P_HABITABLE  #objetivo para el conjunto de prueba"
   ]
  },
  {
   "cell_type": "markdown",
   "metadata": {
    "id": "FgH1cc5qn5R2"
   },
   "source": [
    "### ¡Y estamos listos para ajustar el modelo con nuestro árbol de decisiones!\n",
    "\n",
    "Nota: Las características siempre se permutan aleatoriamente en cada división. Por tanto, el split mejor encontrado puede variar, incluso con los mismos datos de entrenamiento, si la mejora del criterio es idéntica para varios splits enumerados durante la búsqueda del mejor split.\n",
    "\n",
    "Para obtener un comportamiento determinista durante el ajuste, se debe corregir random_state.\n"
   ]
  },
  {
   "cell_type": "code",
   "execution_count": null,
   "metadata": {
    "id": "SVGXmiDTn5R2"
   },
   "outputs": [],
   "source": [
    "model = DecisionTreeClassifier(random_state = 3) #Así es como especificamos qué método nos gustaría usar y cualquier parámetro.\n",
    "\n",
    "model.fit(Xtrain, ytrain) #Esta pequeña línea es cómo construimos modelos en sklearn."
   ]
  },
  {
   "cell_type": "markdown",
   "metadata": {
    "id": "ck2bc9k3n5R3"
   },
   "source": [
    "### Finalmente, podemos visualizar el árbol."
   ]
  },
  {
   "cell_type": "code",
   "execution_count": null,
   "metadata": {
    "id": "Sxnd4TBen5R3"
   },
   "outputs": [],
   "source": [
    "dot_data = StringIO()\n",
    "export_graphviz(\n",
    "            model,\n",
    "            out_file =  dot_data,\n",
    "            feature_names = ['Stellar Mass (M*)', 'Orbital Period (d)', 'Distance (AU)'],\n",
    "            class_names = ['Not Habitable','Habitable'],\n",
    "            filled = True,\n",
    "            rounded = True)\n",
    "graph = pydotplus.graph_from_dot_data(dot_data.getvalue())  \n",
    "nodes = graph.get_node_list()\n",
    "\n",
    "for node in nodes:\n",
    "    if node.get_label():\n",
    "        values = [int(ii) for ii in node.get_label().split('value = [')[1].split(']')[0].split(',')]\n",
    "        values = [255 * v / sum(values) for v in values]\n",
    "        \n",
    "        values = [int(255 * v / sum(values)) for v in values]\n",
    "            \n",
    "        if values[0] > values[1]:\n",
    "            alpha = int(values[0] - values[1])\n",
    "            alpha = '{:02x}'.format(alpha) #se convierte a hexadecimal\n",
    "            color = '#20 B2 AA'+str(alpha)\n",
    "        else:\n",
    "            alpha = int(values[1] - values[0])\n",
    "            alpha = '{:02x}'.format(alpha)\n",
    "            color = '#FF 00 FF'+str(alpha)\n",
    "        node.set_fillcolor(color)\n",
    "\n",
    "graph.set_dpi('300')\n",
    "\n",
    "Image(graph.create_png())\n",
    "\n",
    "#Imagen(gráfico.write_png('Gráfico.png'))"
   ]
  },
  {
   "cell_type": "markdown",
   "metadata": {
    "id": "cE11-2ODn5R3"
   },
   "source": [
    "### Esta es una visualización alternativa, que solo se basa en el paquete sklearn."
   ]
  },
  {
   "cell_type": "markdown",
   "metadata": {},
   "source": []
  },
  {
   "cell_type": "code",
   "execution_count": null,
   "metadata": {
    "id": "rWpC-NlZn5R3"
   },
   "outputs": [],
   "source": [
    "from sklearn import tree\n",
    "\n",
    "plt.figure(figsize=(40,20))  #personalizar de acuerdo al tamaño de tu árbol\n",
    "\n",
    "tree.plot_tree(model, feature_names = ['Stellar Mass (M*)', 'Orbital Period (d)', 'Distance (AU)'], class_names = ['Not Habitable','Habitable'])\n",
    "\n",
    "plt.show()"
   ]
  },
  {
   "cell_type": "markdown",
   "metadata": {
    "id": "vUwQkvzfn5R3"
   },
   "source": [
    "### También podemos visualizar las divisiones y luego responder algunas preguntas.\n",
    "\n",
    "\n"
   ]
  },
  {
   "cell_type": "code",
   "execution_count": null,
   "metadata": {
    "id": "6kJWwW9xn5R3"
   },
   "outputs": [],
   "source": [
    "plt.figure(figsize=(12,8))\n",
    "\n",
    "cmap = matplotlib.colors.LinearSegmentedColormap.from_list(\"\", ['#20B2AA','#FF00FF'])\n",
    "\n",
    "#Ahora trazará el conjunto de trenes y los puntos de ajuste de prueba\n",
    "#Ahora trazáramos los puntos de los conjuntos de entrenamiento y de prueba\n",
    "\n",
    "plt.scatter(TrainSet['S_MASS'], TrainSet['P_PERIOD'], marker = '*',\\\n",
    "            c = TrainSet['P_HABITABLE'], s = 100, cmap=cmap, label = 'Train')\n",
    "\n",
    "plt.scatter(TestSet['S_MASS'], TestSet['P_PERIOD'], marker = 'o',\\\n",
    "            c = TestSet['P_HABITABLE'], s = 100, cmap=cmap, label = 'Test')\n",
    "\n",
    "plt.yscale('log')\n",
    "\n",
    "plt.xlabel('Mass of Parent Star (Solar Mass Units)')\n",
    "\n",
    "plt.ylabel('Period of Orbit (days)');\n",
    "\n",
    "#Se puede agregar las divisiones en la grafica\n",
    "\n",
    "plt.axvline(x=0.83, linewidth =1, ls = '-', label = '1st split', c='k')\n",
    "\n",
    "plt.axhline(y=4.891, xmin = 0, xmax = 0.655, linewidth =1, ls = '--', label = '2nd split',c='k')\n",
    "\n",
    "plt.text(0.845, 10**3, '1st split', fontsize=14)\n",
    "         \n",
    "plt.text(0.65, 6, '2nd split', fontsize=14)\n",
    "\n",
    "#Agregar leyenda, incluyendo los objetos sin etiqueta\n",
    "\n",
    "bluepatch = mpatches.Patch(color='#20B2AA', label='Not Habitable')\n",
    "\n",
    "magentapatch = mpatches.Patch(color='#FF00FF', label='Habitable')\n",
    "\n",
    "plt.legend();\n",
    "\n",
    "ax = plt.gca()\n",
    "\n",
    "predhab = mpatches.Rectangle((0,4.891),0.83,ax.get_ylim()[1], \n",
    "                        fill = True,\n",
    "                        color = '#FF00FF',\n",
    "                        alpha = 0.3)\n",
    "\n",
    "prednothab1 = mpatches.Rectangle((0.83,ax.get_ylim()[0]),ax.get_xlim()[1],ax.get_ylim()[1], \n",
    "                        fill = True,\n",
    "                        color = '#20B2AA',\n",
    "                        alpha = 0.3)\n",
    "\n",
    "prednothab2 = mpatches.Rectangle((0,ax.get_ylim()[0]),0.83,4.891-ax.get_ylim()[0], \n",
    "                        fill = True,\n",
    "                        color = '#20B2AA',\n",
    "                        alpha = 0.3)\n",
    "\n",
    "leg = ax.get_legend()\n",
    "leg.legendHandles[2].set_color('k')\n",
    "leg.legendHandles[3].set_color('k')\n",
    "\n",
    "plt.gca().add_patch(predhab)\n",
    "plt.gca().add_patch(prednothab1)\n",
    "plt.gca().add_patch(prednothab2)\n",
    "\n",
    "leg = ax.get_legend()\n",
    "leg.legendHandles[2].set_color('k')\n",
    "leg.legendHandles[3].set_color('k')\n",
    "\n",
    "\n",
    "plt.legend(handles=[leg.legendHandles[2],leg.legendHandles[3], magentapatch, bluepatch],\\\n",
    "           loc = 'upper left', fontsize = 14);\n"
   ]
  },
  {
   "attachments": {},
   "cell_type": "markdown",
   "metadata": {
    "id": "IXga-Vq8n5R3"
   },
   "source": [
    "### Registro de aprendizaje\n",
    "    \n",
    "P: ¿Cuál es la precisión (porcentaje de clasificaciones correctas) en el conjunto de entrenamiento?\n",
    "\n",
    "<details>\n",
    "<summary style=\"display: list-item;\">¡Haga clic aquí para obtener la respuesta!</summary>\n",
    "<p>\n",
    "100%\n",
    "</p>\n",
    "</details>\n",
    "\n",
    "<br/>\n",
    "\n",
    "P: ¿Qué tal en el conjunto de prueba? (Tendrá que ejecutar el ejemplo de prueba a través del árbol o mirar la figura de arriba.)\n",
    "\n",
    "<details>\n",
    "<summary style=\"display: list-item;\">¡Haga clic aquí para obtener la respuesta!</summary>\n",
    "<p>\n",
    "3/5 or 60%   \n",
    "</p>\n",
    "</details>"
   ]
  },
  {
   "cell_type": "code",
   "execution_count": null,
   "metadata": {
    "id": "mYSFNnvmn5R3"
   },
   "outputs": [],
   "source": [
    "#Queremos, por supuesto, poder responder las preguntas en código también.\n",
    "\n",
    "ypred = model.predict(Xtest) #cómo generar etiquetas predichas en el conjunto de prueba"
   ]
  },
  {
   "cell_type": "code",
   "execution_count": null,
   "metadata": {
    "id": "6jGRW7mIn5R3"
   },
   "outputs": [],
   "source": [
    "metrics.accuracy_score(ytest, ypred) #resultado del conjunto de prueba"
   ]
  },
  {
   "cell_type": "code",
   "execution_count": null,
   "metadata": {
    "id": "CBPkcfZ4n5R3"
   },
   "outputs": [],
   "source": [
    "metrics.accuracy_score(ytrain, model.predict(Xtrain)) #resultado del conjunto de entrenamiento"
   ]
  },
  {
   "attachments": {},
   "cell_type": "markdown",
   "metadata": {
    "id": "mHD4eJ7jn5R3"
   },
   "source": [
    "### Nuestra reflexión final será un ejercicio para elegir un conjunto de entrenamiento y prueba diferente. \n"
   ]
  },
  {
   "cell_type": "code",
   "execution_count": null,
   "metadata": {
    "id": "cnTfJlndn5R3"
   },
   "outputs": [],
   "source": [
    "TrainSet2 = LearningSet.iloc[5:,:] #elegimos los primeros 5 objetos para prueba, 5:18 para entrenamiento\n",
    "\n",
    "TestSet2 = LearningSet.iloc[:5,:]"
   ]
  },
  {
   "cell_type": "markdown",
   "metadata": {
    "id": "nAGrGPCHn5R4"
   },
   "source": [
    "### Volver a realizar el proceso de nuevo..."
   ]
  },
  {
   "cell_type": "code",
   "execution_count": null,
   "metadata": {
    "id": "-jfk-MY3n5R4"
   },
   "outputs": [],
   "source": [
    "Xtrain2 = TrainSet2.drop(['P_NAME','P_HABITABLE'],axis=1)\n",
    "\n",
    "Xtest2 = TestSet2.drop(['P_NAME','P_HABITABLE'],axis=1)\n",
    "\n",
    "ytrain2 = TrainSet2.P_HABITABLE\n",
    "\n",
    "ytest2 = TestSet2.P_HABITABLE\n",
    "\n",
    "### ¡Y estamos listos para ajustar el modelo nuevamente con nuestro árbol de decisiones!\n",
    "\n",
    "model = DecisionTreeClassifier(random_state=3)\n",
    "\n",
    "model.fit(Xtrain2,ytrain2)"
   ]
  },
  {
   "cell_type": "markdown",
   "metadata": {
    "id": "J374suLin5R4"
   },
   "source": [
    "### Ahora podemos visualizar el nuevo árbol:"
   ]
  },
  {
   "cell_type": "code",
   "execution_count": null,
   "metadata": {
    "id": "apJxMVf_n5R4"
   },
   "outputs": [],
   "source": [
    "dot_data = StringIO()\n",
    "export_graphviz(\n",
    "            model,\n",
    "            out_file =  dot_data,\n",
    "            feature_names = ['Stellar Mass (M*)', 'Orbital Period (d)', 'Distance (AU)'],\n",
    "            class_names = ['Not Habitable','Habitable'],\n",
    "            filled = True,\n",
    "rounded = True)\n",
    "graph = pydotplus.graph_from_dot_data(dot_data.getvalue())  \n",
    "nodes = graph.get_node_list()\n",
    "\n",
    "for node in nodes:\n",
    "    if node.get_label():\n",
    "        values = [int(ii) for ii in node.get_label().split('value = [')[1].split(']')[0].split(',')]\n",
    "        values = [255 * v / sum(values) for v in values]\n",
    "        \n",
    "        values = [int(255 * v / sum(values)) for v in values]\n",
    "            \n",
    "        if values[0] > values[1]:\n",
    "            alpha = int(values[0] - values[1])\n",
    "            alpha = '{:02x}'.format(alpha) #se convierte a hexadecimal\n",
    "            color = '#20 B2 AA'+str(alpha)\n",
    "        else:\n",
    "            alpha = int(values[1] - values[0])\n",
    "            alpha = '{:02x}'.format(alpha)\n",
    "            color = '#FF 00 FF'+str(alpha)\n",
    "        node.set_fillcolor(color)\n",
    "\n",
    "graph.set_dpi('300')\n",
    "\n",
    "Image(graph.create_png())\n",
    "\n",
    "#Imagen(gráfico.write_png('Gráfico.png'))"
   ]
  },
  {
   "attachments": {},
   "cell_type": "markdown",
   "metadata": {
    "id": "2loka16In5R4"
   },
   "source": [
    "### Como se puede ver, ¡esto es bastante diferente a lo que teníamos antes!"
   ]
  },
  {
   "attachments": {},
   "cell_type": "markdown",
   "metadata": {
    "id": "ZcHT5X_Cn5R4"
   },
   "source": [
    "### Revisión de aprendizaje\n",
    "\n",
    "P: ¿Cuál es la precisión (porcentaje de clasificaciones correctas) en el conjunto de entrenamiento?\n",
    "\n",
    "<details>\n",
    "<summary style=\"display: list-item;\">¡Haga clic aquí para obtener la respuesta!</summary>\n",
    "<p>\n",
    "100%\n",
    "</p>\n",
    "</details>\n",
    "\n",
    "<br/>\n",
    "\n",
    "P: ¿Qué tal en el conjunto de prueba? <i>(¡Comprueba tu código en la celda de abajo!)</i>"
   ]
  },
  {
   "cell_type": "code",
   "execution_count": null,
   "metadata": {
    "id": "4XT8I8e2n5R4",
    "pycharm": {
     "name": "#%%\n"
    }
   },
   "outputs": [],
   "source": [
    "# Ingrese el código en esta celda\n",
    "\n"
   ]
  },
  {
   "cell_type": "markdown",
   "metadata": {
    "id": "CubNUivSn5R4"
   },
   "source": [
    "<details>\n",
    "<summary style=\"display: list-item;\">¡Haga clic aquí para obtener la respuesta!</summary>\n",
    "<p>\n",
    "\n",
    "```python\n",
    "metrics.accuracy_score(ytest2, model.predict(Xtest2))\n",
    "```\n",
    " \n",
    "<i>Resultado</i>\n",
    "    \n",
    "1.0\n",
    "\n",
    "</p>\n",
    "</details>"
   ]
  },
  {
   "cell_type": "markdown",
   "metadata": {
    "id": "gkTMVhIXn5R4"
   },
   "source": [
    "### Saquemos juntos algunas conclusiones…"
   ]
  },
  {
   "attachments": {},
   "cell_type": "markdown",
   "metadata": {
    "id": "Zpyxb8TOn5R4",
    "pycharm": {
     "name": "#%% md\n"
    }
   },
   "source": [
    "- ¿Fortalezas del algoritmo DT? ¡Fácil, rápido e interpretable!\n",
    "\n",
    "- ¿Limitaciones? Solo puede dividir una característica a la vez; requiere ingeniería de funciones si desea considerar combinaciones de funciones.\n",
    "\n",
    "- Posibles preocupaciones? Este conjunto de datos es probablemente demasiado pequeño para sacar conclusiones; el hecho de que las notas de prueba fluctúen tanto en respuesta a las diferentes divisiones del conjunto de entrenamiento y prueba es una indicación de esto."
   ]
  }
 ],
 "metadata": {
  "celltoolbar": "Edit Metadata",
  "colab": {
   "provenance": []
  },
  "kernelspec": {
   "display_name": "Python 3 (ipykernel)",
   "language": "python",
   "name": "python3"
  },
  "language_info": {
   "codemirror_mode": {
    "name": "ipython",
    "version": 3
   },
   "file_extension": ".py",
   "mimetype": "text/x-python",
   "name": "python",
   "nbconvert_exporter": "python",
   "pygments_lexer": "ipython3",
   "version": "3.9.12"
  }
 },
 "nbformat": 4,
 "nbformat_minor": 0
}
